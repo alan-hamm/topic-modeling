{
 "cells": [
  {
   "cell_type": "code",
   "execution_count": 1,
   "metadata": {},
   "outputs": [
    {
     "data": {
      "text/plain": [
       "'\\nThis code was written using CDC AI Chatbot. A variety of prompts were used, including questions and prompts to \\n    correct bugs, memory issues(ie too little resources available), generate comments, etc.\\n\\nOfficial Gensim, Dask documentation was used for review, correction of CDCAI bot output, and implementation. Other sources \\nfrom internet searchs(incl blogs, personal sites, stack exchange) and Gensim and Dask community sites were used as well.\\n\\nmaintenance: alan hamm(pqn7)\\napr 2024\\n'"
      ]
     },
     "execution_count": 1,
     "metadata": {},
     "output_type": "execute_result"
    }
   ],
   "source": [
    "\"\"\"\n",
    "This code was written using CDC AI Chatbot. A variety of prompts were used, including questions and prompts to \n",
    "    correct bugs, memory issues(ie too little resources available), generate comments, etc.\n",
    "\n",
    "Official Gensim, Dask documentation was used for review, correction of CDCAI bot output, and implementation. Other sources \n",
    "from internet searchs(incl blogs, personal sites, stack exchange) and Gensim and Dask community sites were used as well.\n",
    "\n",
    "maintenance: alan hamm(pqn7)\n",
    "apr 2024\n",
    "\"\"\""
   ]
  },
  {
   "cell_type": "markdown",
   "metadata": {},
   "source": [
    "## TopicFutures by Alan Hamm and Brunhilda\n",
    "\n",
    "The provided script is a comprehensive Python program that utilizes several libraries to perform \\\n",
    "Latent Dirichlet Allocation (LDA) topic modeling on text data. The script includes functionality for \\\n",
    "data preprocessing, model training, evaluation, and visualization, as well as handling distributed computing with Dask.\n",
    "\n",
    "At the beginning of the script, various libraries are imported including pyLDAvis.gensim for interactive topic model \\\n",
    "visualization, torch for deep learning operations and GPU acceleration, gensim for LDA modeling and coherence \\\n",
    "computation, and dask.distributed for parallel and distributed computing.\\\n",
    "\n",
    "The script sets up directory paths for logging, models, and visuals based on a given decade (DECADE). It checks if these \\\n",
    "directories exist and contain data; if they do, it archives their contents into a ZIP file before removing the old \\\n",
    "subdirectories. New directories are then created for the current run.\n",
    "\n",
    "Logging configuration is established to record messages in a log file. Bokeh deprecation warnings are suppressed to avoid \\\n",
    "cluttering the output with irrelevant messages.\n",
    "\n",
    "Parameters such as alpha (document-topic density) and beta (word-topic density) are defined as lists of possible values \\\n",
    "that will be used during LDA model training. These parameters influence the sparsity or density of topics in documents \\\n",
    "or words associated with topics.\n",
    "\n",
    "A function named futures_create_lda_datasets() is defined to load data from a JSON file, shuffle it, split it into training \\\n",
    "and evaluation datasets based on a specified ratio (train_ratio), and return them as delayed objects ready for parallel processing with Dask.\n",
    "\n",
    "Another function called save_model_and_log() takes care of saving trained LDA models along with their metadata into \\\n",
    "specified directories. It also logs this information into CSV files.\n",
    "\n",
    "The core function train_model() performs the actual training of LDA models using Gensim's LdaModel. It processes text documents \\\n",
    "in batches to create dictionary mappings and trains an LDA model per batch. Model performance metrics like convergence score, \\\n",
    "perplexity score, and coherence score are calculated during this process.\n",
    "\n",
    "The main execution block initializes a Dask cluster with specified worker configurations such as number of cores (CORES) and \\\n",
    "memory limits (RAM_MEMORY_LIMIT). A Dask client is created to manage tasks across workers. Training and evaluation datasets \\\n",
    "are prepared by calling the aforementioned functions. These datasets are scattered across workers for efficient parallel processing.\n",
    "\n",
    "A series of nested loops iterate over combinations of topic numbers (n_topics), alpha values (alpha_values), \\\n",
    "and beta values (beta_values) to submit training tasks for both the training and evaluation datasets. These tasks are \\\n",
    "submitted to the Dask client, which distributes them across the available workers.\n",
    "\n",
    "The script employs a progress bar from tqdm to visualize the progress of model creation and saving. It uses a batch processing \\\n",
    "approach where it waits for a certain number of futures (asynchronous task results) to complete before processing their \\\n",
    "results. If some futures do not complete within a specified timeout (TIMEOUT), they are recorded as failed and an attempt is \\\n",
    "made to retry them with an extended timeout (EXTENDED_TIMEOUT).\n",
    "\n",
    "Once all models have been trained or reattempted, any remaining incomplete models' parameters are logged for review, indicating \\\n",
    "that these models did not successfully complete even after a second attempt.\n",
    "\n",
    "Throughout the script, various utility functions such as os, json, random, csv, and others are used for file operations, \\\n",
    "data manipulation, random shuffling of data, and logging results in CSV format.\n",
    "\n",
    "It's important to note that this script assumes certain global variables like DECADE, DATA_SOURCE, TRAIN_RATIO, CORES,\\\n",
    "THREADS_PER_CORE, etc., are defined elsewhere in the code or environment since they are referenced but not explicitly \\\n",
    "defined within the provided code snippet.\n",
    "\n",
    "Overall, this script is designed for robust LDA topic modeling with extensive parameter exploration while leveraging distributed \\\n",
    "computing resources efficiently. It includes error handling mechanisms such as retries for failed tasks and comprehensive\\\n",
    "logging which aids in debugging and optimizing model performance.\n",
    "\n",
    "The script is structured to handle large-scale topic modeling tasks in a distributed computing environment. After setting up\\\n",
    " the Dask client and workers, it proceeds to create training and evaluation datasets from a specified data source (DATA_SOURCE) \\\n",
    " using the futures_create_lda_datasets function. The resulting datasets are then scattered across the Dask cluster's workers \\\n",
    " for parallel processing.\n",
    "\n",
    "For model training, the script defines a train_model function that takes several parameters including the number of topics, \\\n",
    "alpha and beta values, and the dataset. This function processes text documents in batches, updating a global dictionary with \\\n",
    "each batch and training an LDA model using Gensim's LdaModel. It computes various performance metrics for each batch such as \\\n",
    "convergence score, perplexity score, and coherence score.\n",
    "\n",
    "The main execution loop iterates over different combinations of model hyperparameters (number of topics, alpha values, beta values) \\\n",
    "and submits two sets of futures to the Dask client: one for training models on the training data (train_futures) and another \\\n",
    "for evaluating models on the evaluation data (eval_futures). These futures are monitored for completion, with progress tracked by a tqdm progress bar.\n",
    "\n",
    "If any futures do not complete within the given timeout period (TIMEOUT), they are added to a list of failed model parameters \\\n",
    "(failed_model_params) for later analysis. The script includes functionality to retry processing these incomplete futures with \\\n",
    "an extended timeout (EXTENDED_TIMEOUT). Once all models have been processed or reattempted, any remaining incomplete models' \\\n",
    "parameters are logged using both standard output and a performance logger (perf_logger).\n",
    "\n",
    "Finally, upon completion or failure of all tasks, the script closes the Dask client and provides an overview of which model parameters \\\n",
    "did not complete successfully after retries. This information can be used to diagnose potential issues in model training or resource \\\n",
    "allocation within the distributed computing setup.\n",
    "\n",
    "In summary, this script is designed as an end-to-end solution for performing LDA topic modeling at scale. It incorporates best \\\n",
    "practices such as error handling through retries, logging important events and metrics for post-analysis, utilizing distributed\\\n",
    " computing resources effectively via Dask, and providing user feedback through progress bars. Users looking to employ this script \\\n",
    " should ensure they have set up their environment correctly with all necessary variables defined and have access to sufficient \\\n",
    " computational resources managed by Dask."
   ]
  },
  {
   "cell_type": "code",
   "execution_count": 2,
   "metadata": {
    "tags": []
   },
   "outputs": [],
   "source": [
    "import pyLDAvis.gensim  # Library for interactive topic model visualization\n",
    "from tqdm import tqdm  # Creates progress bars to visualize the progress of loops or tasks\n",
    "from gensim.models import LdaModel  # Implements LDA for topic modeling using the Gensim library\n",
    "from gensim.corpora import Dictionary  # Represents a collection of text documents as a bag-of-words corpus\n",
    "from gensim.models import CoherenceModel  # Computes coherence scores for topic models\n",
    "\n",
    "\n",
    "import os  # Provides functions for interacting with the operating system, such as creating directories\n",
    "import itertools  # Provides various functions for efficient iteration and combination of elements\n",
    "import numpy as np  # Library for numerical computing in Python, used for array operations and calculations\n",
    "from time import time, sleep # Measures the execution time of code snippets or functions\n",
    "import pprint as pp  # Pretty-printing library, used here to format output in a readable way\n",
    "import pandas as pd\n",
    "import logging # Logging module for generating log messages\n",
    "import sys # Provides access to some variables used or maintained by the interpreter and to functions that interact with the interpreter \n",
    "import shutil # High-level file operations such as copying and removal \n",
    "import zipfile # Provides tools to create, read, write, append, and list a ZIP file\n",
    "from tqdm.notebook import tqdm  # Creates progress bars in Jupyter Notebook environment\n",
    "from json import load\n",
    "import random\n",
    "import logging\n",
    "import csv\n",
    "import pprint as pp\n",
    "from pandas.api.types import CategoricalDtype\n",
    "from typing import Union, List\n",
    "import math\n",
    "from scipy import stats\n",
    "\n",
    "from dask.distributed import as_completed\n",
    "import dask   # Parallel computing library that scales Python workflows across multiple cores or machines \n",
    "from dask.distributed import Client, LocalCluster, wait   # Distributed computing framework that extends Dask functionality \n",
    "from dask.diagnostics import ProgressBar   # Visualizes progress of Dask computations\n",
    "from dask.distributed import progress\n",
    "from dask.delayed import Delayed # Decorator for creating delayed objects in Dask computations\n",
    "#from dask.distributed import as_completed\n",
    "from dask.bag import Bag\n",
    "from dask import delayed\n",
    "import dask.config\n",
    "#from dask.distributed import wait\n",
    "from dask.distributed import performance_report, wait, as_completed #,print\n",
    "from distributed import get_worker\n",
    "import gc\n",
    "\n"
   ]
  },
  {
   "cell_type": "code",
   "execution_count": 3,
   "metadata": {},
   "outputs": [],
   "source": [
    "import logging\n",
    "from datetime import datetime\n",
    "\n",
    "DECADE_TO_PROCESS ='2010s'\n",
    "LOG_DIRECTORY = f\"C:/_harvester/data/lda-models/{DECADE_TO_PROCESS}_html/log/\"\n",
    "# Ensure the LOG_DIRECTORY exists\n",
    "os.makedirs(LOG_DIRECTORY, exist_ok=True)\n",
    "\n",
    "# Get the current date and time\n",
    "now = datetime.now()\n",
    "\n",
    "# Format the date and time as per your requirement\n",
    "# Note: %w is the day of the week as a decimal (0=Sunday, 6=Saturday)\n",
    "#       %Y is the four-digit year\n",
    "#       %m is the two-digit month (01-12)\n",
    "#       %H%M is the hour (00-23) followed by minute (00-59) in 24hr format\n",
    "log_filename = now.strftime('log-%w-%m-%Y-%H%M.log')\n",
    "LOGFILE = os.path.join(LOG_DIRECTORY,log_filename)\n",
    "\n",
    "# Configure logging to write to a file with this name\n",
    "logging.basicConfig(\n",
    "    filename=LOGFILE,\n",
    "    filemode='a',  # Append mode if you want to keep adding to the same file during the day\n",
    "    format='%(asctime)s - %(levelname)s - %(message)s',\n",
    "    datefmt='%Y-%m-%d %H:%M:%S',\n",
    "    level=logging.INFO\n",
    ")\n",
    "\n",
    "# Now when you use logging.info(), logging.debug(), etc., it will write to that log file."
   ]
  },
  {
   "cell_type": "code",
   "execution_count": 4,
   "metadata": {
    "tags": []
   },
   "outputs": [],
   "source": [
    "# define the decade that is being modelled \n",
    "DECADE_TO_PROCESS = '2010s'\n",
    "\n",
    "LOG_DIRECTORY = f\"C:/_harvester/data/lda-models/{DECADE_TO_PROCESS}_html/log/\"\n",
    "\n",
    "\n",
    "LOGFILE = os.path.join(LOG_DIRECTORY,'log-file.log')\n",
    "\n",
    "# Configure logging to write to a file with this name\n",
    "logging.basicConfig(\n",
    "    filename=log_filename,\n",
    "    filemode='a',  # Append mode if you want to keep adding to the same file during the day\n",
    "    format='%(asctime)s - %(levelname)s - %(message)s',\n",
    "    datefmt='%Y-%m-%d %H:%M:%S',\n",
    "    level=logging.INFO\n",
    ")"
   ]
  },
  {
   "cell_type": "code",
   "execution_count": 5,
   "metadata": {
    "tags": []
   },
   "outputs": [],
   "source": [
    "# Dask dashboard throws deprecation warnings w.r.t. Bokeh\n",
    "import warnings\n",
    "from bokeh.util.deprecation import BokehDeprecationWarning\n",
    "\n",
    "# Disable Bokeh deprecation warnings\n",
    "warnings.filterwarnings(\"ignore\", category=BokehDeprecationWarning)\n",
    "# Filter out the specific warning message\n",
    "warnings.filterwarnings(\"ignore\", module=\"distributed.utils_perf\")"
   ]
  },
  {
   "cell_type": "code",
   "execution_count": 6,
   "metadata": {
    "tags": []
   },
   "outputs": [
    {
     "data": {
      "text/plain": [
       "<dask.config.set at 0x23ef76b2a10>"
      ]
     },
     "execution_count": 6,
     "metadata": {},
     "output_type": "execute_result"
    }
   ],
   "source": [
    "\n",
    "# Define the range of number of topics for LDA and step size\n",
    "START_TOPICS = 48\n",
    "END_TOPICS = 62\n",
    "STEP_SIZE = 2\n",
    "\n",
    "# define the decade that is being modelled \n",
    "DECADE = DECADE_TO_PROCESS\n",
    "\n",
    "# In the case of this machine, since it has an Intel Core i9 processor with 8 physical cores (16 threads with Hyper-Threading), \n",
    "# it would be appropriate to set the number of workers in Dask Distributed LocalCluster to 8 or slightly lower to allow some CPU \n",
    "# resources for other tasks running on your system.\n",
    "CORES = 10\n",
    "\n",
    "THREADS_PER_CORE = 2\n",
    "\n",
    "RAM_MEMORY_LIMIT = \"100GB\" \n",
    "\n",
    "# Specify the local directory path\n",
    "DASK_DIR = '/_harvester/tmp-dask-out'\n",
    "\n",
    "# specify the number of passes for Gensim LdaModel\n",
    "PASSES = 10\n",
    "\n",
    "# specify the number of iterations\n",
    "ITERATIONS = 10\n",
    "\n",
    "# specify the chunk size for LdaModel object\n",
    "CHUNKSIZE = 2750\n",
    "\n",
    "# Constants for adaptive batching and retries\n",
    "# Number of futures to process per iteration\n",
    "BATCH_SIZE = 10000 # number of documents\n",
    "\n",
    "MAX_BATCH_SIZE = 3 # number of combinations\n",
    "INCREASE_FACTOR = 1.5  # Increase batch size by 50% upon success\n",
    "DECREASE_FACTOR = 0.5  # Decrease batch size by 50% upon failure or timeout\n",
    "MAX_RETRIES = 5        # Maximum number of retries per task\n",
    "BASE_WAIT_TIME = 1     # Base wait time in seconds for exponential backoff\n",
    "\n",
    "# Load data from the JSON file\n",
    "DATA_SOURCE = \"C:/_harvester/data/tokenized-sentences/10s/tokenized_min_five_word-w-bigrams.json\"\n",
    "TRAIN_RATIO = 0.7\n",
    "\n",
    "TIMEOUT = None #\"90 minutes\"\n",
    "\n",
    "EXTENDED_TIMEOUT = None #\"120 minutes\"\n",
    "\n",
    "CPU_UTILIZATION_THRESHOLD = 95 # ie 95%\n",
    "\n",
    "# Enable serialization optimizations\n",
    "dask.config.set(scheduler='distributed', serialize=True)\n",
    "\n",
    "# dask.config.set({\"distributed.scheduler.worker-ttl\": None})\n",
    "#dask.config.set({\"distributed.scheduler.worker-ttl\": None})"
   ]
  },
  {
   "attachments": {
    "image.png": {
     "image/png": "[encoded data removed]"
    }
   },
   "cell_type": "markdown",
   "metadata": {},
   "source": [
    "## Technical Documentation for LDA Model Data Management System\n",
    "### Overview\n",
    "The LDA Model Data Management System is designed to efficiently store and manage large volumes of text data and associated \\\n",
    "metadata generated by Latent Dirichlet Allocation (LDA) models. The system allows for quick access to text data based on \\\n",
    "queries of the metadata, facilitating dynamic generation of pyLDAvis objects or other topic analysis visualizations. \n",
    "\n",
    "### System Structure\n",
    "The system comprises a top-level directory with several subdirectories designated for logs, visuals, metadata, and compressed \\\n",
    "text data. Each large body of text is stored as an individual ZIP file to save space, while metadata is stored in a Parquet \\\n",
    "file for efficient querying.\n",
    "\n",
    "**Directory Structure**\n",
    "* ROOT_DIR: The base directory containing all data related to the LDA models. \\\n",
    "* LOG_DIR: A subdirectory within ROOT_DIR that stores log files.\\\n",
    "* IMAGE_DIR: A subdirectory within ROOT_DIR that stores visualization files such as images or charts.\\\n",
    "* METADATA_DIR: A subdirectory within ROOT_DIR that stores metadata in a Parquet file.\\\n",
    "* TEXTS_ZIP_DIR: A subdirectory within ROOT_DIR where each text file is saved as an individual ZIP archive.\\\n",
    "\n",
    "**File Formats**\n",
    "* **Parquet**: Used for storing metadata due to its efficiency in storage size and speed when querying columns.\n",
    "* **ZIP**: Used for compressing individual text files to minimize disk space usage.\n",
    "\n",
    "### Functions\n",
    "**save_text_to_zip**(text_data) \\\n",
    "Saves a given string of text data into a ZIP file within the TEXTS_ZIP_DIR.\n",
    "**Parameters**:\n",
    "* text_data (str): The string content representing the body of text to be saved.\n",
    "**Returns**:\n",
    "* (str): The path to the created ZIP file containing the text data.\n",
    "\n",
    "**add_model_data_to_metadata**(model_data) \\\n",
    "Adds new model data entries to the existing metadata Parquet file. If no Parquet file exists, it creates one.\n",
    "**Parameters**:\n",
    "* model_data (dict): A dictionary containing model-related information including texts and various scores like convergence, perplexity, coherence, etc.\n",
    "**Side Effects**:\n",
    "* Updates or creates a Parquet file at METADATA_DIR/metadata.parquet.\n",
    "\n",
    "**get_text_from_zip**(zip_path)\n",
    "Reads and returns the content of a specified text from its corresponding ZIP archive.\n",
    "**Parameters**:\n",
    "* zip_path (str): The path to the ZIP archive containing the text data.\n",
    "**Returns**:\n",
    "* (str): The text content extracted from the ZIP file.\n",
    "\n",
    "**load_texts_for_analysis**(metadata_path, coherence_threshold=0.7) \n",
    "Loads metadata from a Parquet file and retrieves texts that meet specified criteria, such as a minimum coherence score.\\\n",
    "**Parameters**:\n",
    "* metadata_path (str): The path to the metadata Parquet file.\n",
    "* coherence_threshold (float, optional): The threshold for filtering records based on their coherence score. Defaults to 0.7.\n",
    "**Returns**:\n",
    "* (list of str): A list of text contents that meet the specified criteria.\n",
    "    \n",
    "### Usage\n",
    "To use this system, follow these steps:\n",
    "\n",
    "1. Ensure that all necessary directories (LOG_DIR, IMAGE_DIR, METADATA_DIR, TEXTS_ZIP_DIR) are created within the top-level directory (ROOT_DIR).\n",
    "2. When new model data is generated, create a dictionary with keys corresponding to metadata fields and a 'text' key containing a list of large bodies of text.\n",
    "3. Call add_model_data_to_metadata(new_model_data) to save the text data into individual ZIP files and update or create the metadata Parquet file with references to these ZIP files.\n",
    "4. To retrieve texts for analysis based on metadata queries, call load_texts_for_analysis(parquet_file_path). You can specify a different coherence threshold if needed.\n",
    "5. For any specific text retrieval based on its ZIP archive path, use get_text_from_zip(zip_path)\n",
    "\n",
    "![image.png](attachment:image.png)\n",
    "\n",
    "## Maintenance\n",
    "The system requires minimal maintenance:\n",
    "* Periodically check the available disk space in case the volume of stored texts grows significantly.\n",
    "* Backup important data regularly, especially the Parquet file containing metadata and references to text files.\n",
    "* Update directory paths and"
   ]
  },
  {
   "cell_type": "code",
   "execution_count": 7,
   "metadata": {},
   "outputs": [],
   "source": [
    "import gc\n",
    "def garbage_collection(development: bool, location: str):\n",
    "    if development:\n",
    "        # Enable debugging flags for leak statistics\n",
    "        gc.set_debug(gc.DEBUG_LEAK)\n",
    "\n",
    "    # Before calling collect, get a count of existing objects\n",
    "    before = len(gc.get_objects())\n",
    "\n",
    "    # Perform garbage collection\n",
    "    collected = gc.collect()\n",
    "\n",
    "    # After calling collect, get a new count of existing objects\n",
    "    after = len(gc.get_objects())\n",
    "\n",
    "    # Print or log before and after counts along with number collected\n",
    "    logging.info(f\"Garbage Collection at {location}:\")\n",
    "    logging.info(f\"  Before GC: {before} objects\")\n",
    "    logging.info(f\"  After GC: {after} objects\")\n",
    "    logging.info(f\"  Collected: {collected} objects\\n\")\n",
    "\n",
    "    if development:\n",
    "        # Disable debugging flags when done to avoid excessive logging output\n",
    "        gc.set_debug(0)"
   ]
  },
  {
   "cell_type": "code",
   "execution_count": 8,
   "metadata": {
    "tags": []
   },
   "outputs": [],
   "source": [
    "import os\n",
    "import pandas as pd\n",
    "import zipfile\n",
    "\n",
    "# Define the top-level directory and subdirectories\n",
    "DECADE = \"2010s\"  # Replace with your actual decade value\n",
    "ROOT_DIR = f\"C:/_harvester/data/lda-models/{DECADE}_html\"\n",
    "LOG_DIR = os.path.join(ROOT_DIR, \"logs\")\n",
    "IMAGE_DIR = os.path.join(ROOT_DIR, \"visuals\")\n",
    "METADATA_DIR = os.path.join(ROOT_DIR, \"metadata\")\n",
    "TEXTS_ZIP_DIR = os.path.join(ROOT_DIR, \"texts_zip\")\n",
    "\n",
    "# Ensure that all necessary directories exist\n",
    "os.makedirs(LOG_DIR, exist_ok=True)\n",
    "os.makedirs(IMAGE_DIR, exist_ok=True)\n",
    "os.makedirs(METADATA_DIR, exist_ok=True)\n",
    "os.makedirs(TEXTS_ZIP_DIR, exist_ok=True)\n",
    "\n",
    "# Function to save text data to a zip file and return the path\n",
    "def save_text_to_zip(text_data):\n",
    "    # Generate a unique filename based on current timestamp\n",
    "    timestamp_str = pd.Timestamp.now().strftime('%Y%m%d%H%M%S%f')\n",
    "    text_zip_filename = f\"text_{timestamp_str}.zip\"\n",
    "    \n",
    "    # Write the text content to a zip file within TEXTS_ZIP_DIR\n",
    "    zip_path = os.path.join(TEXTS_ZIP_DIR, text_zip_filename)\n",
    "    with zipfile.ZipFile(zip_path, mode='w', compression=zipfile.ZIP_DEFLATED) as zf:\n",
    "        zf.writestr(\"text.txt\", text_data)\n",
    "    \n",
    "    return zip_path\n",
    "\n",
    "# Function to add new model data to metadata Parquet file\n",
    "def add_model_data_to_metadata(model_data):\n",
    "    # Save large body of text to zip and update model_data reference\n",
    "    texts_zipped = []\n",
    "    for text_list in model_data['text']:\n",
    "        combined_text = ' '.join([''.join(sent) for sent in text_list])  # Combine all sentences into one string\n",
    "        zip_path = save_text_to_zip(combined_text)\n",
    "        texts_zipped.append(zip_path)\n",
    "    # Update model data with zipped paths\n",
    "    model_data['text'] = texts_zipped\n",
    "\n",
    "     # Ensure other fields are not lists, or if they are, they should have only one element per model\n",
    "    for key, value in model_data.items():\n",
    "        if isinstance(value, list) and key != 'text':\n",
    "            assert len(value) == 1, f\"Field {key} has multiple elements\"\n",
    "            model_data[key] = value[0]  # Unwrap single-element list\n",
    "               \n",
    "    # Define the expected data types for each column\n",
    "    expected_dtypes = {\n",
    "        'text': object,  # Use object dtype for lists of strings (file paths)\n",
    "        'convergence': 'float64',\n",
    "        'perplexity': 'float64',\n",
    "        'coherence_mean': 'float64',\n",
    "        'coherence_mode': 'float64',\n",
    "        'coherence_median': 'float64',\n",
    "        'coherence_std': 'float64',\n",
    "        'topics': int,\n",
    "        # Use pd.Categorical.dtype for categorical columns\n",
    "        # Ensure alpha and beta are already categorical when passed into this function\n",
    "        # They should not be wrapped again with CategoricalDtype here.\n",
    "        'alpha_str': list,\n",
    "        'n_alpha': 'float64',\n",
    "        'beta_str': list,\n",
    "        'n_beta': 'float64',\n",
    "        # Enforce datetime type for time\n",
    "        'time': 'datetime64[ns]',\n",
    "    }   \n",
    "\n",
    "    try:\n",
    "        #df_new_metadata = pd.DataFrame({key: [value] if not isinstance(value, list) else value \n",
    "        #                                for key, value in model_data.items()}).astype(expected_dtypes)\n",
    "        # Create a new DataFrame without enforcing dtypes initially\n",
    "        df_new_metadata = pd.DataFrame({key: [value] if not isinstance(value, list) else value \n",
    "                                        for key, value in model_data.items()})\n",
    "        \n",
    "        # Apply type conversion selectively\n",
    "        #for col_name in ['convergence', 'perplexity', 'coherence', 'n_beta', 'n_alpha']:\n",
    "        for col_name in ['convergence', 'perplexity', 'n_beta', 'n_alpha']:\n",
    "            df_new_metadata[col_name] = df_new_metadata[col_name].astype('float64')\n",
    "            \n",
    "        df_new_metadata['topics'] = df_new_metadata['topics'].astype(int)\n",
    "        df_new_metadata['time'] = pd.to_datetime(df_new_metadata['time'])\n",
    "    except ValueError as e:\n",
    "        # Initialize an error message list\n",
    "        error_messages = [f\"Error converting model_data to DataFrame with enforced dtypes: {e}\"]\n",
    "        \n",
    "        \n",
    "        # Iterate over each item in model_data to collect its key, expected dtype, and actual value\n",
    "        for key, value in model_data.items():\n",
    "            expected_dtype = expected_dtypes.get(key, 'No expected dtype specified')\n",
    "            actual_dtype = type(value).__name__\n",
    "            error_messages.append(f\"Column: {key}, Expected dtype: {expected_dtype}, Actual dtype: {actual_dtype}, Value: {value}\")\n",
    "        \n",
    "        # Join all error messages into a single string\n",
    "        full_error_message = \"\\n\".join(error_messages)\n",
    "\n",
    "        logging.error(full_error_message)\n",
    "\n",
    "        raise ValueError(\"Data type mismatch encountered during DataFrame conversion. Detailed log available.\")\n",
    "    \n",
    "    # Path to the metadata Parquet file\n",
    "    parquet_file_path = os.path.join(METADATA_DIR, \"metadata.parquet\")\n",
    "    \n",
    "    # Check if the Parquet file already exists\n",
    "    if os.path.exists(parquet_file_path): \n",
    "        # If it exists, read the existing metadata and append the new data \n",
    "        df_metadata = pd.read_parquet(parquet_file_path) \n",
    "        df_metadata = pd.concat([df_metadata, df_new_metadata], ignore_index=True) \n",
    "    else: \n",
    "        # If it doesn't exist, use the new data as the starting point \n",
    "        df_metadata = df_new_metadata\n",
    "\n",
    "    # Save updated metadata DataFrame back to Parquet file\n",
    "    df_metadata.to_parquet(parquet_file_path)\n",
    "\n",
    "\n",
    "# Function to read a specific text from its zip file based on metadata query\n",
    "def get_text_from_zip(zip_path): \n",
    "    with zipfile.ZipFile(zip_path, 'r') as zf: \n",
    "        return zf.read('text.txt').decode('utf-8')\n",
    "\n",
    "# Example usage: Load metadata and retrieve texts based on some criteria\n",
    "def load_texts_for_analysis(metadata_path, coherence_threshold=0.7): \n",
    "    # Load the metadata into a DataFrame \n",
    "    df_metadata = pd.read_parquet(metadata_path)\n",
    "\n",
    "    # Filter metadata based on some criteria (e.g., coherence > threshold)\n",
    "    filtered_metadata = df_metadata[df_metadata['coherence'] > coherence_threshold]\n",
    "\n",
    "    # Retrieve and decompress associated texts from their zip files\n",
    "    texts = [get_text_from_zip(zip_path) for zip_path in filtered_metadata['text']]\n",
    "\n",
    "    return texts"
   ]
  },
  {
   "cell_type": "code",
   "execution_count": 9,
   "metadata": {
    "tags": []
   },
   "outputs": [],
   "source": [
    "PERFORMANCE_TRAIN_LOG = os.path.join(LOG_DIR, \"train_model_performance.html\")\n",
    "# INCLUDE EVAL AND TRAINING DATA OUTPUT FILEPATHS HERE"
   ]
  },
  {
   "cell_type": "code",
   "execution_count": 10,
   "metadata": {
    "tags": []
   },
   "outputs": [],
   "source": [
    "\n",
    "num_topics = len(range(START_TOPICS, END_TOPICS + 1, STEP_SIZE))\n",
    "\n",
    "# Calculate numeric_alpha for symmetric prior\n",
    "numeric_symmetric = 1.0 / num_topics\n",
    "# Calculate numeric_alpha for asymmetric prior (using best judgment)\n",
    "numeric_asymmetric = 1.0 / (num_topics + np.sqrt(num_topics))\n",
    "# Create the list with numeric values\n",
    "numeric_alpha = [numeric_symmetric, numeric_asymmetric] + np.arange(0.01, 1, 0.3).tolist()\n",
    "numeric_beta = [numeric_symmetric] + np.arange(0.01, 1, 0.3).tolist()\n",
    "\n",
    "\n",
    "# The parameter `alpha` in Latent Dirichlet Allocation (LDA) represents the concentration parameter of the Dirichlet \n",
    "# prior distribution for the topic-document distribution.\n",
    "# It controls the sparsity of the resulting document-topic distributions.\n",
    "\n",
    "# A lower value of `alpha` leads to sparser distributions, meaning that each document is likely to be associated with fewer topics.\n",
    "# Conversely, a higher value of `alpha` encourages documents to be associated with more topics, resulting in denser distributions.\n",
    "\n",
    "# The choice of `alpha` affects the balance between topic diversity and document specificity in LDA modeling.\n",
    "alpha_values = ['symmetric', 'asymmetric']\n",
    "alpha_values += np.arange(0.01, 1, 0.3).tolist()\n",
    "\n",
    "# In Latent Dirichlet Allocation (LDA) topic analysis, the beta parameter represents the concentration \n",
    "# parameter of the Dirichlet distribution used to model the topic-word distribution. It controls the \n",
    "# sparsity of topics by influencing how likely a given word is to be assigned to a particular topic.\n",
    "\n",
    "# A higher value of beta encourages topics to have a more uniform distribution over words, resulting in more \n",
    "# general and diverse topics. Conversely, a lower value of beta promotes sparser topics with fewer dominant words.\n",
    "\n",
    "# The choice of beta can impact the interpretability and granularity of the discovered topics in LDA.\n",
    "beta_values = ['symmetric']\n",
    "beta_values += np.arange(0.01, 1, 0.3).tolist()\n"
   ]
  },
  {
   "cell_type": "code",
   "execution_count": 11,
   "metadata": {},
   "outputs": [],
   "source": [
    "from decimal import Decimal\n",
    "def calculate_numeric_alpha(alpha_str, num_topics=num_topics):\n",
    "    if alpha_str == 'symmetric':\n",
    "        return Decimal('1.0') / num_topics\n",
    "    elif alpha_str == 'asymmetric':\n",
    "        return Decimal('1.0') / (num_topics + Decimal(num_topics).sqrt())\n",
    "    else:\n",
    "        # Use Decimal for arbitrary precision\n",
    "        return Decimal(alpha_str)\n",
    "\n",
    "def calculate_numeric_beta(beta_str, num_topics=num_topics):\n",
    "    if beta_str == 'symmetric':\n",
    "        return Decimal('1.0') / num_topics\n",
    "    else:\n",
    "        # Use Decimal for arbitrary precision\n",
    "        return Decimal(beta_str)\n",
    "\n",
    "def validate_alpha_beta(alpha_str, beta_str):\n",
    "    valid_strings = ['symmetric', 'asymmetric']\n",
    "    if isinstance(alpha_str, str) and alpha_str not in valid_strings:\n",
    "        logging.error(f\"Invalid alpha_str value: {alpha_str}. Must be 'symmetric', 'asymmetric', or a numeric value.\")\n",
    "        raise ValueError(f\"Invalid alpha_str value: {alpha_str}. Must be 'symmetric', 'asymmetric', or a numeric value.\")\n",
    "    if isinstance(beta_str, str) and beta_str not in valid_strings:\n",
    "        logging.error(f\"Invalid beta_str value: {beta_str}. Must be 'symmetric', or a numeric value.\")\n",
    "        raise ValueError(f\"Invalid beta_str value: {beta_str}. Must be 'symmetric', or a numeric value.\")"
   ]
  },
  {
   "cell_type": "code",
   "execution_count": 12,
   "metadata": {
    "tags": []
   },
   "outputs": [],
   "source": [
    "\"\"\"\n",
    "!!! DO NOT EXECUTE THIS CELL OR ANY CELL USING IT WITHOUT FIRSST\n",
    "!!! UPDATING THE OUTPUT FILEPATH FOR THE TRAINING AND EVAL DATA\n",
    "\"\"\"\n",
    "import os\n",
    "from json import load\n",
    "import random\n",
    "\n",
    "def get_num_records(filename):\n",
    "    with open(filename, 'r') as jsonfile:\n",
    "        data = load(jsonfile)\n",
    "        data = data[:10]\n",
    "        num_samples = len(data)  # Count the total number of samples\n",
    "    return num_samples\n",
    "\n",
    "import os\n",
    "import json\n",
    "from random import shuffle\n",
    "\n",
    "def load(jsonfile):\n",
    "    return json.load(jsonfile)\n",
    "\n",
    "def futures_create_lda_datasets(filename, train_ratio, batch_size):\n",
    "    with open(filename, 'r') as jsonfile:\n",
    "        data = load(jsonfile)\n",
    "        data = data[:10]\n",
    "        num_samples = len(data)  # Count the total number of samples\n",
    "        \n",
    "        # Shuffle data indices since we can't shuffle actual lines in a file efficiently\n",
    "        indices = list(range(num_samples))\n",
    "        shuffle(indices)\n",
    "        \n",
    "        num_train_samples = int(num_samples * train_ratio)  # Calculate number of samples for training\n",
    "        \n",
    "        cumulative_count = 0  # Initialize cumulative count\n",
    "        \n",
    "        # Yield batches as dictionaries for both train and eval datasets along with their sample count\n",
    "        for i in range(0, num_train_samples, batch_size):\n",
    "            train_indices_batch = indices[i:i + batch_size]\n",
    "            train_data_batch = [data[idx] for idx in train_indices_batch]\n",
    "            cumulative_count += len(train_data_batch)\n",
    "            \n",
    "            yield {\n",
    "                'type': 'train',\n",
    "                'data': train_data_batch,\n",
    "                'indices_batch': train_indices_batch,\n",
    "                'cumulative_count': cumulative_count,\n",
    "                'num_samples': num_samples,\n",
    "                'whole_dataset': data[:num_train_samples]\n",
    "            }\n",
    "\n",
    "        for i in range(num_train_samples, num_samples, batch_size):\n",
    "            eval_indices_batch = indices[i:i + batch_size]\n",
    "            eval_data_batch = [data[idx] for idx in eval_indices_batch]\n",
    "            cumulative_count += len(eval_data_batch)\n",
    "            \n",
    "            yield {\n",
    "                'type': 'eval',\n",
    "                'data': eval_data_batch,\n",
    "                'indices_batch': eval_indices_batch,\n",
    "                'cumulative_count': cumulative_count,\n",
    "                'num_samples': num_samples,\n",
    "                'whole_dataset': data[num_train_samples:]\n",
    "            }\n",
    "    garbage_collection(False,'futures_create_lda_datasets(...)')"
   ]
  },
  {
   "cell_type": "code",
   "execution_count": 13,
   "metadata": {},
   "outputs": [],
   "source": [
    "# create training and eval dictionaries used in train_model(...) method\n",
    "def create_dictionary(filename):\n",
    "    with open(filename, 'r') as jsonfile:\n",
    "        data = load(jsonfile)\n",
    "        num_samples = len(data)  # Count the total number of samples\n",
    "        logging.info(f\"The min five with bigrams has {num_samples} sentences\")\n",
    "        return data\n",
    "minfivedict = create_dictionary(DATA_SOURCE)"
   ]
  },
  {
   "cell_type": "code",
   "execution_count": 14,
   "metadata": {},
   "outputs": [],
   "source": [
    "#pp.pprint(minfivedict)"
   ]
  },
  {
   "cell_type": "code",
   "execution_count": 15,
   "metadata": {
    "tags": []
   },
   "outputs": [],
   "source": [
    "\n",
    "\"\"\"\n",
    "This method trains a Latent Dirichlet Allocation (LDA) model using the Gensim library. Here is a breakdown of the steps involved:\n",
    "\n",
    "    (1)The method takes in parameters such as the number of topics (n_topics), alpha and beta hyperparameters, data (a list of documents), \n",
    "        and train_eval (a boolean indicating whether it's training or evaluation).\n",
    "\n",
    "    (2)If train_eval is True, a logging configuration is set up to log training information to a file named \"train-model.log\". \n",
    "        Otherwise, it logs to \"eval-model.log\".\n",
    "\n",
    "    (3) Two empty lists, combined_corpus and combined_text, are initialized to store the combined corpus and text.\n",
    "\n",
    "    (4) The number of passes for training the LDA model is set to 11.\n",
    "\n",
    "    (5) A loop iterates over each document in the data list. Inside the loop:\n",
    "            - A Gensim Dictionary object is created from the current document.\n",
    "            - The document is converted into a bag-of-words representation using doc2bow().\n",
    "            - A PerplexityMetric object is created to track perplexity during training.\n",
    "            - If combined_text is empty, indicating that it's the first iteration:\n",
    "                The initial LDA model is trained using LdaModel() with parameters such as corpus, \n",
    "                id2word (the dictionary), num_topics, alpha, beta, random_state, passes, iterations, chunksize, and per_word_topics.\n",
    "\n",
    "            - Otherwise:\n",
    "                The existing LDA model is updated with new data using lda_model_gensim.update(corpus).\n",
    "                The current document's text and corpus are added to combined_text and combined_corpus respectively.\n",
    "\n",
    "    (6) Logging is shut down.\n",
    "\n",
    "    (7) Finally, the trained LDA model (lda_model_gensim), combined_corpus, and combined_text are returned.\n",
    "\"\"\"\n",
    "\n",
    "\n",
    "def train_model(n_topics: int, alpha_str: list, beta_str: list, data: list, full_datafile=None, chunksize=BATCH_SIZE):\n",
    "    try:\n",
    "        models_data = []\n",
    "        coherehce_score_list = []\n",
    "        corpus_batch = []\n",
    "        texts_batch = []\n",
    "        #print(\"this is an investigation into the full datafile\")\n",
    "        #pp.pprint(full_datafile)\n",
    "        # Convert the Delayed object to a Dask Bag and compute it to get the actual data\n",
    "        try:\n",
    "            streaming_documents = dask.compute(*data)\n",
    "            #print(\"these are the streaming documents\")\n",
    "            #print(streaming_documents)\n",
    "            garbage_collection(False, 'train_model(): streaming_documents = dask.compute(*data)')\n",
    "        except Exception as e:\n",
    "            logging.error(f\"Error computing streaming_documents data: {e}\")\n",
    "            raise\n",
    "        #print(type(streaming_documents))  # Should output <class 'tuple'>\n",
    "        #print(streaming_documents[0][0])     # Check the first element to see if it's as expected\n",
    "\n",
    "        # Create a new Gensim Dictionary for the current batch\n",
    "        dictionary_batch = Dictionary(full_datafile)\n",
    "        \n",
    "        num_documents = len(streaming_documents)\n",
    "\n",
    "\n",
    "        batch_size = chunksize  # Number of documents to process per iteration\n",
    "            \n",
    "        for start_index in range(0, num_documents, batch_size):\n",
    "            end_index = min(start_index + batch_size, num_documents)\n",
    "\n",
    "            # Select documents for current batch\n",
    "            batch_documents = streaming_documents[start_index:end_index]\n",
    "            #print(\"we are focusing on batch_documents:\")\n",
    "            #print(batch_documents[:5])\n",
    "            #print(\"we have printed the first 5 lists.\")\n",
    "\n",
    "\n",
    "            #logger.info(\"we are outside: for texts_out in batch_documents\")\n",
    "            for texts_out in batch_documents:\n",
    "                #print('this is the structure of batch_documents', batch_documents)\n",
    "                #print(\"this is the value of texts out\", texts_out)\n",
    "                #logger.info(f\"we are inside: for texts_out in batch_documents with texts_out length: {len(texts_out)}\")\n",
    "                #logger.info(f\"we are inside: for texts_out in batch_documents with texts_out length: {texts_out}\\n\")\n",
    "\n",
    "                #dictionary_batch.add_documents(texts_out)\n",
    "                #try:\n",
    "                bow_out = dictionary_batch.doc2bow(texts_out[0])\n",
    "                corpus_batch.append(bow_out)\n",
    "                #logger.info(f\"HERE IS THE TEXT for corpus_batch using LOGGER: {corpus_batch}\\n\")\n",
    "                #except Exception as e:\n",
    "                #    logger.error(f\"An unexpected error occurred with BOW_OUT: {e}\")\n",
    "                \n",
    "                if isinstance(texts_out[0], list):\n",
    "                    texts_batch.append(texts_out[0])\n",
    "                else:\n",
    "                    logging.error(\"Expected texts_out to be a list of strings (words), got:\", texts_out[0])\n",
    "                    raise ValueError(\"Expected texts_out to be a list of strings (words), got:\", texts_out[0])\n",
    "                #print(\"this is texts batch\", texts_batch)\n",
    "                n_alpha = calculate_numeric_alpha(alpha_str)\n",
    "                n_beta = calculate_numeric_beta(beta_str)\n",
    "            try:\n",
    "                #logger.info(\"we are inside the try block at the beginning\")\n",
    "                lda_model_gensim = LdaModel(corpus=corpus_batch,\n",
    "                                            id2word=dictionary_batch,\n",
    "                                            num_topics=n_topics,\n",
    "                                            alpha= float(n_alpha),\n",
    "                                            eta= float(n_beta),\n",
    "                                            random_state=75,\n",
    "                                            passes=PASSES,\n",
    "                                            iterations=ITERATIONS,\n",
    "                                            chunksize=CHUNKSIZE,\n",
    "                                            per_word_topics=True)\n",
    "                #logger.info(\"we are inside the try block after the constructor\")\n",
    "                garbage_collection(False, 'train_model(): LdaModel constructor')\n",
    "                with np.errstate(divide='ignore', invalid='ignore'):\n",
    "                    #try:\n",
    "                    #print(f\"we are claculating the coherence value using combined_text: {combined_text}\")\n",
    "                    #print(\"this is the content of text_batch\", texts_batch)\n",
    "                    coherence_model_lda = CoherenceModel(model=lda_model_gensim, processes=math.floor(CORES*(2/3)), dictionary=dictionary_batch, texts=full_datafile, coherence='c_v') \n",
    "                    coherence_score = coherence_model_lda.get_coherence()\n",
    "                    print(f\"coherence: {coherence_score}, n_alpha: {n_alpha}, alpha_str: {alpha_str}, n_beta: {n_beta}, beta_str: {beta_str}\")\n",
    "                    coherehce_score_list.append(coherence_score)\n",
    "                    garbage_collection(False, 'train_model(): coherence value calculation')\n",
    "                    #except Exception as e:\n",
    "                    #    logger.info(\"there was an issue calculating coherence score\\n\")\n",
    "                    #    sys.exit()\n",
    "            except Exception as e:\n",
    "                logging.error(f\"An error occurred during LDA model training: {e}\")\n",
    "                raise  # Optionally re-raise the exception if you want it to propagate further      \n",
    "\n",
    "\n",
    "            try:\n",
    "                convergence_score = lda_model_gensim.bound(corpus_batch)\n",
    "            except Exception as e:\n",
    "                logging.error(\"there was an issue calculating convergence score\\n\")\n",
    "            \n",
    "            try:\n",
    "                perplexity_score = lda_model_gensim.log_perplexity(corpus_batch)\n",
    "            except RuntimeWarning as e:\n",
    "                logging.info(\"there was an issue calculating perplexity score. value 'Inf' has been assigned.\\n\")\n",
    "                perplexity_score = float('inf')\n",
    "                sys.exit()\n",
    "            zipped_texts = []\n",
    "\n",
    "            garbage_collection(False, 'train_model(): convergence and perplexity score calculations')\n",
    "\n",
    "            for doc_index, texts_out in enumerate(batch_documents[0]):\n",
    "                combined_text = ''\n",
    "                combined_text_dict = {}\n",
    "\n",
    "                for word_index, word in enumerate(texts_out):\n",
    "                    combined_text += (' ' + word) if combined_text else word\n",
    "                    if word_index not in combined_text_dict.keys():\n",
    "                        #print(\"this is the combined_text\", combined_text)\n",
    "                        combined_text_dict[word_index] = combined_text\n",
    "\n",
    "            my_string = \" \".join(str(element) for element in batch_documents[0][0])\n",
    "            #print(\"this is the concatenated sent\", my_string)\n",
    "            zip_path = save_text_to_zip(my_string)\n",
    "            zipped_texts.append(zip_path)\n",
    "                    #print(f\"we are claculating the coherence value using combined_text at {word_index}: {combined_text_dict[word_index]}\")\n",
    "\n",
    "\n",
    "            # Convert numeric beta value to string if necessary\n",
    "            if isinstance(beta_str, float):\n",
    "                beta_str = str(beta_str)\n",
    "            \n",
    "            # Convert numeric alpha value to string if necessary\n",
    "            if isinstance(alpha_str, float):\n",
    "                alpha_str = str(alpha_str)\n",
    "\n",
    "            current_increment_data = {\n",
    "                'text': [zipped_texts],\n",
    "                'convergence': convergence_score,\n",
    "                'perplexity': perplexity_score,\n",
    "                'coherence_mean': np.mean(coherehce_score_list),\n",
    "                'coherence_mode': stats.mode(coherehce_score_list),\n",
    "                'coherence_median': np.median(coherehce_score_list),\n",
    "                'coherence_std': np.std(coherehce_score_list),\n",
    "                'topics': n_topics,\n",
    "                'alpha_str': [alpha_str],\n",
    "                'n_alpha': calculate_numeric_alpha(alpha_str),\n",
    "                'beta_str': [beta_str],\n",
    "                'n_beta': calculate_numeric_beta(beta_str),\n",
    "                'time': pd.to_datetime('now')\n",
    "            }\n",
    "\n",
    "            models_data.append(current_increment_data)\n",
    "\n",
    "\n",
    "        return models_data\n",
    "    finally:\n",
    "        del models_data, streaming_documents, num_documents, batch_documents, \\\n",
    "            lda_model_gensim, combined_text, combined_text_dict, dictionary_batch, bow_out, corpus_batch # ,\\\n",
    "            #current_increment_data \n"
   ]
  },
  {
   "cell_type": "code",
   "execution_count": 16,
   "metadata": {
    "tags": []
   },
   "outputs": [],
   "source": [
    "\"\"\"\n",
    "                    - The `process_completed_future` function is called when all futures in a batch complete within the specified timeout. It \n",
    "                        can be used to continue with your program using both completed training and evaluation futures.\n",
    "                    - The `retry_processing` function is called when there are incomplete futures after iterating through a batch of \n",
    "                        data. It can be used to retry processing with those incomplete futures.\n",
    "                    - The code checks if there are any remaining futures in the lists after completing all iterations. If so, it \n",
    "                        waits for them to complete and handles them accordingly.\n",
    "\"\"\"\n",
    "\n",
    "# List to store parameters of models that failed to complete even after a retry\n",
    "failed_model_params = []\n",
    "\n",
    "# Mapping from futures to their corresponding parameters (n_topics, alpha_value, beta_value)\n",
    "future_to_params = {}\n",
    "def process_completed_futures(completed_train_futures, completed_eval_futures, log_dir):\n",
    "    # Process training futures\n",
    "    for future in completed_train_futures:\n",
    "        try:\n",
    "            # Retrieve the result of the training future\n",
    "            models_data = future.result()  # This should be a list of dictionaries\n",
    "            #print(\"this is the value of models data:\", models_data)\n",
    "            \n",
    "            # Iterate over each model's data and save it\n",
    "            for model_data in models_data:\n",
    "                #save_model_and_log(model_data=model_data, log_dir=log_dir, train_or_eval=True)\n",
    "                add_model_data_to_metadata(model_data)\n",
    "            del models_data\n",
    "        except Exception as e:\n",
    "            logging.error(f\"Error occurred during training: {e}\")\n",
    "            sys.exit()\n",
    "\n",
    "    # Process evaluation futures\n",
    "    for future in completed_eval_futures:\n",
    "        try:\n",
    "            # Retrieve the result of the evaluation future\n",
    "            models_data = future.result()  # This should be a list of dictionaries\n",
    "            \n",
    "            # Iterate over each model's data and save it\n",
    "            for model_data in models_data:\n",
    "                #save_model_and_log(model_data=model_data, log_dir=log_dir, train_or_eval=False)\n",
    "                add_model_data_to_metadata(model_data)\n",
    "            del models_data\n",
    "        except Exception as e:\n",
    "            logging.error(f\"Error occurred during evaluation: {e}\")\n",
    "            sys.exit()\n",
    "    #garbage_collection(False, 'process_completed_futures(...)')\n",
    "\n",
    "            \n",
    "# Function to retry processing with incomplete futures\n",
    "def retry_processing(incomplete_train_futures, incomplete_eval_futures, timeout):\n",
    "    # Retry processing with incomplete futures using an extended timeout\n",
    "    done, not_done = wait(incomplete_train_futures + incomplete_eval_futures, timeout=None, return_when='FIRST_COMPLETED')\n",
    "    \n",
    "    # Process completed ones\n",
    "    process_completed_futures([f for f in done if f in incomplete_train_futures],\n",
    "                              [f for f in done if f in incomplete_eval_futures],\n",
    "                              LOG_DIR)\n",
    "    \n",
    "    # Record parameters of still incomplete futures for later review\n",
    "    failed_model_params.extend(future_to_params[future] for future in not_done)\n",
    "\n",
    "    #garbage_collection(False, 'retry_processing(...)')"
   ]
  },
  {
   "cell_type": "code",
   "execution_count": 17,
   "metadata": {},
   "outputs": [],
   "source": [
    "# Dictionary to keep track of retries for each task\n",
    "task_retries = {}\n",
    "\n",
    "# Function to perform exponential backoff\n",
    "def exponential_backoff(attempt):\n",
    "    return BASE_WAIT_TIME * (2 ** attempt)\n",
    "\n",
    "# Function to handle failed futures and potentially retry them\n",
    "def handle_failed_future(future, future_to_params, train_futures, eval_futures, client):\n",
    "    params = future_to_params[future]\n",
    "    attempt = task_retries.get(params, 0)\n",
    "    \n",
    "    if attempt < MAX_RETRIES:\n",
    "        print(f\"Retrying task {params} (attempt {attempt + 1}/{MAX_RETRIES})\")\n",
    "        wait_time = exponential_backoff(attempt)\n",
    "        time.sleep(wait_time)  \n",
    "        \n",
    "        task_retries[params] = attempt + 1\n",
    "        \n",
    "        new_future_train = client.submit(train_model, *params)\n",
    "        new_future_eval = client.submit(train_model, *params)\n",
    "        \n",
    "        future_to_params[new_future_train] = params\n",
    "        future_to_params[new_future_eval] = params\n",
    "        \n",
    "        train_futures.append(new_future_train)\n",
    "        eval_futures.append(new_future_eval)\n",
    "    else:\n",
    "        print(f\"Task {params} failed after {MAX_RETRIES} attempts. No more retries.\")\n",
    "\n",
    "    #garbage_collection(False,'handle_failed_future')"
   ]
  },
  {
   "cell_type": "markdown",
   "metadata": {},
   "source": [
    "## Asynchronous Execution as said by Brunhilda:\n",
    "\n",
    "Asynchronous execution allows you to execute tasks concurrently, without waiting for each task to complete before moving on \\\n",
    "to the next one. This can improve the overall efficiency and speed of your program.\n",
    "\n",
    "In the given code snippet, asynchronous execution is achieved using Dask's as_completed function. This function takes a list \\\n",
    "of futures (representing tasks) and returns an iterator that yields futures as they complete.\n",
    "\n",
    "Here's how it works:\n",
    "\n",
    "&nbsp;&nbsp;&nbsp;&nbsp;(1) First, you submit all your training and evaluation tasks using client.submit(). These tasks are represented by futures. \\\n",
    "&nbsp;&nbsp;&nbsp;&nbsp;(2) You add callback functions (callback_train and callback_eval) to these futures using the add_done_callback() method. These callbacks will be executed when their respective futures complete.\\\n",
    "&nbsp;&nbsp;&nbsp;&nbsp;(3) You create two lists, train_futures and eval_futures, to store the futures for training and evaluation models respectively.\\\n",
    "&nbsp;&nbsp;&nbsp;&nbsp;(4) After submitting all the tasks, you enter a loop where you iterate over the range of values for n_topics, alpha_value, and beta_value.\\\n",
    "&nbsp;&nbsp;&nbsp;&nbsp;(5) Inside this loop, you submit the training and evaluation tasks for each combination of parameters using client.submit(). These new futures are added to their respective lists.\\\n",
    "&nbsp;&nbsp;&nbsp;&nbsp;(6) Next, you use the as_completed function to iterate over both lists of futures (train_futures and eval_futures). This function returns an iterator that yields completed futures as they become available.\\\n",
    "&nbsp;&nbsp;&nbsp;&nbsp;(7) As each future completes, its associated callback function (callback_train or callback_eval) is executed.\\\n",
    "&nbsp;&nbsp;&nbsp;&nbsp;(8) Inside these callback functions, you retrieve the result of the completed future using .result(). You can then save the trained or evaluated model using the provided save_model_and_log function.\\\n",
    "&nbsp;&nbsp;&nbsp;&nbsp;(9) The loop continues until all combinations of parameters have been processed.\\\n",
    "&nbsp;&nbsp;&nbsp;&nbsp;(10) Finally, after all models have been saved and logged, you close the Dask client. \n",
    "\n",
    "By utilizing asynchronous execution with Dask's as_completed, your program can process multiple tasks concurrently while still ensuring that each model is saved once its associated task has completed."
   ]
  },
  {
   "cell_type": "code",
   "execution_count": 18,
   "metadata": {
    "tags": []
   },
   "outputs": [
    {
     "name": "stdout",
     "output_type": "stream",
     "text": [
      "Dask client is connected to a scheduler.\n",
      "Dask workers are running.\n",
      "Creating training and evaluation samples...\n"
     ]
    },
    {
     "data": {
      "application/vnd.jupyter.widget-view+json": {
       "model_id": "a9247b3c06644ea6bd601f7d37c3da67",
       "version_major": 2,
       "version_minor": 0
      },
      "text/plain": [
       "  0%|          | 0/10 [00:00<?, ?it/s]"
      ]
     },
     "metadata": {},
     "output_type": "display_data"
    },
    {
     "name": "stdout",
     "output_type": "stream",
     "text": [
      "Completed creation of training and evaluation samples in 0.07 minutes.\n",
      "\n",
      "Data scatter complete...\n",
      "\n",
      "there are 240 total number of topics and hyperparameters\n",
      "the random sample contains 48\n",
      "this leaves 192 remaining\n",
      "\n"
     ]
    },
    {
     "data": {
      "application/vnd.jupyter.widget-view+json": {
       "model_id": "60253d86fb804161b717443bd56cce9b",
       "version_major": 2,
       "version_minor": 0
      },
      "text/plain": [
       "Creating and saving models:   0%|          | 0/96 [00:00<?, ?it/s]"
      ]
     },
     "metadata": {},
     "output_type": "display_data"
    },
    {
     "name": "stdout",
     "output_type": "stream",
     "text": [
      "\n",
      "Evaluating if adaptive throttling is necessary (method exponential backoff)...\n",
      "Adaptive throttling (attempt 0 of 4  for LdaModel hyperparameters combination -- topic: 48, ALPHA: symmetric and ETA symmetric\n",
      "Adaptive throttling (method: exponential backoff) completed in 1.10 seconds\n",
      "\n",
      "\n",
      "Evaluating if adaptive throttling is necessary (method exponential backoff)...\n",
      "Adaptive throttling (method: exponential backoff) was not necessary...\n",
      "\n",
      "\n",
      "Evaluating if adaptive throttling is necessary (method exponential backoff)...\n",
      "Adaptive throttling (method: exponential backoff) was not necessary...\n",
      "\n",
      "\n",
      "Evaluating if adaptive throttling is necessary (method exponential backoff)...\n",
      "Adaptive throttling (method: exponential backoff) was not necessary...\n",
      "\n",
      "\n",
      "Evaluating if adaptive throttling is necessary (method exponential backoff)...\n",
      "Adaptive throttling (attempt 0 of 4  for LdaModel hyperparameters combination -- topic: 48, ALPHA: symmetric and ETA 0.9099999999999999\n",
      "coherence: 0.38841809604116273, n_alpha: 0.125, alpha_str: symmetric, n_beta: 0.125, beta_str: symmetric\n",
      "Adaptive throttling (attempt 1 of 4  for LdaModel hyperparameters combination -- topic: 48, ALPHA: symmetric and ETA 0.9099999999999999\n",
      "coherence: 0.3749182452466339, n_alpha: 0.125, alpha_str: symmetric, n_beta: 0.125, beta_str: symmetric\n",
      "coherence: 0.38841809604116273, n_alpha: 0.125, alpha_str: symmetric, n_beta: 0.01000000000000000020816681711721685132943093776702880859375, beta_str: 0.01\n",
      "coherence: 0.3749182452466339, n_alpha: 0.125, alpha_str: symmetric, n_beta: 0.01000000000000000020816681711721685132943093776702880859375, beta_str: 0.01\n",
      "Adaptive throttling (attempt 2 of 4  for LdaModel hyperparameters combination -- topic: 48, ALPHA: symmetric and ETA 0.9099999999999999\n",
      "Adaptive throttling (method: exponential backoff) completed in 12.35 seconds\n",
      "\n",
      "\n",
      "Evaluating if adaptive throttling is necessary (method exponential backoff)...\n",
      "coherence: 0.38841809604116273, n_alpha: 0.125, alpha_str: symmetric, n_beta: 0.309999999999999997779553950749686919152736663818359375, beta_str: 0.31\n",
      "coherence: 0.3749182452466339, n_alpha: 0.125, alpha_str: symmetric, n_beta: 0.60999999999999998667732370449812151491641998291015625, beta_str: 0.61\n",
      "coherence: 0.38841809604116273, n_alpha: 0.125, alpha_str: symmetric, n_beta: 0.60999999999999998667732370449812151491641998291015625, beta_str: 0.61\n",
      "coherence: 0.3709601760986443, n_alpha: 0.125, alpha_str: symmetric, n_beta: 0.309999999999999997779553950749686919152736663818359375, beta_str: 0.31\n",
      "Adaptive throttling (attempt 0 of 4  for LdaModel hyperparameters combination -- topic: 48, ALPHA: asymmetric and ETA symmetric\n",
      "Adaptive throttling (attempt 1 of 4  for LdaModel hyperparameters combination -- topic: 48, ALPHA: asymmetric and ETA symmetric\n",
      "Adaptive throttling (method: exponential backoff) completed in 7.28 seconds\n",
      "\n",
      "\n",
      "Evaluating if adaptive throttling is necessary (method exponential backoff)...\n",
      "coherence: 0.38841809604116273, n_alpha: 0.125, alpha_str: symmetric, n_beta: 0.9099999999999999200639422269887290894985198974609375, beta_str: 0.9099999999999999\n",
      "coherence: 0.38283438354261295, n_alpha: 0.125, alpha_str: symmetric, n_beta: 0.9099999999999999200639422269887290894985198974609375, beta_str: 0.9099999999999999\n",
      "Adaptive throttling (attempt 0 of 4  for LdaModel hyperparameters combination -- topic: 48, ALPHA: asymmetric and ETA 0.01\n",
      "Adaptive throttling (attempt 1 of 4  for LdaModel hyperparameters combination -- topic: 48, ALPHA: asymmetric and ETA 0.01\n",
      "Adaptive throttling (method: exponential backoff) completed in 5.22 seconds\n",
      "\n",
      "\n",
      "Evaluating if adaptive throttling is necessary (method exponential backoff)...\n",
      "coherence: 0.3885356953547648, n_alpha: 0.09234951562953231968565397412, alpha_str: asymmetric, n_beta: 0.125, beta_str: symmetric\n",
      "coherence: 0.3867924526906026, n_alpha: 0.09234951562953231968565397412, alpha_str: asymmetric, n_beta: 0.125, beta_str: symmetric\n",
      "Adaptive throttling (attempt 0 of 4  for LdaModel hyperparameters combination -- topic: 48, ALPHA: asymmetric and ETA 0.31\n",
      "Adaptive throttling (attempt 1 of 4  for LdaModel hyperparameters combination -- topic: 48, ALPHA: asymmetric and ETA 0.31\n",
      "Adaptive throttling (method: exponential backoff) completed in 5.58 seconds\n",
      "\n",
      "\n",
      "Evaluating if adaptive throttling is necessary (method exponential backoff)...\n",
      "Adaptive throttling (attempt 0 of 4  for LdaModel hyperparameters combination -- topic: 48, ALPHA: asymmetric and ETA 0.61\n",
      "coherence: 0.38841809604116273, n_alpha: 0.09234951562953231968565397412, alpha_str: asymmetric, n_beta: 0.01000000000000000020816681711721685132943093776702880859375, beta_str: 0.01\n",
      "coherence: 0.3749182452466339, n_alpha: 0.09234951562953231968565397412, alpha_str: asymmetric, n_beta: 0.01000000000000000020816681711721685132943093776702880859375, beta_str: 0.01\n",
      "Adaptive throttling (attempt 1 of 4  for LdaModel hyperparameters combination -- topic: 48, ALPHA: asymmetric and ETA 0.61\n",
      "Adaptive throttling (method: exponential backoff) completed in 5.07 seconds\n",
      "\n",
      "\n",
      "Evaluating if adaptive throttling is necessary (method exponential backoff)...\n",
      "Adaptive throttling (attempt 0 of 4  for LdaModel hyperparameters combination -- topic: 48, ALPHA: asymmetric and ETA 0.9099999999999999\n",
      "coherence: 0.3884180960411628, n_alpha: 0.09234951562953231968565397412, alpha_str: asymmetric, n_beta: 0.309999999999999997779553950749686919152736663818359375, beta_str: 0.31\n",
      "coherence: 0.3867924526906026, n_alpha: 0.09234951562953231968565397412, alpha_str: asymmetric, n_beta: 0.309999999999999997779553950749686919152736663818359375, beta_str: 0.31\n",
      "Adaptive throttling (attempt 1 of 4  for LdaModel hyperparameters combination -- topic: 48, ALPHA: asymmetric and ETA 0.9099999999999999\n",
      "coherence: 0.38841809604116273, n_alpha: 0.09234951562953231968565397412, alpha_str: asymmetric, n_beta: 0.60999999999999998667732370449812151491641998291015625, beta_str: 0.61\n",
      "coherence: 0.3867924526906026, n_alpha: 0.09234951562953231968565397412, alpha_str: asymmetric, n_beta: 0.60999999999999998667732370449812151491641998291015625, beta_str: 0.61\n",
      "Adaptive throttling (method: exponential backoff) completed in 6.93 seconds\n",
      "\n",
      "\n",
      "Evaluating if adaptive throttling is necessary (method exponential backoff)...\n",
      "Adaptive throttling (attempt 0 of 4  for LdaModel hyperparameters combination -- topic: 48, ALPHA: 0.01 and ETA symmetric\n",
      "Adaptive throttling (attempt 1 of 4  for LdaModel hyperparameters combination -- topic: 48, ALPHA: 0.01 and ETA symmetric\n",
      "Adaptive throttling (method: exponential backoff) completed in 3.06 seconds\n",
      "\n",
      "\n",
      "Evaluating if adaptive throttling is necessary (method exponential backoff)...\n",
      "Adaptive throttling (method: exponential backoff) was not necessary...\n",
      "\n",
      "\n",
      "Evaluating if adaptive throttling is necessary (method exponential backoff)...\n",
      "coherence: 0.38841809604116273, n_alpha: 0.09234951562953231968565397412, alpha_str: asymmetric, n_beta: 0.9099999999999999200639422269887290894985198974609375, beta_str: 0.9099999999999999\n",
      "coherence: 0.3867924526906026, n_alpha: 0.09234951562953231968565397412, alpha_str: asymmetric, n_beta: 0.9099999999999999200639422269887290894985198974609375, beta_str: 0.9099999999999999\n",
      "Adaptive throttling (attempt 0 of 4  for LdaModel hyperparameters combination -- topic: 48, ALPHA: 0.01 and ETA 0.31\n",
      "Adaptive throttling (attempt 1 of 4  for LdaModel hyperparameters combination -- topic: 48, ALPHA: 0.01 and ETA 0.31\n",
      "Adaptive throttling (method: exponential backoff) completed in 6.51 seconds\n",
      "\n",
      "\n",
      "Evaluating if adaptive throttling is necessary (method exponential backoff)...\n",
      "coherence: 0.3448070976793665, n_alpha: 0.01000000000000000020816681711721685132943093776702880859375, alpha_str: 0.01, n_beta: 0.125, beta_str: symmetric\n",
      "coherence: 0.3016939660088269, n_alpha: 0.01000000000000000020816681711721685132943093776702880859375, alpha_str: 0.01, n_beta: 0.125, beta_str: symmetric\n",
      "coherence: 0.3448070976793665, n_alpha: 0.01000000000000000020816681711721685132943093776702880859375, alpha_str: 0.01, n_beta: 0.01000000000000000020816681711721685132943093776702880859375, beta_str: 0.01coherence: 0.3016939660088269, n_alpha: 0.01000000000000000020816681711721685132943093776702880859375, alpha_str: 0.01, n_beta: 0.01000000000000000020816681711721685132943093776702880859375, beta_str: 0.01\n",
      "\n",
      "Adaptive throttling (method: exponential backoff) was not necessary...\n",
      "\n",
      "\n",
      "Evaluating if adaptive throttling is necessary (method exponential backoff)...\n",
      "Adaptive throttling (attempt 0 of 4  for LdaModel hyperparameters combination -- topic: 48, ALPHA: 0.01 and ETA 0.9099999999999999\n",
      "Adaptive throttling (attempt 1 of 4  for LdaModel hyperparameters combination -- topic: 48, ALPHA: 0.01 and ETA 0.9099999999999999\n",
      "Adaptive throttling (attempt 2 of 4  for LdaModel hyperparameters combination -- topic: 48, ALPHA: 0.01 and ETA 0.9099999999999999\n",
      "coherence: 0.3016939660088269, n_alpha: 0.01000000000000000020816681711721685132943093776702880859375, alpha_str: 0.01, n_beta: 0.309999999999999997779553950749686919152736663818359375, beta_str: 0.31\n",
      "coherence: 0.3448070976793665, n_alpha: 0.01000000000000000020816681711721685132943093776702880859375, alpha_str: 0.01, n_beta: 0.309999999999999997779553950749686919152736663818359375, beta_str: 0.31\n",
      "coherence: 0.3016939660088269, n_alpha: 0.01000000000000000020816681711721685132943093776702880859375, alpha_str: 0.01, n_beta: 0.60999999999999998667732370449812151491641998291015625, beta_str: 0.61\n",
      "coherence: 0.3448070976793665, n_alpha: 0.01000000000000000020816681711721685132943093776702880859375, alpha_str: 0.01, n_beta: 0.60999999999999998667732370449812151491641998291015625, beta_str: 0.61\n",
      "Adaptive throttling (method: exponential backoff) completed in 9.18 seconds\n",
      "\n",
      "\n",
      "Evaluating if adaptive throttling is necessary (method exponential backoff)...\n",
      "Adaptive throttling (attempt 0 of 4  for LdaModel hyperparameters combination -- topic: 48, ALPHA: 0.31 and ETA symmetric\n",
      "Adaptive throttling (attempt 1 of 4  for LdaModel hyperparameters combination -- topic: 48, ALPHA: 0.31 and ETA symmetric\n",
      "Adaptive throttling (method: exponential backoff) completed in 3.45 seconds\n",
      "\n",
      "\n",
      "Evaluating if adaptive throttling is necessary (method exponential backoff)...\n",
      "Adaptive throttling (attempt 0 of 4  for LdaModel hyperparameters combination -- topic: 48, ALPHA: 0.31 and ETA 0.01\n",
      "coherence: 0.3448070976793665, n_alpha: 0.01000000000000000020816681711721685132943093776702880859375, alpha_str: 0.01, n_beta: 0.9099999999999999200639422269887290894985198974609375, beta_str: 0.9099999999999999\n",
      "coherence: 0.3016939660088269, n_alpha: 0.01000000000000000020816681711721685132943093776702880859375, alpha_str: 0.01, n_beta: 0.9099999999999999200639422269887290894985198974609375, beta_str: 0.9099999999999999\n",
      "Adaptive throttling (attempt 1 of 4  for LdaModel hyperparameters combination -- topic: 48, ALPHA: 0.31 and ETA 0.01\n",
      "Adaptive throttling (method: exponential backoff) completed in 5.03 seconds\n",
      "\n",
      "\n",
      "Evaluating if adaptive throttling is necessary (method exponential backoff)...\n",
      "Adaptive throttling (attempt 0 of 4  for LdaModel hyperparameters combination -- topic: 48, ALPHA: 0.31 and ETA 0.31\n",
      "coherence: 0.38841809604116273, n_alpha: 0.309999999999999997779553950749686919152736663818359375, alpha_str: 0.31, n_beta: 0.125, beta_str: symmetric\n",
      "coherence: 0.3709601760986443, n_alpha: 0.309999999999999997779553950749686919152736663818359375, alpha_str: 0.31, n_beta: 0.125, beta_str: symmetric\n",
      "Adaptive throttling (attempt 1 of 4  for LdaModel hyperparameters combination -- topic: 48, ALPHA: 0.31 and ETA 0.31\n",
      "Adaptive throttling (method: exponential backoff) completed in 5.53 seconds\n",
      "\n",
      "\n",
      "Evaluating if adaptive throttling is necessary (method exponential backoff)...\n",
      "Adaptive throttling (attempt 0 of 4  for LdaModel hyperparameters combination -- topic: 48, ALPHA: 0.31 and ETA 0.61\n",
      "coherence: 0.38841809604116273, n_alpha: 0.309999999999999997779553950749686919152736663818359375, alpha_str: 0.31, n_beta: 0.01000000000000000020816681711721685132943093776702880859375, beta_str: 0.01\n",
      "coherence: 0.3749182452466339, n_alpha: 0.309999999999999997779553950749686919152736663818359375, alpha_str: 0.31, n_beta: 0.01000000000000000020816681711721685132943093776702880859375, beta_str: 0.01\n",
      "Adaptive throttling (attempt 1 of 4  for LdaModel hyperparameters combination -- topic: 48, ALPHA: 0.31 and ETA 0.61\n",
      "Adaptive throttling (method: exponential backoff) completed in 4.84 seconds\n",
      "\n",
      "\n",
      "Evaluating if adaptive throttling is necessary (method exponential backoff)...\n",
      "Adaptive throttling (method: exponential backoff) was not necessary...\n",
      "\n",
      "\n",
      "Evaluating if adaptive throttling is necessary (method exponential backoff)...\n",
      "coherence: 0.38841809604116273, n_alpha: 0.309999999999999997779553950749686919152736663818359375, alpha_str: 0.31, n_beta: 0.309999999999999997779553950749686919152736663818359375, beta_str: 0.31\n",
      "coherence: 0.3749182452466339, n_alpha: 0.309999999999999997779553950749686919152736663818359375, alpha_str: 0.31, n_beta: 0.309999999999999997779553950749686919152736663818359375, beta_str: 0.31\n",
      "Adaptive throttling (attempt 0 of 4  for LdaModel hyperparameters combination -- topic: 48, ALPHA: 0.61 and ETA symmetric\n",
      "Adaptive throttling (attempt 1 of 4  for LdaModel hyperparameters combination -- topic: 48, ALPHA: 0.61 and ETA symmetric\n",
      "Adaptive throttling (method: exponential backoff) completed in 6.04 seconds\n",
      "\n",
      "\n",
      "Evaluating if adaptive throttling is necessary (method exponential backoff)...\n",
      "Adaptive throttling (attempt 0 of 4  for LdaModel hyperparameters combination -- topic: 48, ALPHA: 0.61 and ETA 0.01\n",
      "coherence: 0.38841809604116273, n_alpha: 0.309999999999999997779553950749686919152736663818359375, alpha_str: 0.31, n_beta: 0.60999999999999998667732370449812151491641998291015625, beta_str: 0.61\n",
      "coherence: 0.3729392106726391, n_alpha: 0.309999999999999997779553950749686919152736663818359375, alpha_str: 0.31, n_beta: 0.60999999999999998667732370449812151491641998291015625, beta_str: 0.61\n",
      "coherence: 0.38841809604116273, n_alpha: 0.309999999999999997779553950749686919152736663818359375, alpha_str: 0.31, n_beta: 0.9099999999999999200639422269887290894985198974609375, beta_str: 0.9099999999999999\n"
     ]
    },
    {
     "name": "stderr",
     "output_type": "stream",
     "text": [
      "2024-04-24 07:13:26,954 - distributed.worker - WARNING - Compute Failed\n",
      "Key:       train_model-42f3924ea2b5371ccde3c74c6679d699\n",
      "Function:  train_model\n",
      "args:      (48, 0.31, 0.9099999999999999, [[['proportion', 'variable', 'calculate', 'use', 'expansion', 'factor', 'original', 'sampling', 'design', 'survey', 'calculate_use', 'sampling_design'], ['resident', 'compare', 'nonsignificant', 'decrease', 'observe', 'number', 'malaria', 'infection', 'acquire', 'country', 'widespread', 'transmission', 'case', 'responsible_content', 'find_site', 'overweight_obese', 'responsible_content_find_site', 'overweight_obese', 'tetanus_pertussis', 'contextual_factor', 'responsible_content_find_site', 'overweight_obese', 'responsible_content_find_site', 'overweight_obese', 'normal_overweight', 'weight_status', 'responsible_content_find_site', 'overweight_obese', 'responsible_content_find_site', 'overweight_obese_tetanus_pertussis', 'contextual_factor', 'responsible_content_find_site', 'overweight_obese', 'responsible_content_find_site', 'overweight_obese_normal_overweight', 'weight_status'], ['low', 'immunization', 'rate', 'overall', 'measle', 'mump', 'tetanus', 'pe\n",
      "kwargs:    {}\n",
      "Exception: 'UnboundLocalError(\"local variable \\'combined_text\\' referenced before assignment\")'\n",
      "\n"
     ]
    },
    {
     "name": "stdout",
     "output_type": "stream",
     "text": [
      "Adaptive throttling (attempt 1 of 4  for LdaModel hyperparameters combination -- topic: 48, ALPHA: 0.61 and ETA 0.01\n",
      "Adaptive throttling (attempt 2 of 4  for LdaModel hyperparameters combination -- topic: 48, ALPHA: 0.61 and ETA 0.01\n",
      "coherence: 0.36898114152464956, n_alpha: 0.60999999999999998667732370449812151491641998291015625, alpha_str: 0.61, n_beta: 0.125, beta_str: symmetric\n",
      "coherence: 0.38841809604116273, n_alpha: 0.60999999999999998667732370449812151491641998291015625, alpha_str: 0.61, n_beta: 0.125, beta_str: symmetric\n",
      "Adaptive throttling (method: exponential backoff) completed in 10.57 seconds\n",
      "\n",
      "\n",
      "Evaluating if adaptive throttling is necessary (method exponential backoff)...\n",
      "Adaptive throttling (method: exponential backoff) was not necessary...\n",
      "\n",
      "\n",
      "Evaluating if adaptive throttling is necessary (method exponential backoff)...\n",
      "Adaptive throttling (attempt 0 of 4  for LdaModel hyperparameters combination -- topic: 48, ALPHA: 0.61 and ETA 0.61\n",
      "Adaptive throttling (attempt 1 of 4  for LdaModel hyperparameters combination -- topic: 48, ALPHA: 0.61 and ETA 0.61\n",
      "coherence: 0.38841809604116273, n_alpha: 0.60999999999999998667732370449812151491641998291015625, alpha_str: 0.61, n_beta: 0.01000000000000000020816681711721685132943093776702880859375, beta_str: 0.01\n",
      "coherence: 0.3709601760986443, n_alpha: 0.60999999999999998667732370449812151491641998291015625, alpha_str: 0.61, n_beta: 0.01000000000000000020816681711721685132943093776702880859375, beta_str: 0.01\n",
      "coherence: 0.38841809604116273, n_alpha: 0.60999999999999998667732370449812151491641998291015625, alpha_str: 0.61, n_beta: 0.309999999999999997779553950749686919152736663818359375, beta_str: 0.31\n",
      "Adaptive throttling (attempt 2 of 4  for LdaModel hyperparameters combination -- topic: 48, ALPHA: 0.61 and ETA 0.61\n",
      "coherence: 0.3709601760986443, n_alpha: 0.60999999999999998667732370449812151491641998291015625, alpha_str: 0.61, n_beta: 0.309999999999999997779553950749686919152736663818359375, beta_str: 0.31\n",
      "Adaptive throttling (method: exponential backoff) completed in 11.67 seconds\n",
      "\n",
      "\n",
      "Evaluating if adaptive throttling is necessary (method exponential backoff)...\n",
      "Adaptive throttling (method: exponential backoff) was not necessary...\n",
      "\n",
      "\n",
      "Evaluating if adaptive throttling is necessary (method exponential backoff)...\n",
      "Adaptive throttling (method: exponential backoff) was not necessary...\n",
      "\n",
      "\n",
      "Evaluating if adaptive throttling is necessary (method exponential backoff)...\n",
      "Adaptive throttling (attempt 0 of 4  for LdaModel hyperparameters combination -- topic: 48, ALPHA: 0.9099999999999999 and ETA 0.01\n",
      "coherence: 0.3709601760986443, n_alpha: 0.60999999999999998667732370449812151491641998291015625, alpha_str: 0.61, n_beta: 0.60999999999999998667732370449812151491641998291015625, beta_str: 0.61\n",
      "coherence: 0.38841809604116273, n_alpha: 0.60999999999999998667732370449812151491641998291015625, alpha_str: 0.61, n_beta: 0.60999999999999998667732370449812151491641998291015625, beta_str: 0.61\n",
      "coherence: 0.3709601760986443, n_alpha: 0.60999999999999998667732370449812151491641998291015625, alpha_str: 0.61, n_beta: 0.9099999999999999200639422269887290894985198974609375, beta_str: 0.9099999999999999\n",
      "coherence: 0.38841809604116273, n_alpha: 0.60999999999999998667732370449812151491641998291015625, alpha_str: 0.61, n_beta: 0.9099999999999999200639422269887290894985198974609375, beta_str: 0.9099999999999999\n",
      "Adaptive throttling (attempt 1 of 4  for LdaModel hyperparameters combination -- topic: 48, ALPHA: 0.9099999999999999 and ETA 0.01\n",
      "coherence: 0.3709601760986443, n_alpha: 0.9099999999999999200639422269887290894985198974609375, alpha_str: 0.9099999999999999, n_beta: 0.125, beta_str: symmetric\n",
      "coherence: 0.38841809604116273, n_alpha: 0.9099999999999999200639422269887290894985198974609375, alpha_str: 0.9099999999999999, n_beta: 0.125, beta_str: symmetric\n",
      "Adaptive throttling (attempt 2 of 4  for LdaModel hyperparameters combination -- topic: 48, ALPHA: 0.9099999999999999 and ETA 0.01\n",
      "Adaptive throttling (method: exponential backoff) completed in 16.35 seconds\n",
      "\n",
      "\n",
      "Evaluating if adaptive throttling is necessary (method exponential backoff)...\n",
      "Adaptive throttling (method: exponential backoff) was not necessary...\n",
      "\n",
      "\n",
      "Evaluating if adaptive throttling is necessary (method exponential backoff)...\n",
      "Adaptive throttling (attempt 0 of 4  for LdaModel hyperparameters combination -- topic: 48, ALPHA: 0.9099999999999999 and ETA 0.61\n",
      "Adaptive throttling (attempt 1 of 4  for LdaModel hyperparameters combination -- topic: 48, ALPHA: 0.9099999999999999 and ETA 0.61\n",
      "Adaptive throttling (attempt 2 of 4  for LdaModel hyperparameters combination -- topic: 48, ALPHA: 0.9099999999999999 and ETA 0.61\n",
      "coherence: 0.3709601760986443, n_alpha: 0.9099999999999999200639422269887290894985198974609375, alpha_str: 0.9099999999999999, n_beta: 0.01000000000000000020816681711721685132943093776702880859375, beta_str: 0.01\n",
      "coherence: 0.38841809604116273, n_alpha: 0.9099999999999999200639422269887290894985198974609375, alpha_str: 0.9099999999999999, n_beta: 0.309999999999999997779553950749686919152736663818359375, beta_str: 0.31\n",
      "coherence: 0.3709601760986443, n_alpha: 0.9099999999999999200639422269887290894985198974609375, alpha_str: 0.9099999999999999, n_beta: 0.309999999999999997779553950749686919152736663818359375, beta_str: 0.31\n",
      "coherence: 0.38841809604116273, n_alpha: 0.9099999999999999200639422269887290894985198974609375, alpha_str: 0.9099999999999999, n_beta: 0.01000000000000000020816681711721685132943093776702880859375, beta_str: 0.01\n",
      "Adaptive throttling (attempt 3 of 4  for LdaModel hyperparameters combination -- topic: 48, ALPHA: 0.9099999999999999 and ETA 0.61\n",
      "Adaptive throttling (method: exponential backoff) completed in 18.30 seconds\n",
      "\n"
     ]
    },
    {
     "name": "stderr",
     "output_type": "stream",
     "text": [
      "2024-04-24 07:14:24,354 - distributed.utils_perf - WARNING - full garbage collections took 57% CPU time recently (threshold: 10%)\n"
     ]
    },
    {
     "name": "stdout",
     "output_type": "stream",
     "text": [
      "\n",
      "Evaluating if adaptive throttling is necessary (method exponential backoff)...\n",
      "Adaptive throttling (method: exponential backoff) was not necessary...\n",
      "\n"
     ]
    },
    {
     "name": "stderr",
     "output_type": "stream",
     "text": [
      "2024-04-24 07:14:24,624 - distributed.utils_perf - WARNING - full garbage collections took 74% CPU time recently (threshold: 10%)\n",
      "2024-04-24 07:14:24,883 - distributed.utils_perf - WARNING - full garbage collections took 74% CPU time recently (threshold: 10%)\n"
     ]
    },
    {
     "name": "stdout",
     "output_type": "stream",
     "text": [
      "\n",
      "Evaluating if adaptive throttling is necessary (method exponential backoff)...\n"
     ]
    },
    {
     "name": "stderr",
     "output_type": "stream",
     "text": [
      "2024-04-24 07:14:25,154 - distributed.utils_perf - WARNING - full garbage collections took 74% CPU time recently (threshold: 10%)\n",
      "2024-04-24 07:14:25,504 - distributed.utils_perf - WARNING - full garbage collections took 74% CPU time recently (threshold: 10%)\n",
      "2024-04-24 07:14:25,787 - distributed.utils_perf - WARNING - full garbage collections took 74% CPU time recently (threshold: 10%)\n"
     ]
    },
    {
     "name": "stdout",
     "output_type": "stream",
     "text": [
      "Adaptive throttling (method: exponential backoff) was not necessary...\n",
      "\n"
     ]
    },
    {
     "name": "stderr",
     "output_type": "stream",
     "text": [
      "2024-04-24 07:14:26,154 - distributed.utils_perf - WARNING - full garbage collections took 74% CPU time recently (threshold: 10%)\n"
     ]
    },
    {
     "name": "stdout",
     "output_type": "stream",
     "text": [
      "\n",
      "Evaluating if adaptive throttling is necessary (method exponential backoff)...\n"
     ]
    },
    {
     "name": "stderr",
     "output_type": "stream",
     "text": [
      "2024-04-24 07:14:26,637 - distributed.utils_perf - WARNING - full garbage collections took 74% CPU time recently (threshold: 10%)\n",
      "2024-04-24 07:14:27,021 - distributed.utils_perf - WARNING - full garbage collections took 74% CPU time recently (threshold: 10%)\n",
      "2024-04-24 07:14:27,537 - distributed.utils_perf - WARNING - full garbage collections took 74% CPU time recently (threshold: 10%)\n"
     ]
    },
    {
     "name": "stdout",
     "output_type": "stream",
     "text": [
      "Adaptive throttling (attempt 0 of 4  for LdaModel hyperparameters combination -- topic: 50, ALPHA: symmetric and ETA 0.01\n"
     ]
    },
    {
     "name": "stderr",
     "output_type": "stream",
     "text": [
      "2024-04-24 07:14:29,021 - distributed.utils_perf - WARNING - full garbage collections took 74% CPU time recently (threshold: 10%)\n"
     ]
    },
    {
     "name": "stdout",
     "output_type": "stream",
     "text": [
      "coherence: 0.3709601760986443, n_alpha: 0.9099999999999999200639422269887290894985198974609375, alpha_str: 0.9099999999999999, n_beta: 0.60999999999999998667732370449812151491641998291015625, beta_str: 0.61\n"
     ]
    },
    {
     "name": "stderr",
     "output_type": "stream",
     "text": [
      "2024-04-24 07:14:31,096 - distributed.utils_perf - WARNING - full garbage collections took 74% CPU time recently (threshold: 10%)\n",
      "2024-04-24 07:14:31,837 - distributed.utils_perf - WARNING - full garbage collections took 74% CPU time recently (threshold: 10%)\n"
     ]
    },
    {
     "name": "stdout",
     "output_type": "stream",
     "text": [
      "coherence: 0.38841809604116273, n_alpha: 0.9099999999999999200639422269887290894985198974609375, alpha_str: 0.9099999999999999, n_beta: 0.60999999999999998667732370449812151491641998291015625, beta_str: 0.61\n"
     ]
    },
    {
     "name": "stderr",
     "output_type": "stream",
     "text": [
      "2024-04-24 07:14:32,554 - distributed.utils_perf - WARNING - full garbage collections took 74% CPU time recently (threshold: 10%)\n"
     ]
    },
    {
     "name": "stdout",
     "output_type": "stream",
     "text": [
      "coherence: 0.38841809604116273, n_alpha: 0.9099999999999999200639422269887290894985198974609375, alpha_str: 0.9099999999999999, n_beta: 0.9099999999999999200639422269887290894985198974609375, beta_str: 0.9099999999999999\n"
     ]
    },
    {
     "name": "stderr",
     "output_type": "stream",
     "text": [
      "2024-04-24 07:14:33,257 - distributed.utils_perf - WARNING - full garbage collections took 74% CPU time recently (threshold: 10%)\n",
      "2024-04-24 07:14:33,787 - distributed.utils_perf - WARNING - full garbage collections took 74% CPU time recently (threshold: 10%)\n"
     ]
    },
    {
     "name": "stdout",
     "output_type": "stream",
     "text": [
      "Adaptive throttling (attempt 1 of 4  for LdaModel hyperparameters combination -- topic: 50, ALPHA: symmetric and ETA 0.01\n",
      "coherence: 0.3709601760986443, n_alpha: 0.9099999999999999200639422269887290894985198974609375, alpha_str: 0.9099999999999999, n_beta: 0.9099999999999999200639422269887290894985198974609375, beta_str: 0.9099999999999999\n"
     ]
    },
    {
     "name": "stderr",
     "output_type": "stream",
     "text": [
      "2024-04-24 07:14:34,104 - distributed.utils_perf - WARNING - full garbage collections took 74% CPU time recently (threshold: 10%)\n",
      "2024-04-24 07:14:34,437 - distributed.utils_perf - WARNING - full garbage collections took 74% CPU time recently (threshold: 10%)\n",
      "2024-04-24 07:14:34,908 - distributed.utils_perf - WARNING - full garbage collections took 74% CPU time recently (threshold: 10%)\n",
      "2024-04-24 07:14:35,287 - distributed.utils_perf - WARNING - full garbage collections took 74% CPU time recently (threshold: 10%)\n"
     ]
    },
    {
     "name": "stdout",
     "output_type": "stream",
     "text": [
      "Adaptive throttling (attempt 2 of 4  for LdaModel hyperparameters combination -- topic: 50, ALPHA: symmetric and ETA 0.01\n",
      "coherence: 0.3884180960411628, n_alpha: 0.125, alpha_str: symmetric, n_beta: 0.125, beta_str: symmetric\n"
     ]
    },
    {
     "name": "stderr",
     "output_type": "stream",
     "text": [
      "2024-04-24 07:14:38,837 - distributed.utils_perf - WARNING - full garbage collections took 74% CPU time recently (threshold: 10%)\n",
      "2024-04-24 07:14:39,121 - distributed.utils_perf - WARNING - full garbage collections took 74% CPU time recently (threshold: 10%)\n",
      "2024-04-24 07:14:39,785 - distributed.utils_perf - WARNING - full garbage collections took 74% CPU time recently (threshold: 10%)\n"
     ]
    },
    {
     "name": "stdout",
     "output_type": "stream",
     "text": [
      "coherence: 0.3753932135443926, n_alpha: 0.125, alpha_str: symmetric, n_beta: 0.125, beta_str: symmetric\n"
     ]
    },
    {
     "name": "stderr",
     "output_type": "stream",
     "text": [
      "2024-04-24 07:14:40,020 - distributed.utils_perf - WARNING - full garbage collections took 74% CPU time recently (threshold: 10%)\n"
     ]
    },
    {
     "name": "stdout",
     "output_type": "stream",
     "text": [
      "Adaptive throttling (method: exponential backoff) completed in 14.00 seconds\n",
      "\n"
     ]
    },
    {
     "name": "stderr",
     "output_type": "stream",
     "text": [
      "2024-04-24 07:14:40,437 - distributed.utils_perf - WARNING - full garbage collections took 74% CPU time recently (threshold: 10%)\n"
     ]
    },
    {
     "name": "stdout",
     "output_type": "stream",
     "text": [
      "\n",
      "Evaluating if adaptive throttling is necessary (method exponential backoff)...\n",
      "Adaptive throttling (method: exponential backoff) was not necessary...\n",
      "\n"
     ]
    },
    {
     "name": "stderr",
     "output_type": "stream",
     "text": [
      "2024-04-24 07:14:40,775 - distributed.utils_perf - WARNING - full garbage collections took 74% CPU time recently (threshold: 10%)\n",
      "2024-04-24 07:14:41,070 - distributed.utils_perf - WARNING - full garbage collections took 74% CPU time recently (threshold: 10%)\n"
     ]
    },
    {
     "name": "stdout",
     "output_type": "stream",
     "text": [
      "\n",
      "Evaluating if adaptive throttling is necessary (method exponential backoff)...\n"
     ]
    },
    {
     "name": "stderr",
     "output_type": "stream",
     "text": [
      "2024-04-24 07:14:41,354 - distributed.utils_perf - WARNING - full garbage collections took 74% CPU time recently (threshold: 10%)\n",
      "2024-04-24 07:14:41,604 - distributed.utils_perf - WARNING - full garbage collections took 74% CPU time recently (threshold: 10%)\n"
     ]
    },
    {
     "name": "stdout",
     "output_type": "stream",
     "text": [
      "Adaptive throttling (attempt 0 of 4  for LdaModel hyperparameters combination -- topic: 50, ALPHA: symmetric and ETA 0.61\n"
     ]
    },
    {
     "name": "stderr",
     "output_type": "stream",
     "text": [
      "2024-04-24 07:14:42,041 - distributed.utils_perf - WARNING - full garbage collections took 74% CPU time recently (threshold: 10%)\n",
      "2024-04-24 07:14:42,588 - distributed.utils_perf - WARNING - full garbage collections took 74% CPU time recently (threshold: 10%)\n",
      "2024-04-24 07:14:43,021 - distributed.utils_perf - WARNING - full garbage collections took 74% CPU time recently (threshold: 10%)\n"
     ]
    },
    {
     "name": "stdout",
     "output_type": "stream",
     "text": [
      "Adaptive throttling (attempt 1 of 4  for LdaModel hyperparameters combination -- topic: 50, ALPHA: symmetric and ETA 0.61\n",
      "Adaptive throttling (attempt 2 of 4  for LdaModel hyperparameters combination -- topic: 50, ALPHA: symmetric and ETA 0.61\n",
      "coherence: 0.3734933403533576, n_alpha: 0.125, alpha_str: symmetric, n_beta: 0.01000000000000000020816681711721685132943093776702880859375, beta_str: 0.01\n"
     ]
    },
    {
     "name": "stderr",
     "output_type": "stream",
     "text": [
      "2024-04-24 07:14:49,119 - distributed.utils_perf - WARNING - full garbage collections took 74% CPU time recently (threshold: 10%)\n"
     ]
    },
    {
     "name": "stdout",
     "output_type": "stream",
     "text": [
      "coherence: 0.3884180960411628, n_alpha: 0.125, alpha_str: symmetric, n_beta: 0.01000000000000000020816681711721685132943093776702880859375, beta_str: 0.01\n",
      "coherence: 0.3884180960411628, n_alpha: 0.125, alpha_str: symmetric, n_beta: 0.309999999999999997779553950749686919152736663818359375, beta_str: 0.31\n"
     ]
    },
    {
     "name": "stderr",
     "output_type": "stream",
     "text": [
      "2024-04-24 07:14:49,604 - distributed.utils_perf - WARNING - full garbage collections took 74% CPU time recently (threshold: 10%)\n",
      "2024-04-24 07:14:49,937 - distributed.utils_perf - WARNING - full garbage collections took 74% CPU time recently (threshold: 10%)\n",
      "2024-04-24 07:14:50,220 - distributed.utils_perf - WARNING - full garbage collections took 74% CPU time recently (threshold: 10%)\n"
     ]
    },
    {
     "name": "stdout",
     "output_type": "stream",
     "text": [
      "coherence: 0.37539321354439265, n_alpha: 0.125, alpha_str: symmetric, n_beta: 0.309999999999999997779553950749686919152736663818359375, beta_str: 0.31\n"
     ]
    },
    {
     "name": "stderr",
     "output_type": "stream",
     "text": [
      "2024-04-24 07:14:50,587 - distributed.utils_perf - WARNING - full garbage collections took 74% CPU time recently (threshold: 10%)\n",
      "2024-04-24 07:14:50,841 - distributed.utils_perf - WARNING - full garbage collections took 74% CPU time recently (threshold: 10%)\n"
     ]
    },
    {
     "name": "stdout",
     "output_type": "stream",
     "text": [
      "Adaptive throttling (attempt 3 of 4  for LdaModel hyperparameters combination -- topic: 50, ALPHA: symmetric and ETA 0.61\n",
      "Adaptive throttling (method: exponential backoff) completed in 18.18 seconds\n",
      "\n"
     ]
    },
    {
     "name": "stderr",
     "output_type": "stream",
     "text": [
      "2024-04-24 07:14:59,224 - distributed.utils_perf - WARNING - full garbage collections took 73% CPU time recently (threshold: 10%)\n",
      "2024-04-24 07:14:59,604 - distributed.utils_perf - WARNING - full garbage collections took 73% CPU time recently (threshold: 10%)\n"
     ]
    },
    {
     "name": "stdout",
     "output_type": "stream",
     "text": [
      "\n",
      "Evaluating if adaptive throttling is necessary (method exponential backoff)...\n",
      "Adaptive throttling (method: exponential backoff) was not necessary...\n",
      "\n",
      "\n",
      "Evaluating if adaptive throttling is necessary (method exponential backoff)...\n"
     ]
    },
    {
     "name": "stderr",
     "output_type": "stream",
     "text": [
      "2024-04-24 07:14:59,954 - distributed.utils_perf - WARNING - full garbage collections took 73% CPU time recently (threshold: 10%)\n",
      "2024-04-24 07:15:00,254 - distributed.utils_perf - WARNING - full garbage collections took 73% CPU time recently (threshold: 10%)\n",
      "2024-04-24 07:15:00,504 - distributed.utils_perf - WARNING - full garbage collections took 73% CPU time recently (threshold: 10%)\n",
      "2024-04-24 07:15:00,820 - distributed.utils_perf - WARNING - full garbage collections took 73% CPU time recently (threshold: 10%)\n"
     ]
    },
    {
     "name": "stdout",
     "output_type": "stream",
     "text": [
      "Adaptive throttling (attempt 0 of 4  for LdaModel hyperparameters combination -- topic: 50, ALPHA: asymmetric and ETA symmetric\n"
     ]
    },
    {
     "name": "stderr",
     "output_type": "stream",
     "text": [
      "2024-04-24 07:15:01,174 - distributed.utils_perf - WARNING - full garbage collections took 73% CPU time recently (threshold: 10%)\n",
      "2024-04-24 07:15:01,487 - distributed.utils_perf - WARNING - full garbage collections took 73% CPU time recently (threshold: 10%)\n",
      "2024-04-24 07:15:01,988 - distributed.utils_perf - WARNING - full garbage collections took 73% CPU time recently (threshold: 10%)\n"
     ]
    },
    {
     "name": "stdout",
     "output_type": "stream",
     "text": [
      "Adaptive throttling (attempt 1 of 4  for LdaModel hyperparameters combination -- topic: 50, ALPHA: asymmetric and ETA symmetric\n",
      "Adaptive throttling (attempt 2 of 4  for LdaModel hyperparameters combination -- topic: 50, ALPHA: asymmetric and ETA symmetric\n",
      "coherence: 0.3884180960411628, n_alpha: 0.125, alpha_str: symmetric, n_beta: 0.60999999999999998667732370449812151491641998291015625, beta_str: 0.61\n"
     ]
    },
    {
     "name": "stderr",
     "output_type": "stream",
     "text": [
      "2024-04-24 07:15:07,804 - distributed.utils_perf - WARNING - full garbage collections took 73% CPU time recently (threshold: 10%)\n"
     ]
    },
    {
     "name": "stdout",
     "output_type": "stream",
     "text": [
      "coherence: 0.38299270630853255, n_alpha: 0.125, alpha_str: symmetric, n_beta: 0.60999999999999998667732370449812151491641998291015625, beta_str: 0.61\n"
     ]
    },
    {
     "name": "stderr",
     "output_type": "stream",
     "text": [
      "2024-04-24 07:15:08,420 - distributed.utils_perf - WARNING - full garbage collections took 73% CPU time recently (threshold: 10%)\n",
      "2024-04-24 07:15:08,753 - distributed.utils_perf - WARNING - full garbage collections took 73% CPU time recently (threshold: 10%)\n",
      "2024-04-24 07:15:09,154 - distributed.utils_perf - WARNING - full garbage collections took 73% CPU time recently (threshold: 10%)\n"
     ]
    },
    {
     "name": "stdout",
     "output_type": "stream",
     "text": [
      "coherence: 0.3884180960411628, n_alpha: 0.125, alpha_str: symmetric, n_beta: 0.9099999999999999200639422269887290894985198974609375, beta_str: 0.9099999999999999\n"
     ]
    },
    {
     "name": "stderr",
     "output_type": "stream",
     "text": [
      "2024-04-24 07:15:09,637 - distributed.utils_perf - WARNING - full garbage collections took 73% CPU time recently (threshold: 10%)\n"
     ]
    },
    {
     "name": "stdout",
     "output_type": "stream",
     "text": [
      "coherence: 0.38109283311749764, n_alpha: 0.125, alpha_str: symmetric, n_beta: 0.9099999999999999200639422269887290894985198974609375, beta_str: 0.9099999999999999\n"
     ]
    },
    {
     "name": "stderr",
     "output_type": "stream",
     "text": [
      "2024-04-24 07:15:09,904 - distributed.utils_perf - WARNING - full garbage collections took 73% CPU time recently (threshold: 10%)\n"
     ]
    },
    {
     "name": "stdout",
     "output_type": "stream",
     "text": [
      "Adaptive throttling (method: exponential backoff) completed in 10.57 seconds\n",
      "\n"
     ]
    },
    {
     "name": "stderr",
     "output_type": "stream",
     "text": [
      "2024-04-24 07:15:10,454 - distributed.utils_perf - WARNING - full garbage collections took 73% CPU time recently (threshold: 10%)\n"
     ]
    },
    {
     "name": "stdout",
     "output_type": "stream",
     "text": [
      "\n",
      "Evaluating if adaptive throttling is necessary (method exponential backoff)...\n",
      "Adaptive throttling (attempt 0 of 4  for LdaModel hyperparameters combination -- topic: 50, ALPHA: asymmetric and ETA 0.01\n"
     ]
    },
    {
     "name": "stderr",
     "output_type": "stream",
     "text": [
      "2024-04-24 07:15:10,837 - distributed.utils_perf - WARNING - full garbage collections took 73% CPU time recently (threshold: 10%)\n",
      "2024-04-24 07:15:11,105 - distributed.utils_perf - WARNING - full garbage collections took 73% CPU time recently (threshold: 10%)\n",
      "2024-04-24 07:15:11,404 - distributed.utils_perf - WARNING - full garbage collections took 73% CPU time recently (threshold: 10%)\n",
      "2024-04-24 07:15:11,670 - distributed.utils_perf - WARNING - full garbage collections took 73% CPU time recently (threshold: 10%)\n"
     ]
    },
    {
     "name": "stdout",
     "output_type": "stream",
     "text": [
      "Adaptive throttling (attempt 1 of 4  for LdaModel hyperparameters combination -- topic: 50, ALPHA: asymmetric and ETA 0.01\n",
      "Adaptive throttling (method: exponential backoff) completed in 3.33 seconds\n",
      "\n"
     ]
    },
    {
     "name": "stderr",
     "output_type": "stream",
     "text": [
      "2024-04-24 07:15:14,270 - distributed.utils_perf - WARNING - full garbage collections took 73% CPU time recently (threshold: 10%)\n"
     ]
    },
    {
     "name": "stdout",
     "output_type": "stream",
     "text": [
      "\n",
      "Evaluating if adaptive throttling is necessary (method exponential backoff)...\n"
     ]
    },
    {
     "name": "stderr",
     "output_type": "stream",
     "text": [
      "2024-04-24 07:15:15,187 - distributed.utils_perf - WARNING - full garbage collections took 73% CPU time recently (threshold: 10%)\n"
     ]
    },
    {
     "name": "stdout",
     "output_type": "stream",
     "text": [
      "Adaptive throttling (attempt 0 of 4  for LdaModel hyperparameters combination -- topic: 50, ALPHA: asymmetric and ETA 0.31\n"
     ]
    },
    {
     "name": "stderr",
     "output_type": "stream",
     "text": [
      "2024-04-24 07:15:16,037 - distributed.utils_perf - WARNING - full garbage collections took 73% CPU time recently (threshold: 10%)\n"
     ]
    },
    {
     "name": "stdout",
     "output_type": "stream",
     "text": [
      "coherence: 0.3888098543520163, n_alpha: 0.09234951562953231968565397412, alpha_str: asymmetric, n_beta: 0.125, beta_str: symmetric\n",
      "coherence: 0.3848925794995677, n_alpha: 0.09234951562953231968565397412, alpha_str: asymmetric, n_beta: 0.125, beta_str: symmetric\n"
     ]
    },
    {
     "name": "stderr",
     "output_type": "stream",
     "text": [
      "2024-04-24 07:15:16,421 - distributed.utils_perf - WARNING - full garbage collections took 73% CPU time recently (threshold: 10%)\n",
      "2024-04-24 07:15:16,681 - distributed.utils_perf - WARNING - full garbage collections took 73% CPU time recently (threshold: 10%)\n",
      "2024-04-24 07:15:17,007 - distributed.utils_perf - WARNING - full garbage collections took 73% CPU time recently (threshold: 10%)\n",
      "2024-04-24 07:15:17,304 - distributed.utils_perf - WARNING - full garbage collections took 73% CPU time recently (threshold: 10%)\n",
      "2024-04-24 07:15:17,576 - distributed.utils_perf - WARNING - full garbage collections took 73% CPU time recently (threshold: 10%)\n"
     ]
    },
    {
     "name": "stdout",
     "output_type": "stream",
     "text": [
      "Adaptive throttling (attempt 1 of 4  for LdaModel hyperparameters combination -- topic: 50, ALPHA: asymmetric and ETA 0.31\n",
      "Adaptive throttling (method: exponential backoff) completed in 5.45 seconds\n",
      "\n"
     ]
    },
    {
     "name": "stderr",
     "output_type": "stream",
     "text": [
      "2024-04-24 07:15:20,253 - distributed.utils_perf - WARNING - full garbage collections took 72% CPU time recently (threshold: 10%)\n"
     ]
    },
    {
     "name": "stdout",
     "output_type": "stream",
     "text": [
      "\n",
      "Evaluating if adaptive throttling is necessary (method exponential backoff)...\n",
      "Adaptive throttling (attempt 0 of 4  for LdaModel hyperparameters combination -- topic: 50, ALPHA: asymmetric and ETA 0.61\n"
     ]
    },
    {
     "name": "stderr",
     "output_type": "stream",
     "text": [
      "2024-04-24 07:15:21,084 - distributed.utils_perf - WARNING - full garbage collections took 72% CPU time recently (threshold: 10%)\n"
     ]
    },
    {
     "name": "stdout",
     "output_type": "stream",
     "text": [
      "coherence: 0.3884180960411628, n_alpha: 0.09234951562953231968565397412, alpha_str: asymmetric, n_beta: 0.01000000000000000020816681711721685132943093776702880859375, beta_str: 0.01\n"
     ]
    },
    {
     "name": "stderr",
     "output_type": "stream",
     "text": [
      "2024-04-24 07:15:21,921 - distributed.utils_perf - WARNING - full garbage collections took 72% CPU time recently (threshold: 10%)\n",
      "2024-04-24 07:15:22,470 - distributed.utils_perf - WARNING - full garbage collections took 72% CPU time recently (threshold: 10%)\n"
     ]
    },
    {
     "name": "stdout",
     "output_type": "stream",
     "text": [
      "coherence: 0.37539321354439265, n_alpha: 0.09234951562953231968565397412, alpha_str: asymmetric, n_beta: 0.01000000000000000020816681711721685132943093776702880859375, beta_str: 0.01\n"
     ]
    },
    {
     "name": "stderr",
     "output_type": "stream",
     "text": [
      "2024-04-24 07:15:22,720 - distributed.utils_perf - WARNING - full garbage collections took 72% CPU time recently (threshold: 10%)\n",
      "2024-04-24 07:15:22,974 - distributed.utils_perf - WARNING - full garbage collections took 72% CPU time recently (threshold: 10%)\n",
      "2024-04-24 07:15:23,237 - distributed.utils_perf - WARNING - full garbage collections took 72% CPU time recently (threshold: 10%)\n",
      "2024-04-24 07:15:23,537 - distributed.utils_perf - WARNING - full garbage collections took 72% CPU time recently (threshold: 10%)\n",
      "2024-04-24 07:15:23,804 - distributed.utils_perf - WARNING - full garbage collections took 72% CPU time recently (threshold: 10%)\n"
     ]
    },
    {
     "name": "stdout",
     "output_type": "stream",
     "text": [
      "Adaptive throttling (attempt 1 of 4  for LdaModel hyperparameters combination -- topic: 50, ALPHA: asymmetric and ETA 0.61\n",
      "Adaptive throttling (method: exponential backoff) completed in 5.62 seconds\n",
      "\n"
     ]
    },
    {
     "name": "stderr",
     "output_type": "stream",
     "text": [
      "2024-04-24 07:15:26,387 - distributed.utils_perf - WARNING - full garbage collections took 72% CPU time recently (threshold: 10%)\n"
     ]
    },
    {
     "name": "stdout",
     "output_type": "stream",
     "text": [
      "\n",
      "Evaluating if adaptive throttling is necessary (method exponential backoff)...\n",
      "Adaptive throttling (method: exponential backoff) was not necessary...\n",
      "\n"
     ]
    },
    {
     "name": "stderr",
     "output_type": "stream",
     "text": [
      "2024-04-24 07:15:27,187 - distributed.utils_perf - WARNING - full garbage collections took 72% CPU time recently (threshold: 10%)\n",
      "2024-04-24 07:15:27,554 - distributed.utils_perf - WARNING - full garbage collections took 73% CPU time recently (threshold: 10%)\n"
     ]
    },
    {
     "name": "stdout",
     "output_type": "stream",
     "text": [
      "\n",
      "Evaluating if adaptive throttling is necessary (method exponential backoff)...\n",
      "coherence: 0.3884180960411628, n_alpha: 0.09234951562953231968565397412, alpha_str: asymmetric, n_beta: 0.309999999999999997779553950749686919152736663818359375, beta_str: 0.31\n"
     ]
    },
    {
     "name": "stderr",
     "output_type": "stream",
     "text": [
      "2024-04-24 07:15:28,204 - distributed.utils_perf - WARNING - full garbage collections took 73% CPU time recently (threshold: 10%)\n"
     ]
    },
    {
     "name": "stdout",
     "output_type": "stream",
     "text": [
      "coherence: 0.3867924526906026, n_alpha: 0.09234951562953231968565397412, alpha_str: asymmetric, n_beta: 0.309999999999999997779553950749686919152736663818359375, beta_str: 0.31\n"
     ]
    },
    {
     "name": "stderr",
     "output_type": "stream",
     "text": [
      "2024-04-24 07:15:28,557 - distributed.utils_perf - WARNING - full garbage collections took 73% CPU time recently (threshold: 10%)\n",
      "2024-04-24 07:15:28,820 - distributed.utils_perf - WARNING - full garbage collections took 73% CPU time recently (threshold: 10%)\n",
      "2024-04-24 07:15:29,073 - distributed.utils_perf - WARNING - full garbage collections took 73% CPU time recently (threshold: 10%)\n",
      "2024-04-24 07:15:29,321 - distributed.utils_perf - WARNING - full garbage collections took 73% CPU time recently (threshold: 10%)\n",
      "2024-04-24 07:15:29,637 - distributed.utils_perf - WARNING - full garbage collections took 73% CPU time recently (threshold: 10%)\n",
      "2024-04-24 07:15:29,907 - distributed.utils_perf - WARNING - full garbage collections took 73% CPU time recently (threshold: 10%)\n"
     ]
    },
    {
     "name": "stdout",
     "output_type": "stream",
     "text": [
      "Adaptive throttling (attempt 0 of 4  for LdaModel hyperparameters combination -- topic: 50, ALPHA: 0.01 and ETA symmetric\n"
     ]
    },
    {
     "name": "stderr",
     "output_type": "stream",
     "text": [
      "2024-04-24 07:15:30,587 - distributed.utils_perf - WARNING - full garbage collections took 73% CPU time recently (threshold: 10%)\n",
      "2024-04-24 07:15:30,987 - distributed.utils_perf - WARNING - full garbage collections took 73% CPU time recently (threshold: 10%)\n",
      "2024-04-24 07:15:31,604 - distributed.utils_perf - WARNING - full garbage collections took 73% CPU time recently (threshold: 10%)\n",
      "2024-04-24 07:15:32,088 - distributed.utils_perf - WARNING - full garbage collections took 73% CPU time recently (threshold: 10%)\n"
     ]
    },
    {
     "name": "stdout",
     "output_type": "stream",
     "text": [
      "Adaptive throttling (attempt 1 of 4  for LdaModel hyperparameters combination -- topic: 50, ALPHA: 0.01 and ETA symmetric\n",
      "coherence: 0.3884180960411628, n_alpha: 0.09234951562953231968565397412, alpha_str: asymmetric, n_beta: 0.60999999999999998667732370449812151491641998291015625, beta_str: 0.61\n"
     ]
    },
    {
     "name": "stderr",
     "output_type": "stream",
     "text": [
      "2024-04-24 07:15:35,375 - distributed.utils_perf - WARNING - full garbage collections took 73% CPU time recently (threshold: 10%)\n",
      "2024-04-24 07:15:35,937 - distributed.utils_perf - WARNING - full garbage collections took 73% CPU time recently (threshold: 10%)\n",
      "2024-04-24 07:15:36,724 - distributed.utils_perf - WARNING - full garbage collections took 73% CPU time recently (threshold: 10%)\n"
     ]
    },
    {
     "name": "stdout",
     "output_type": "stream",
     "text": [
      "coherence: 0.3867924526906026, n_alpha: 0.09234951562953231968565397412, alpha_str: asymmetric, n_beta: 0.60999999999999998667732370449812151491641998291015625, beta_str: 0.61\n"
     ]
    },
    {
     "name": "stderr",
     "output_type": "stream",
     "text": [
      "2024-04-24 07:15:37,253 - distributed.utils_perf - WARNING - full garbage collections took 73% CPU time recently (threshold: 10%)\n",
      "2024-04-24 07:15:37,736 - distributed.utils_perf - WARNING - full garbage collections took 73% CPU time recently (threshold: 10%)\n"
     ]
    },
    {
     "name": "stdout",
     "output_type": "stream",
     "text": [
      "coherence: 0.3867924526906026, n_alpha: 0.09234951562953231968565397412, alpha_str: asymmetric, n_beta: 0.9099999999999999200639422269887290894985198974609375, beta_str: 0.9099999999999999\n",
      "coherence: 0.3884180960411628, n_alpha: 0.09234951562953231968565397412, alpha_str: asymmetric, n_beta: 0.9099999999999999200639422269887290894985198974609375, beta_str: 0.9099999999999999\n"
     ]
    },
    {
     "name": "stderr",
     "output_type": "stream",
     "text": [
      "2024-04-24 07:15:38,088 - distributed.utils_perf - WARNING - full garbage collections took 73% CPU time recently (threshold: 10%)\n"
     ]
    },
    {
     "name": "stdout",
     "output_type": "stream",
     "text": [
      "Adaptive throttling (method: exponential backoff) completed in 10.67 seconds\n",
      "\n"
     ]
    },
    {
     "name": "stderr",
     "output_type": "stream",
     "text": [
      "2024-04-24 07:15:38,537 - distributed.utils_perf - WARNING - full garbage collections took 73% CPU time recently (threshold: 10%)\n"
     ]
    },
    {
     "name": "stdout",
     "output_type": "stream",
     "text": [
      "\n",
      "Evaluating if adaptive throttling is necessary (method exponential backoff)...\n",
      "Adaptive throttling (attempt 0 of 4  for LdaModel hyperparameters combination -- topic: 50, ALPHA: 0.01 and ETA 0.01\n"
     ]
    },
    {
     "name": "stderr",
     "output_type": "stream",
     "text": [
      "2024-04-24 07:15:38,891 - distributed.utils_perf - WARNING - full garbage collections took 73% CPU time recently (threshold: 10%)\n",
      "2024-04-24 07:15:39,304 - distributed.utils_perf - WARNING - full garbage collections took 73% CPU time recently (threshold: 10%)\n"
     ]
    },
    {
     "name": "stdout",
     "output_type": "stream",
     "text": [
      "Adaptive throttling (method: exponential backoff) completed in 1.10 seconds\n",
      "\n"
     ]
    },
    {
     "name": "stderr",
     "output_type": "stream",
     "text": [
      "2024-04-24 07:15:39,957 - distributed.utils_perf - WARNING - full garbage collections took 73% CPU time recently (threshold: 10%)\n"
     ]
    },
    {
     "name": "stdout",
     "output_type": "stream",
     "text": [
      "\n",
      "Evaluating if adaptive throttling is necessary (method exponential backoff)...\n"
     ]
    },
    {
     "name": "stderr",
     "output_type": "stream",
     "text": [
      "2024-04-24 07:15:40,637 - distributed.utils_perf - WARNING - full garbage collections took 73% CPU time recently (threshold: 10%)\n"
     ]
    },
    {
     "name": "stdout",
     "output_type": "stream",
     "text": [
      "Adaptive throttling (attempt 0 of 4  for LdaModel hyperparameters combination -- topic: 50, ALPHA: 0.01 and ETA 0.31\n"
     ]
    },
    {
     "name": "stderr",
     "output_type": "stream",
     "text": [
      "2024-04-24 07:15:41,254 - distributed.utils_perf - WARNING - full garbage collections took 73% CPU time recently (threshold: 10%)\n",
      "2024-04-24 07:15:41,754 - distributed.utils_perf - WARNING - full garbage collections took 73% CPU time recently (threshold: 10%)\n",
      "2024-04-24 07:15:42,354 - distributed.utils_perf - WARNING - full garbage collections took 73% CPU time recently (threshold: 10%)\n"
     ]
    },
    {
     "name": "stdout",
     "output_type": "stream",
     "text": [
      "Adaptive throttling (attempt 1 of 4  for LdaModel hyperparameters combination -- topic: 50, ALPHA: 0.01 and ETA 0.31\n",
      "coherence: 0.29559853952092296, n_alpha: 0.01000000000000000020816681711721685132943093776702880859375, alpha_str: 0.01, n_beta: 0.125, beta_str: symmetric\n"
     ]
    },
    {
     "name": "stderr",
     "output_type": "stream",
     "text": [
      "2024-04-24 07:15:45,193 - distributed.utils_perf - WARNING - full garbage collections took 73% CPU time recently (threshold: 10%)\n"
     ]
    },
    {
     "name": "stdout",
     "output_type": "stream",
     "text": [
      "coherence: 0.34179397415618795, n_alpha: 0.01000000000000000020816681711721685132943093776702880859375, alpha_str: 0.01, n_beta: 0.125, beta_str: symmetric\n"
     ]
    },
    {
     "name": "stderr",
     "output_type": "stream",
     "text": [
      "2024-04-24 07:15:45,737 - distributed.utils_perf - WARNING - full garbage collections took 73% CPU time recently (threshold: 10%)\n",
      "2024-04-24 07:15:46,254 - distributed.utils_perf - WARNING - full garbage collections took 73% CPU time recently (threshold: 10%)\n",
      "2024-04-24 07:15:46,877 - distributed.utils_perf - WARNING - full garbage collections took 73% CPU time recently (threshold: 10%)\n"
     ]
    },
    {
     "name": "stdout",
     "output_type": "stream",
     "text": [
      "coherence: 0.34179397415618795, n_alpha: 0.01000000000000000020816681711721685132943093776702880859375, alpha_str: 0.01, n_beta: 0.01000000000000000020816681711721685132943093776702880859375, beta_str: 0.01\n"
     ]
    },
    {
     "name": "stderr",
     "output_type": "stream",
     "text": [
      "2024-04-24 07:15:47,153 - distributed.utils_perf - WARNING - full garbage collections took 73% CPU time recently (threshold: 10%)\n"
     ]
    },
    {
     "name": "stdout",
     "output_type": "stream",
     "text": [
      "coherence: 0.2974984127119579, n_alpha: 0.01000000000000000020816681711721685132943093776702880859375, alpha_str: 0.01, n_beta: 0.01000000000000000020816681711721685132943093776702880859375, beta_str: 0.01\n"
     ]
    },
    {
     "name": "stderr",
     "output_type": "stream",
     "text": [
      "2024-04-24 07:15:47,587 - distributed.utils_perf - WARNING - full garbage collections took 73% CPU time recently (threshold: 10%)\n",
      "2024-04-24 07:15:47,856 - distributed.utils_perf - WARNING - full garbage collections took 73% CPU time recently (threshold: 10%)\n"
     ]
    },
    {
     "name": "stdout",
     "output_type": "stream",
     "text": [
      "Adaptive throttling (attempt 2 of 4  for LdaModel hyperparameters combination -- topic: 50, ALPHA: 0.01 and ETA 0.31\n",
      "Adaptive throttling (method: exponential backoff) completed in 11.96 seconds\n",
      "\n"
     ]
    },
    {
     "name": "stderr",
     "output_type": "stream",
     "text": [
      "2024-04-24 07:15:52,237 - distributed.utils_perf - WARNING - full garbage collections took 73% CPU time recently (threshold: 10%)\n"
     ]
    },
    {
     "name": "stdout",
     "output_type": "stream",
     "text": [
      "\n",
      "Evaluating if adaptive throttling is necessary (method exponential backoff)...\n",
      "Adaptive throttling (method: exponential backoff) was not necessary...\n",
      "\n"
     ]
    },
    {
     "name": "stderr",
     "output_type": "stream",
     "text": [
      "2024-04-24 07:15:52,587 - distributed.utils_perf - WARNING - full garbage collections took 73% CPU time recently (threshold: 10%)\n"
     ]
    },
    {
     "name": "stdout",
     "output_type": "stream",
     "text": [
      "\n",
      "Evaluating if adaptive throttling is necessary (method exponential backoff)...\n",
      "Adaptive throttling (attempt 0 of 4  for LdaModel hyperparameters combination -- topic: 50, ALPHA: 0.01 and ETA 0.9099999999999999\n"
     ]
    },
    {
     "name": "stderr",
     "output_type": "stream",
     "text": [
      "2024-04-24 07:15:52,974 - distributed.utils_perf - WARNING - full garbage collections took 73% CPU time recently (threshold: 10%)\n",
      "2024-04-24 07:15:53,220 - distributed.utils_perf - WARNING - full garbage collections took 73% CPU time recently (threshold: 10%)\n",
      "2024-04-24 07:15:53,553 - distributed.utils_perf - WARNING - full garbage collections took 73% CPU time recently (threshold: 10%)\n",
      "2024-04-24 07:15:53,820 - distributed.utils_perf - WARNING - full garbage collections took 73% CPU time recently (threshold: 10%)\n",
      "2024-04-24 07:15:54,120 - distributed.utils_perf - WARNING - full garbage collections took 73% CPU time recently (threshold: 10%)\n",
      "2024-04-24 07:15:54,454 - distributed.utils_perf - WARNING - full garbage collections took 73% CPU time recently (threshold: 10%)\n",
      "2024-04-24 07:15:54,954 - distributed.utils_perf - WARNING - full garbage collections took 73% CPU time recently (threshold: 10%)\n",
      "2024-04-24 07:15:55,454 - distributed.utils_perf - WARNING - full garbage collections took 73% CPU time recently (threshold: 10%)\n"
     ]
    },
    {
     "name": "stdout",
     "output_type": "stream",
     "text": [
      "Adaptive throttling (attempt 1 of 4  for LdaModel hyperparameters combination -- topic: 50, ALPHA: 0.01 and ETA 0.9099999999999999\n",
      "Adaptive throttling (attempt 2 of 4  for LdaModel hyperparameters combination -- topic: 50, ALPHA: 0.01 and ETA 0.9099999999999999\n"
     ]
    },
    {
     "name": "stderr",
     "output_type": "stream",
     "text": [
      "2024-04-24 07:16:00,420 - distributed.utils_perf - WARNING - full garbage collections took 73% CPU time recently (threshold: 10%)\n"
     ]
    },
    {
     "name": "stdout",
     "output_type": "stream",
     "text": [
      "coherence: 0.34179397415618795, n_alpha: 0.01000000000000000020816681711721685132943093776702880859375, alpha_str: 0.01, n_beta: 0.309999999999999997779553950749686919152736663818359375, beta_str: 0.31\n"
     ]
    },
    {
     "name": "stderr",
     "output_type": "stream",
     "text": [
      "2024-04-24 07:16:01,024 - distributed.utils_perf - WARNING - full garbage collections took 73% CPU time recently (threshold: 10%)\n"
     ]
    },
    {
     "name": "stdout",
     "output_type": "stream",
     "text": [
      "coherence: 0.297498412711958, n_alpha: 0.01000000000000000020816681711721685132943093776702880859375, alpha_str: 0.01, n_beta: 0.309999999999999997779553950749686919152736663818359375, beta_str: 0.31\n"
     ]
    },
    {
     "name": "stderr",
     "output_type": "stream",
     "text": [
      "2024-04-24 07:16:01,403 - distributed.utils_perf - WARNING - full garbage collections took 73% CPU time recently (threshold: 10%)\n"
     ]
    },
    {
     "name": "stdout",
     "output_type": "stream",
     "text": [
      "coherence: 0.34179397415618795, n_alpha: 0.01000000000000000020816681711721685132943093776702880859375, alpha_str: 0.01, n_beta: 0.60999999999999998667732370449812151491641998291015625, beta_str: 0.61\n",
      "coherence: 0.297498412711958, n_alpha: 0.01000000000000000020816681711721685132943093776702880859375, alpha_str: 0.01, n_beta: 0.60999999999999998667732370449812151491641998291015625, beta_str: 0.61\n"
     ]
    },
    {
     "name": "stderr",
     "output_type": "stream",
     "text": [
      "2024-04-24 07:16:01,954 - distributed.utils_perf - WARNING - full garbage collections took 73% CPU time recently (threshold: 10%)\n",
      "2024-04-24 07:16:02,220 - distributed.utils_perf - WARNING - full garbage collections took 73% CPU time recently (threshold: 10%)\n",
      "2024-04-24 07:16:02,487 - distributed.utils_perf - WARNING - full garbage collections took 73% CPU time recently (threshold: 10%)\n"
     ]
    },
    {
     "name": "stdout",
     "output_type": "stream",
     "text": [
      "Adaptive throttling (attempt 3 of 4  for LdaModel hyperparameters combination -- topic: 50, ALPHA: 0.01 and ETA 0.9099999999999999\n",
      "Adaptive throttling (method: exponential backoff) completed in 18.01 seconds\n",
      "\n"
     ]
    },
    {
     "name": "stderr",
     "output_type": "stream",
     "text": [
      "2024-04-24 07:16:10,887 - distributed.utils_perf - WARNING - full garbage collections took 73% CPU time recently (threshold: 10%)\n"
     ]
    },
    {
     "name": "stdout",
     "output_type": "stream",
     "text": [
      "\n",
      "Evaluating if adaptive throttling is necessary (method exponential backoff)...\n",
      "Adaptive throttling (method: exponential backoff) was not necessary...\n",
      "\n"
     ]
    },
    {
     "name": "stderr",
     "output_type": "stream",
     "text": [
      "2024-04-24 07:16:11,204 - distributed.utils_perf - WARNING - full garbage collections took 73% CPU time recently (threshold: 10%)\n"
     ]
    },
    {
     "name": "stdout",
     "output_type": "stream",
     "text": [
      "\n",
      "Evaluating if adaptive throttling is necessary (method exponential backoff)...\n"
     ]
    },
    {
     "name": "stderr",
     "output_type": "stream",
     "text": [
      "2024-04-24 07:16:11,554 - distributed.utils_perf - WARNING - full garbage collections took 73% CPU time recently (threshold: 10%)\n",
      "2024-04-24 07:16:11,854 - distributed.utils_perf - WARNING - full garbage collections took 73% CPU time recently (threshold: 10%)\n"
     ]
    },
    {
     "name": "stdout",
     "output_type": "stream",
     "text": [
      "Adaptive throttling (method: exponential backoff) was not necessary...\n",
      "\n"
     ]
    },
    {
     "name": "stderr",
     "output_type": "stream",
     "text": [
      "2024-04-24 07:16:12,256 - distributed.utils_perf - WARNING - full garbage collections took 73% CPU time recently (threshold: 10%)\n"
     ]
    },
    {
     "name": "stdout",
     "output_type": "stream",
     "text": [
      "\n",
      "Evaluating if adaptive throttling is necessary (method exponential backoff)...\n"
     ]
    },
    {
     "name": "stderr",
     "output_type": "stream",
     "text": [
      "2024-04-24 07:16:12,575 - distributed.utils_perf - WARNING - full garbage collections took 73% CPU time recently (threshold: 10%)\n",
      "2024-04-24 07:16:12,937 - distributed.utils_perf - WARNING - full garbage collections took 73% CPU time recently (threshold: 10%)\n",
      "2024-04-24 07:16:13,237 - distributed.utils_perf - WARNING - full garbage collections took 73% CPU time recently (threshold: 10%)\n",
      "2024-04-24 07:16:13,585 - distributed.utils_perf - WARNING - full garbage collections took 73% CPU time recently (threshold: 10%)\n",
      "2024-04-24 07:16:14,020 - distributed.utils_perf - WARNING - full garbage collections took 73% CPU time recently (threshold: 10%)\n"
     ]
    },
    {
     "name": "stdout",
     "output_type": "stream",
     "text": [
      "Adaptive throttling (method: exponential backoff) was not necessary...\n",
      "\n"
     ]
    },
    {
     "name": "stderr",
     "output_type": "stream",
     "text": [
      "2024-04-24 07:16:14,786 - distributed.utils_perf - WARNING - full garbage collections took 73% CPU time recently (threshold: 10%)\n"
     ]
    },
    {
     "name": "stdout",
     "output_type": "stream",
     "text": [
      "\n",
      "Evaluating if adaptive throttling is necessary (method exponential backoff)...\n",
      "Adaptive throttling (attempt 0 of 4  for LdaModel hyperparameters combination -- topic: 50, ALPHA: 0.31 and ETA 0.61\n",
      "coherence: 0.34179397415618795, n_alpha: 0.01000000000000000020816681711721685132943093776702880859375, alpha_str: 0.01, n_beta: 0.9099999999999999200639422269887290894985198974609375, beta_str: 0.9099999999999999\n"
     ]
    },
    {
     "name": "stderr",
     "output_type": "stream",
     "text": [
      "2024-04-24 07:16:17,954 - distributed.utils_perf - WARNING - full garbage collections took 73% CPU time recently (threshold: 10%)\n",
      "2024-04-24 07:16:18,477 - distributed.utils_perf - WARNING - full garbage collections took 73% CPU time recently (threshold: 10%)\n",
      "2024-04-24 07:16:19,237 - distributed.utils_perf - WARNING - full garbage collections took 73% CPU time recently (threshold: 10%)\n",
      "2024-04-24 07:16:19,704 - distributed.utils_perf - WARNING - full garbage collections took 73% CPU time recently (threshold: 10%)\n"
     ]
    },
    {
     "name": "stdout",
     "output_type": "stream",
     "text": [
      "coherence: 0.29559853952092296, n_alpha: 0.01000000000000000020816681711721685132943093776702880859375, alpha_str: 0.01, n_beta: 0.9099999999999999200639422269887290894985198974609375, beta_str: 0.9099999999999999\n"
     ]
    },
    {
     "name": "stderr",
     "output_type": "stream",
     "text": [
      "2024-04-24 07:16:20,336 - distributed.utils_perf - WARNING - full garbage collections took 73% CPU time recently (threshold: 10%)\n",
      "2024-04-24 07:16:20,769 - distributed.utils_perf - WARNING - full garbage collections took 73% CPU time recently (threshold: 10%)\n"
     ]
    },
    {
     "name": "stdout",
     "output_type": "stream",
     "text": [
      "coherence: 0.3884180960411628, n_alpha: 0.309999999999999997779553950749686919152736663818359375, alpha_str: 0.31, n_beta: 0.125, beta_str: symmetric\n"
     ]
    },
    {
     "name": "stderr",
     "output_type": "stream",
     "text": [
      "2024-04-24 07:16:21,453 - distributed.utils_perf - WARNING - full garbage collections took 73% CPU time recently (threshold: 10%)\n"
     ]
    },
    {
     "name": "stdout",
     "output_type": "stream",
     "text": [
      "coherence: 0.37349334035335763, n_alpha: 0.309999999999999997779553950749686919152736663818359375, alpha_str: 0.31, n_beta: 0.125, beta_str: symmetric\n",
      "Adaptive throttling (method: exponential backoff) completed in 6.64 seconds\n",
      "\n"
     ]
    },
    {
     "name": "stderr",
     "output_type": "stream",
     "text": [
      "2024-04-24 07:16:21,787 - distributed.utils_perf - WARNING - full garbage collections took 73% CPU time recently (threshold: 10%)\n"
     ]
    },
    {
     "name": "stdout",
     "output_type": "stream",
     "text": [
      "\n",
      "Evaluating if adaptive throttling is necessary (method exponential backoff)...\n"
     ]
    },
    {
     "name": "stderr",
     "output_type": "stream",
     "text": [
      "2024-04-24 07:16:22,054 - distributed.utils_perf - WARNING - full garbage collections took 73% CPU time recently (threshold: 10%)\n",
      "2024-04-24 07:16:22,373 - distributed.utils_perf - WARNING - full garbage collections took 73% CPU time recently (threshold: 10%)\n",
      "2024-04-24 07:16:22,658 - distributed.utils_perf - WARNING - full garbage collections took 73% CPU time recently (threshold: 10%)\n"
     ]
    },
    {
     "name": "stdout",
     "output_type": "stream",
     "text": [
      "Adaptive throttling (attempt 0 of 4  for LdaModel hyperparameters combination -- topic: 50, ALPHA: 0.31 and ETA 0.9099999999999999\n"
     ]
    },
    {
     "name": "stderr",
     "output_type": "stream",
     "text": [
      "2024-04-24 07:16:23,120 - distributed.utils_perf - WARNING - full garbage collections took 73% CPU time recently (threshold: 10%)\n",
      "2024-04-24 07:16:23,537 - distributed.utils_perf - WARNING - full garbage collections took 73% CPU time recently (threshold: 10%)\n",
      "2024-04-24 07:16:24,087 - distributed.utils_perf - WARNING - full garbage collections took 73% CPU time recently (threshold: 10%)\n",
      "2024-04-24 07:16:24,672 - distributed.utils_perf - WARNING - full garbage collections took 73% CPU time recently (threshold: 10%)\n",
      "2024-04-24 07:16:25,187 - distributed.utils_perf - WARNING - full garbage collections took 73% CPU time recently (threshold: 10%)\n",
      "2024-04-24 07:16:25,800 - distributed.utils_perf - WARNING - full garbage collections took 73% CPU time recently (threshold: 10%)\n",
      "2024-04-24 07:16:26,521 - distributed.utils_perf - WARNING - full garbage collections took 73% CPU time recently (threshold: 10%)\n",
      "2024-04-24 07:16:27,254 - distributed.utils_perf - WARNING - full garbage collections took 73% CPU time recently (threshold: 10%)\n"
     ]
    },
    {
     "name": "stdout",
     "output_type": "stream",
     "text": [
      "Adaptive throttling (attempt 1 of 4  for LdaModel hyperparameters combination -- topic: 50, ALPHA: 0.31 and ETA 0.9099999999999999\n",
      "coherence: 0.3884180960411628, n_alpha: 0.309999999999999997779553950749686919152736663818359375, alpha_str: 0.31, n_beta: 0.309999999999999997779553950749686919152736663818359375, beta_str: 0.31\n"
     ]
    },
    {
     "name": "stderr",
     "output_type": "stream",
     "text": [
      "2024-04-24 07:16:31,620 - distributed.utils_perf - WARNING - full garbage collections took 73% CPU time recently (threshold: 10%)\n"
     ]
    },
    {
     "name": "stdout",
     "output_type": "stream",
     "text": [
      "coherence: 0.3884180960411628, n_alpha: 0.309999999999999997779553950749686919152736663818359375, alpha_str: 0.31, n_beta: 0.01000000000000000020816681711721685132943093776702880859375, beta_str: 0.01\n"
     ]
    },
    {
     "name": "stderr",
     "output_type": "stream",
     "text": [
      "2024-04-24 07:16:32,819 - distributed.utils_perf - WARNING - full garbage collections took 73% CPU time recently (threshold: 10%)\n",
      "2024-04-24 07:16:33,336 - distributed.utils_perf - WARNING - full garbage collections took 73% CPU time recently (threshold: 10%)\n"
     ]
    },
    {
     "name": "stdout",
     "output_type": "stream",
     "text": [
      "coherence: 0.37159346716232267, n_alpha: 0.309999999999999997779553950749686919152736663818359375, alpha_str: 0.31, n_beta: 0.01000000000000000020816681711721685132943093776702880859375, beta_str: 0.01\n"
     ]
    },
    {
     "name": "stderr",
     "output_type": "stream",
     "text": [
      "2024-04-24 07:16:33,778 - distributed.utils_perf - WARNING - full garbage collections took 73% CPU time recently (threshold: 10%)\n",
      "2024-04-24 07:16:34,185 - distributed.utils_perf - WARNING - full garbage collections took 73% CPU time recently (threshold: 10%)\n"
     ]
    },
    {
     "name": "stdout",
     "output_type": "stream",
     "text": [
      "coherence: 0.3884180960411628, n_alpha: 0.309999999999999997779553950749686919152736663818359375, alpha_str: 0.31, n_beta: 0.60999999999999998667732370449812151491641998291015625, beta_str: 0.61\n",
      "coherence: 0.3696935939712877, n_alpha: 0.309999999999999997779553950749686919152736663818359375, alpha_str: 0.31, n_beta: 0.60999999999999998667732370449812151491641998291015625, beta_str: 0.61coherence: 0.37539321354439265, n_alpha: 0.309999999999999997779553950749686919152736663818359375, alpha_str: 0.31, n_beta: 0.309999999999999997779553950749686919152736663818359375, beta_str: 0.31\n"
     ]
    },
    {
     "name": "stderr",
     "output_type": "stream",
     "text": [
      "2024-04-24 07:16:35,136 - distributed.utils_perf - WARNING - full garbage collections took 73% CPU time recently (threshold: 10%)\n",
      "2024-04-24 07:16:35,436 - distributed.utils_perf - WARNING - full garbage collections took 73% CPU time recently (threshold: 10%)\n"
     ]
    },
    {
     "name": "stdout",
     "output_type": "stream",
     "text": [
      "\n"
     ]
    },
    {
     "name": "stderr",
     "output_type": "stream",
     "text": [
      "2024-04-24 07:16:35,787 - distributed.utils_perf - WARNING - full garbage collections took 73% CPU time recently (threshold: 10%)\n",
      "2024-04-24 07:16:36,072 - distributed.utils_perf - WARNING - full garbage collections took 73% CPU time recently (threshold: 10%)\n"
     ]
    },
    {
     "name": "stdout",
     "output_type": "stream",
     "text": [
      "Adaptive throttling (attempt 2 of 4  for LdaModel hyperparameters combination -- topic: 50, ALPHA: 0.31 and ETA 0.9099999999999999\n",
      "Adaptive throttling (method: exponential backoff) completed in 18.33 seconds\n",
      "\n"
     ]
    },
    {
     "name": "stderr",
     "output_type": "stream",
     "text": [
      "2024-04-24 07:16:40,387 - distributed.utils_perf - WARNING - full garbage collections took 72% CPU time recently (threshold: 10%)\n",
      "2024-04-24 07:16:40,704 - distributed.utils_perf - WARNING - full garbage collections took 72% CPU time recently (threshold: 10%)\n"
     ]
    },
    {
     "name": "stdout",
     "output_type": "stream",
     "text": [
      "\n",
      "Evaluating if adaptive throttling is necessary (method exponential backoff)...\n",
      "Adaptive throttling (method: exponential backoff) was not necessary...\n",
      "\n",
      "\n",
      "Evaluating if adaptive throttling is necessary (method exponential backoff)...\n",
      "Adaptive throttling (attempt 0 of 4  for LdaModel hyperparameters combination -- topic: 50, ALPHA: 0.61 and ETA 0.01\n"
     ]
    },
    {
     "name": "stderr",
     "output_type": "stream",
     "text": [
      "2024-04-24 07:16:41,120 - distributed.utils_perf - WARNING - full garbage collections took 72% CPU time recently (threshold: 10%)\n",
      "2024-04-24 07:16:41,387 - distributed.utils_perf - WARNING - full garbage collections took 72% CPU time recently (threshold: 10%)\n",
      "2024-04-24 07:16:41,737 - distributed.utils_perf - WARNING - full garbage collections took 72% CPU time recently (threshold: 10%)\n",
      "2024-04-24 07:16:42,053 - distributed.utils_perf - WARNING - full garbage collections took 72% CPU time recently (threshold: 10%)\n",
      "2024-04-24 07:16:42,354 - distributed.utils_perf - WARNING - full garbage collections took 72% CPU time recently (threshold: 10%)\n"
     ]
    },
    {
     "name": "stdout",
     "output_type": "stream",
     "text": [
      "Adaptive throttling (attempt 1 of 4  for LdaModel hyperparameters combination -- topic: 50, ALPHA: 0.61 and ETA 0.01\n"
     ]
    },
    {
     "name": "stderr",
     "output_type": "stream",
     "text": [
      "2024-04-24 07:16:43,020 - distributed.utils_perf - WARNING - full garbage collections took 72% CPU time recently (threshold: 10%)\n",
      "2024-04-24 07:16:43,620 - distributed.utils_perf - WARNING - full garbage collections took 72% CPU time recently (threshold: 10%)\n"
     ]
    },
    {
     "name": "stdout",
     "output_type": "stream",
     "text": [
      "Adaptive throttling (attempt 2 of 4  for LdaModel hyperparameters combination -- topic: 50, ALPHA: 0.61 and ETA 0.01\n",
      "coherence: 0.3884180960411628, n_alpha: 0.309999999999999997779553950749686919152736663818359375, alpha_str: 0.31, n_beta: 0.9099999999999999200639422269887290894985198974609375, beta_str: 0.9099999999999999\n"
     ]
    },
    {
     "name": "stderr",
     "output_type": "stream",
     "text": [
      "2024-04-24 07:16:49,602 - distributed.utils_perf - WARNING - full garbage collections took 72% CPU time recently (threshold: 10%)\n"
     ]
    },
    {
     "name": "stdout",
     "output_type": "stream",
     "text": [
      "coherence: 0.3696935939712877, n_alpha: 0.60999999999999998667732370449812151491641998291015625, alpha_str: 0.61, n_beta: 0.125, beta_str: symmetric\n",
      "coherence: 0.3884180960411628, n_alpha: 0.60999999999999998667732370449812151491641998291015625, alpha_str: 0.61, n_beta: 0.125, beta_str: symmetric\n",
      "coherence: 0.37159346716232267, n_alpha: 0.309999999999999997779553950749686919152736663818359375, alpha_str: 0.31, n_beta: 0.9099999999999999200639422269887290894985198974609375, beta_str: 0.9099999999999999\n"
     ]
    },
    {
     "name": "stderr",
     "output_type": "stream",
     "text": [
      "2024-04-24 07:16:50,420 - distributed.utils_perf - WARNING - full garbage collections took 72% CPU time recently (threshold: 10%)\n",
      "2024-04-24 07:16:50,720 - distributed.utils_perf - WARNING - full garbage collections took 72% CPU time recently (threshold: 10%)\n",
      "2024-04-24 07:16:50,987 - distributed.utils_perf - WARNING - full garbage collections took 72% CPU time recently (threshold: 10%)\n",
      "2024-04-24 07:16:51,253 - distributed.utils_perf - WARNING - full garbage collections took 72% CPU time recently (threshold: 10%)\n",
      "2024-04-24 07:16:51,637 - distributed.utils_perf - WARNING - full garbage collections took 73% CPU time recently (threshold: 10%)\n"
     ]
    },
    {
     "name": "stdout",
     "output_type": "stream",
     "text": [
      "Adaptive throttling (method: exponential backoff) completed in 10.63 seconds\n",
      "\n",
      "\n",
      "Evaluating if adaptive throttling is necessary (method exponential backoff)...\n",
      "Adaptive throttling (attempt 0 of 4  for LdaModel hyperparameters combination -- topic: 50, ALPHA: 0.61 and ETA 0.31\n"
     ]
    },
    {
     "name": "stderr",
     "output_type": "stream",
     "text": [
      "2024-04-24 07:16:52,024 - distributed.utils_perf - WARNING - full garbage collections took 73% CPU time recently (threshold: 10%)\n",
      "2024-04-24 07:16:52,304 - distributed.utils_perf - WARNING - full garbage collections took 73% CPU time recently (threshold: 10%)\n",
      "2024-04-24 07:16:52,637 - distributed.utils_perf - WARNING - full garbage collections took 73% CPU time recently (threshold: 10%)\n"
     ]
    },
    {
     "name": "stdout",
     "output_type": "stream",
     "text": [
      "Adaptive throttling (attempt 1 of 4  for LdaModel hyperparameters combination -- topic: 50, ALPHA: 0.61 and ETA 0.31\n",
      "Adaptive throttling (method: exponential backoff) completed in 3.17 seconds\n",
      "\n"
     ]
    },
    {
     "name": "stderr",
     "output_type": "stream",
     "text": [
      "2024-04-24 07:16:55,304 - distributed.utils_perf - WARNING - full garbage collections took 73% CPU time recently (threshold: 10%)\n"
     ]
    },
    {
     "name": "stdout",
     "output_type": "stream",
     "text": [
      "\n",
      "Evaluating if adaptive throttling is necessary (method exponential backoff)...\n"
     ]
    },
    {
     "name": "stderr",
     "output_type": "stream",
     "text": [
      "2024-04-24 07:16:56,169 - distributed.utils_perf - WARNING - full garbage collections took 73% CPU time recently (threshold: 10%)\n"
     ]
    },
    {
     "name": "stdout",
     "output_type": "stream",
     "text": [
      "Adaptive throttling (attempt 0 of 4  for LdaModel hyperparameters combination -- topic: 50, ALPHA: 0.61 and ETA 0.61\n"
     ]
    },
    {
     "name": "stderr",
     "output_type": "stream",
     "text": [
      "2024-04-24 07:16:56,574 - distributed.utils_perf - WARNING - full garbage collections took 73% CPU time recently (threshold: 10%)\n",
      "2024-04-24 07:16:57,152 - distributed.utils_perf - WARNING - full garbage collections took 73% CPU time recently (threshold: 10%)\n",
      "2024-04-24 07:16:57,720 - distributed.utils_perf - WARNING - full garbage collections took 73% CPU time recently (threshold: 10%)\n"
     ]
    },
    {
     "name": "stdout",
     "output_type": "stream",
     "text": [
      "coherence: 0.3884180960411628, n_alpha: 0.60999999999999998667732370449812151491641998291015625, alpha_str: 0.61, n_beta: 0.01000000000000000020816681711721685132943093776702880859375, beta_str: 0.01\n",
      "coherence: 0.37349334035335763, n_alpha: 0.60999999999999998667732370449812151491641998291015625, alpha_str: 0.61, n_beta: 0.01000000000000000020816681711721685132943093776702880859375, beta_str: 0.01\n"
     ]
    },
    {
     "name": "stderr",
     "output_type": "stream",
     "text": [
      "2024-04-24 07:16:58,324 - distributed.utils_perf - WARNING - full garbage collections took 73% CPU time recently (threshold: 10%)\n",
      "2024-04-24 07:16:58,758 - distributed.utils_perf - WARNING - full garbage collections took 73% CPU time recently (threshold: 10%)\n",
      "2024-04-24 07:16:59,187 - distributed.utils_perf - WARNING - full garbage collections took 73% CPU time recently (threshold: 10%)\n"
     ]
    },
    {
     "name": "stdout",
     "output_type": "stream",
     "text": [
      "Adaptive throttling (attempt 1 of 4  for LdaModel hyperparameters combination -- topic: 50, ALPHA: 0.61 and ETA 0.61\n",
      "coherence: 0.3884180960411628, n_alpha: 0.60999999999999998667732370449812151491641998291015625, alpha_str: 0.61, n_beta: 0.309999999999999997779553950749686919152736663818359375, beta_str: 0.31\n"
     ]
    },
    {
     "name": "stderr",
     "output_type": "stream",
     "text": [
      "2024-04-24 07:17:01,937 - distributed.utils_perf - WARNING - full garbage collections took 73% CPU time recently (threshold: 10%)\n",
      "2024-04-24 07:17:02,287 - distributed.utils_perf - WARNING - full garbage collections took 73% CPU time recently (threshold: 10%)\n"
     ]
    },
    {
     "name": "stdout",
     "output_type": "stream",
     "text": [
      "coherence: 0.37349334035335763, n_alpha: 0.60999999999999998667732370449812151491641998291015625, alpha_str: 0.61, n_beta: 0.309999999999999997779553950749686919152736663818359375, beta_str: 0.31\n"
     ]
    },
    {
     "name": "stderr",
     "output_type": "stream",
     "text": [
      "2024-04-24 07:17:03,070 - distributed.utils_perf - WARNING - full garbage collections took 73% CPU time recently (threshold: 10%)\n",
      "2024-04-24 07:17:03,337 - distributed.utils_perf - WARNING - full garbage collections took 73% CPU time recently (threshold: 10%)\n"
     ]
    },
    {
     "name": "stdout",
     "output_type": "stream",
     "text": [
      "Adaptive throttling (method: exponential backoff) completed in 8.07 seconds\n",
      "\n"
     ]
    },
    {
     "name": "stderr",
     "output_type": "stream",
     "text": [
      "2024-04-24 07:17:03,706 - distributed.utils_perf - WARNING - full garbage collections took 73% CPU time recently (threshold: 10%)\n"
     ]
    },
    {
     "name": "stdout",
     "output_type": "stream",
     "text": [
      "\n",
      "Evaluating if adaptive throttling is necessary (method exponential backoff)...\n",
      "Adaptive throttling (attempt 0 of 4  for LdaModel hyperparameters combination -- topic: 50, ALPHA: 0.61 and ETA 0.9099999999999999\n"
     ]
    },
    {
     "name": "stderr",
     "output_type": "stream",
     "text": [
      "2024-04-24 07:17:04,091 - distributed.utils_perf - WARNING - full garbage collections took 73% CPU time recently (threshold: 10%)\n",
      "2024-04-24 07:17:04,377 - distributed.utils_perf - WARNING - full garbage collections took 73% CPU time recently (threshold: 10%)\n",
      "2024-04-24 07:17:04,704 - distributed.utils_perf - WARNING - full garbage collections took 73% CPU time recently (threshold: 10%)\n",
      "2024-04-24 07:17:04,991 - distributed.utils_perf - WARNING - full garbage collections took 73% CPU time recently (threshold: 10%)\n"
     ]
    },
    {
     "name": "stdout",
     "output_type": "stream",
     "text": [
      "Adaptive throttling (attempt 1 of 4  for LdaModel hyperparameters combination -- topic: 50, ALPHA: 0.61 and ETA 0.9099999999999999\n",
      "Adaptive throttling (method: exponential backoff) completed in 3.61 seconds\n",
      "\n"
     ]
    },
    {
     "name": "stderr",
     "output_type": "stream",
     "text": [
      "2024-04-24 07:17:07,809 - distributed.utils_perf - WARNING - full garbage collections took 73% CPU time recently (threshold: 10%)\n"
     ]
    },
    {
     "name": "stdout",
     "output_type": "stream",
     "text": [
      "\n",
      "Evaluating if adaptive throttling is necessary (method exponential backoff)...\n"
     ]
    },
    {
     "name": "stderr",
     "output_type": "stream",
     "text": [
      "2024-04-24 07:17:08,737 - distributed.utils_perf - WARNING - full garbage collections took 73% CPU time recently (threshold: 10%)\n"
     ]
    },
    {
     "name": "stdout",
     "output_type": "stream",
     "text": [
      "Adaptive throttling (attempt 0 of 4  for LdaModel hyperparameters combination -- topic: 50, ALPHA: 0.9099999999999999 and ETA symmetric\n"
     ]
    },
    {
     "name": "stderr",
     "output_type": "stream",
     "text": [
      "2024-04-24 07:17:09,872 - distributed.utils_perf - WARNING - full garbage collections took 73% CPU time recently (threshold: 10%)\n"
     ]
    },
    {
     "name": "stdout",
     "output_type": "stream",
     "text": [
      "coherence: 0.3884180960411628, n_alpha: 0.60999999999999998667732370449812151491641998291015625, alpha_str: 0.61, n_beta: 0.60999999999999998667732370449812151491641998291015625, beta_str: 0.61\n",
      "coherence: 0.37349334035335763, n_alpha: 0.60999999999999998667732370449812151491641998291015625, alpha_str: 0.61, n_beta: 0.60999999999999998667732370449812151491641998291015625, beta_str: 0.61\n"
     ]
    },
    {
     "name": "stderr",
     "output_type": "stream",
     "text": [
      "2024-04-24 07:17:10,184 - distributed.utils_perf - WARNING - full garbage collections took 73% CPU time recently (threshold: 10%)\n",
      "2024-04-24 07:17:10,450 - distributed.utils_perf - WARNING - full garbage collections took 73% CPU time recently (threshold: 10%)\n",
      "2024-04-24 07:17:10,720 - distributed.utils_perf - WARNING - full garbage collections took 73% CPU time recently (threshold: 10%)\n",
      "2024-04-24 07:17:11,054 - distributed.utils_perf - WARNING - full garbage collections took 73% CPU time recently (threshold: 10%)\n",
      "2024-04-24 07:17:11,353 - distributed.utils_perf - WARNING - full garbage collections took 73% CPU time recently (threshold: 10%)\n"
     ]
    },
    {
     "name": "stdout",
     "output_type": "stream",
     "text": [
      "Adaptive throttling (attempt 1 of 4  for LdaModel hyperparameters combination -- topic: 50, ALPHA: 0.9099999999999999 and ETA symmetric\n",
      "Adaptive throttling (method: exponential backoff) completed in 5.92 seconds\n",
      "\n"
     ]
    },
    {
     "name": "stderr",
     "output_type": "stream",
     "text": [
      "2024-04-24 07:17:14,239 - distributed.utils_perf - WARNING - full garbage collections took 74% CPU time recently (threshold: 10%)\n"
     ]
    },
    {
     "name": "stdout",
     "output_type": "stream",
     "text": [
      "\n",
      "Evaluating if adaptive throttling is necessary (method exponential backoff)...\n",
      "Adaptive throttling (method: exponential backoff) was not necessary...\n",
      "\n"
     ]
    },
    {
     "name": "stderr",
     "output_type": "stream",
     "text": [
      "2024-04-24 07:17:15,281 - distributed.utils_perf - WARNING - full garbage collections took 73% CPU time recently (threshold: 10%)\n"
     ]
    },
    {
     "name": "stdout",
     "output_type": "stream",
     "text": [
      "\n",
      "Evaluating if adaptive throttling is necessary (method exponential backoff)...\n",
      "coherence: 0.3884180960411628, n_alpha: 0.60999999999999998667732370449812151491641998291015625, alpha_str: 0.61, n_beta: 0.9099999999999999200639422269887290894985198974609375, beta_str: 0.9099999999999999\n"
     ]
    },
    {
     "name": "stderr",
     "output_type": "stream",
     "text": [
      "2024-04-24 07:17:16,053 - distributed.utils_perf - WARNING - full garbage collections took 73% CPU time recently (threshold: 10%)\n"
     ]
    },
    {
     "name": "stdout",
     "output_type": "stream",
     "text": [
      "coherence: 0.37349334035335763, n_alpha: 0.60999999999999998667732370449812151491641998291015625, alpha_str: 0.61, n_beta: 0.9099999999999999200639422269887290894985198974609375, beta_str: 0.9099999999999999\n"
     ]
    },
    {
     "name": "stderr",
     "output_type": "stream",
     "text": [
      "2024-04-24 07:17:16,487 - distributed.utils_perf - WARNING - full garbage collections took 73% CPU time recently (threshold: 10%)\n",
      "2024-04-24 07:17:16,774 - distributed.utils_perf - WARNING - full garbage collections took 73% CPU time recently (threshold: 10%)\n",
      "2024-04-24 07:17:17,037 - distributed.utils_perf - WARNING - full garbage collections took 73% CPU time recently (threshold: 10%)\n",
      "2024-04-24 07:17:17,437 - distributed.utils_perf - WARNING - full garbage collections took 73% CPU time recently (threshold: 10%)\n",
      "2024-04-24 07:17:17,737 - distributed.utils_perf - WARNING - full garbage collections took 73% CPU time recently (threshold: 10%)\n"
     ]
    },
    {
     "name": "stdout",
     "output_type": "stream",
     "text": [
      "Adaptive throttling (attempt 0 of 4  for LdaModel hyperparameters combination -- topic: 50, ALPHA: 0.9099999999999999 and ETA 0.31\n"
     ]
    },
    {
     "name": "stderr",
     "output_type": "stream",
     "text": [
      "2024-04-24 07:17:18,187 - distributed.utils_perf - WARNING - full garbage collections took 73% CPU time recently (threshold: 10%)\n",
      "2024-04-24 07:17:18,820 - distributed.utils_perf - WARNING - full garbage collections took 73% CPU time recently (threshold: 10%)\n",
      "2024-04-24 07:17:19,280 - distributed.utils_perf - WARNING - full garbage collections took 73% CPU time recently (threshold: 10%)\n"
     ]
    },
    {
     "name": "stdout",
     "output_type": "stream",
     "text": [
      "Adaptive throttling (attempt 1 of 4  for LdaModel hyperparameters combination -- topic: 50, ALPHA: 0.9099999999999999 and ETA 0.31\n",
      "Adaptive throttling (method: exponential backoff) completed in 6.22 seconds\n",
      "\n"
     ]
    },
    {
     "name": "stderr",
     "output_type": "stream",
     "text": [
      "2024-04-24 07:17:22,504 - distributed.utils_perf - WARNING - full garbage collections took 74% CPU time recently (threshold: 10%)\n"
     ]
    },
    {
     "name": "stdout",
     "output_type": "stream",
     "text": [
      "\n",
      "Evaluating if adaptive throttling is necessary (method exponential backoff)...\n",
      "Adaptive throttling (attempt 0 of 4  for LdaModel hyperparameters combination -- topic: 50, ALPHA: 0.9099999999999999 and ETA 0.61\n"
     ]
    },
    {
     "name": "stderr",
     "output_type": "stream",
     "text": [
      "2024-04-24 07:17:25,120 - distributed.utils_perf - WARNING - full garbage collections took 74% CPU time recently (threshold: 10%)\n"
     ]
    },
    {
     "name": "stdout",
     "output_type": "stream",
     "text": [
      "coherence: 0.3884180960411628, n_alpha: 0.9099999999999999200639422269887290894985198974609375, alpha_str: 0.9099999999999999, n_beta: 0.125, beta_str: symmetric\n",
      "coherence: 0.36589384758921767, n_alpha: 0.9099999999999999200639422269887290894985198974609375, alpha_str: 0.9099999999999999, n_beta: 0.125, beta_str: symmetric\n"
     ]
    },
    {
     "name": "stderr",
     "output_type": "stream",
     "text": [
      "2024-04-24 07:17:25,420 - distributed.utils_perf - WARNING - full garbage collections took 74% CPU time recently (threshold: 10%)\n",
      "2024-04-24 07:17:26,204 - distributed.utils_perf - WARNING - full garbage collections took 74% CPU time recently (threshold: 10%)\n"
     ]
    },
    {
     "name": "stdout",
     "output_type": "stream",
     "text": [
      "coherence: 0.37349334035335763, n_alpha: 0.9099999999999999200639422269887290894985198974609375, alpha_str: 0.9099999999999999, n_beta: 0.01000000000000000020816681711721685132943093776702880859375, beta_str: 0.01\n"
     ]
    },
    {
     "name": "stderr",
     "output_type": "stream",
     "text": [
      "2024-04-24 07:17:26,736 - distributed.utils_perf - WARNING - full garbage collections took 74% CPU time recently (threshold: 10%)\n"
     ]
    },
    {
     "name": "stdout",
     "output_type": "stream",
     "text": [
      "coherence: 0.3884180960411628, n_alpha: 0.9099999999999999200639422269887290894985198974609375, alpha_str: 0.9099999999999999, n_beta: 0.01000000000000000020816681711721685132943093776702880859375, beta_str: 0.01\n"
     ]
    },
    {
     "name": "stderr",
     "output_type": "stream",
     "text": [
      "2024-04-24 07:17:27,104 - distributed.utils_perf - WARNING - full garbage collections took 74% CPU time recently (threshold: 10%)\n"
     ]
    },
    {
     "name": "stdout",
     "output_type": "stream",
     "text": [
      "Adaptive throttling (attempt 1 of 4  for LdaModel hyperparameters combination -- topic: 50, ALPHA: 0.9099999999999999 and ETA 0.61\n"
     ]
    },
    {
     "name": "stderr",
     "output_type": "stream",
     "text": [
      "2024-04-24 07:17:27,603 - distributed.utils_perf - WARNING - full garbage collections took 74% CPU time recently (threshold: 10%)\n",
      "2024-04-24 07:17:28,022 - distributed.utils_perf - WARNING - full garbage collections took 74% CPU time recently (threshold: 10%)\n"
     ]
    },
    {
     "name": "stdout",
     "output_type": "stream",
     "text": [
      "Adaptive throttling (method: exponential backoff) completed in 6.71 seconds\n",
      "\n"
     ]
    },
    {
     "name": "stderr",
     "output_type": "stream",
     "text": [
      "2024-04-24 07:17:29,738 - distributed.utils_perf - WARNING - full garbage collections took 74% CPU time recently (threshold: 10%)\n"
     ]
    },
    {
     "name": "stdout",
     "output_type": "stream",
     "text": [
      "\n",
      "Evaluating if adaptive throttling is necessary (method exponential backoff)...\n",
      "Adaptive throttling (method: exponential backoff) was not necessary...\n",
      "\n"
     ]
    },
    {
     "name": "stderr",
     "output_type": "stream",
     "text": [
      "2024-04-24 07:17:30,820 - distributed.utils_perf - WARNING - full garbage collections took 74% CPU time recently (threshold: 10%)\n"
     ]
    },
    {
     "name": "stdout",
     "output_type": "stream",
     "text": [
      "\n",
      "Evaluating if adaptive throttling is necessary (method exponential backoff)...\n",
      "Adaptive throttling (method: exponential backoff) was not necessary...\n",
      "\n"
     ]
    },
    {
     "name": "stderr",
     "output_type": "stream",
     "text": [
      "2024-04-24 07:17:31,687 - distributed.utils_perf - WARNING - full garbage collections took 74% CPU time recently (threshold: 10%)\n"
     ]
    },
    {
     "name": "stdout",
     "output_type": "stream",
     "text": [
      "\n",
      "Evaluating if adaptive throttling is necessary (method exponential backoff)...\n",
      "coherence: 0.3884180960411628, n_alpha: 0.9099999999999999200639422269887290894985198974609375, alpha_str: 0.9099999999999999, n_beta: 0.309999999999999997779553950749686919152736663818359375, beta_str: 0.31\n"
     ]
    },
    {
     "name": "stderr",
     "output_type": "stream",
     "text": [
      "2024-04-24 07:17:32,787 - distributed.utils_perf - WARNING - full garbage collections took 74% CPU time recently (threshold: 10%)\n"
     ]
    },
    {
     "name": "stdout",
     "output_type": "stream",
     "text": [
      "coherence: 0.37349334035335763, n_alpha: 0.9099999999999999200639422269887290894985198974609375, alpha_str: 0.9099999999999999, n_beta: 0.309999999999999997779553950749686919152736663818359375, beta_str: 0.31\n"
     ]
    },
    {
     "name": "stderr",
     "output_type": "stream",
     "text": [
      "2024-04-24 07:17:33,154 - distributed.utils_perf - WARNING - full garbage collections took 74% CPU time recently (threshold: 10%)\n",
      "2024-04-24 07:17:33,437 - distributed.utils_perf - WARNING - full garbage collections took 74% CPU time recently (threshold: 10%)\n",
      "2024-04-24 07:17:33,704 - distributed.utils_perf - WARNING - full garbage collections took 74% CPU time recently (threshold: 10%)\n",
      "2024-04-24 07:17:34,120 - distributed.utils_perf - WARNING - full garbage collections took 74% CPU time recently (threshold: 10%)\n",
      "2024-04-24 07:17:34,470 - distributed.utils_perf - WARNING - full garbage collections took 74% CPU time recently (threshold: 10%)\n",
      "2024-04-24 07:17:34,769 - distributed.utils_perf - WARNING - full garbage collections took 74% CPU time recently (threshold: 10%)\n",
      "2024-04-24 07:17:35,040 - distributed.utils_perf - WARNING - full garbage collections took 74% CPU time recently (threshold: 10%)\n"
     ]
    },
    {
     "name": "stdout",
     "output_type": "stream",
     "text": [
      "Adaptive throttling (attempt 0 of 4  for LdaModel hyperparameters combination -- topic: 52, ALPHA: symmetric and ETA 0.01\n"
     ]
    },
    {
     "name": "stderr",
     "output_type": "stream",
     "text": [
      "2024-04-24 07:17:35,403 - distributed.utils_perf - WARNING - full garbage collections took 74% CPU time recently (threshold: 10%)\n",
      "2024-04-24 07:17:36,187 - distributed.utils_perf - WARNING - full garbage collections took 74% CPU time recently (threshold: 10%)\n",
      "2024-04-24 07:17:36,793 - distributed.utils_perf - WARNING - full garbage collections took 74% CPU time recently (threshold: 10%)\n"
     ]
    },
    {
     "name": "stdout",
     "output_type": "stream",
     "text": [
      "Adaptive throttling (attempt 1 of 4  for LdaModel hyperparameters combination -- topic: 52, ALPHA: symmetric and ETA 0.01\n"
     ]
    },
    {
     "name": "stderr",
     "output_type": "stream",
     "text": [
      "2024-04-24 07:17:38,537 - distributed.utils_perf - WARNING - full garbage collections took 74% CPU time recently (threshold: 10%)\n",
      "2024-04-24 07:17:39,369 - distributed.utils_perf - WARNING - full garbage collections took 74% CPU time recently (threshold: 10%)\n"
     ]
    },
    {
     "name": "stdout",
     "output_type": "stream",
     "text": [
      "coherence: 0.37349334035335763, n_alpha: 0.9099999999999999200639422269887290894985198974609375, alpha_str: 0.9099999999999999, n_beta: 0.9099999999999999200639422269887290894985198974609375, beta_str: 0.9099999999999999\n"
     ]
    },
    {
     "name": "stderr",
     "output_type": "stream",
     "text": [
      "2024-04-24 07:17:42,072 - distributed.utils_perf - WARNING - full garbage collections took 74% CPU time recently (threshold: 10%)\n",
      "2024-04-24 07:17:43,319 - distributed.utils_perf - WARNING - full garbage collections took 74% CPU time recently (threshold: 10%)\n",
      "2024-04-24 07:17:43,902 - distributed.utils_perf - WARNING - full garbage collections took 74% CPU time recently (threshold: 10%)\n",
      "2024-04-24 07:17:44,304 - distributed.utils_perf - WARNING - full garbage collections took 74% CPU time recently (threshold: 10%)\n"
     ]
    },
    {
     "name": "stdout",
     "output_type": "stream",
     "text": [
      "coherence: 0.3884180960411628, n_alpha: 0.9099999999999999200639422269887290894985198974609375, alpha_str: 0.9099999999999999, n_beta: 0.60999999999999998667732370449812151491641998291015625, beta_str: 0.61\n",
      "coherence: 0.37349334035335763, n_alpha: 0.9099999999999999200639422269887290894985198974609375, alpha_str: 0.9099999999999999, n_beta: 0.60999999999999998667732370449812151491641998291015625, beta_str: 0.61\n",
      "coherence: 0.3884180960411628, n_alpha: 0.9099999999999999200639422269887290894985198974609375, alpha_str: 0.9099999999999999, n_beta: 0.9099999999999999200639422269887290894985198974609375, beta_str: 0.9099999999999999\n"
     ]
    },
    {
     "name": "stderr",
     "output_type": "stream",
     "text": [
      "2024-04-24 07:17:44,852 - distributed.utils_perf - WARNING - full garbage collections took 74% CPU time recently (threshold: 10%)\n",
      "2024-04-24 07:17:45,507 - distributed.utils_perf - WARNING - full garbage collections took 74% CPU time recently (threshold: 10%)\n"
     ]
    },
    {
     "name": "stdout",
     "output_type": "stream",
     "text": [
      "coherence: 0.38841809604116284, n_alpha: 0.125, alpha_str: symmetric, n_beta: 0.125, beta_str: symmetric\n",
      "Adaptive throttling (attempt 2 of 4  for LdaModel hyperparameters combination -- topic: 52, ALPHA: symmetric and ETA 0.01\n"
     ]
    },
    {
     "name": "stderr",
     "output_type": "stream",
     "text": [
      "2024-04-24 07:17:45,885 - distributed.utils_perf - WARNING - full garbage collections took 74% CPU time recently (threshold: 10%)\n",
      "2024-04-24 07:17:46,157 - distributed.utils_perf - WARNING - full garbage collections took 74% CPU time recently (threshold: 10%)\n",
      "2024-04-24 07:17:46,453 - distributed.utils_perf - WARNING - full garbage collections took 74% CPU time recently (threshold: 10%)\n"
     ]
    },
    {
     "name": "stdout",
     "output_type": "stream",
     "text": [
      "coherence: 0.37400484467402095, n_alpha: 0.125, alpha_str: symmetric, n_beta: 0.125, beta_str: symmetric\n"
     ]
    },
    {
     "name": "stderr",
     "output_type": "stream",
     "text": [
      "2024-04-24 07:17:49,753 - distributed.utils_perf - WARNING - full garbage collections took 74% CPU time recently (threshold: 10%)\n",
      "2024-04-24 07:17:50,020 - distributed.utils_perf - WARNING - full garbage collections took 74% CPU time recently (threshold: 10%)\n",
      "2024-04-24 07:17:50,403 - distributed.utils_perf - WARNING - full garbage collections took 73% CPU time recently (threshold: 10%)\n"
     ]
    },
    {
     "name": "stdout",
     "output_type": "stream",
     "text": [
      "Adaptive throttling (method: exponential backoff) completed in 18.38 seconds\n",
      "\n",
      "\n",
      "Evaluating if adaptive throttling is necessary (method exponential backoff)...\n",
      "Adaptive throttling (method: exponential backoff) was not necessary...\n",
      "\n"
     ]
    },
    {
     "name": "stderr",
     "output_type": "stream",
     "text": [
      "2024-04-24 07:17:50,704 - distributed.utils_perf - WARNING - full garbage collections took 74% CPU time recently (threshold: 10%)\n",
      "2024-04-24 07:17:50,970 - distributed.utils_perf - WARNING - full garbage collections took 74% CPU time recently (threshold: 10%)\n"
     ]
    },
    {
     "name": "stdout",
     "output_type": "stream",
     "text": [
      "\n",
      "Evaluating if adaptive throttling is necessary (method exponential backoff)...\n"
     ]
    },
    {
     "name": "stderr",
     "output_type": "stream",
     "text": [
      "2024-04-24 07:17:51,287 - distributed.utils_perf - WARNING - full garbage collections took 74% CPU time recently (threshold: 10%)\n"
     ]
    },
    {
     "name": "stdout",
     "output_type": "stream",
     "text": [
      "Adaptive throttling (attempt 0 of 4  for LdaModel hyperparameters combination -- topic: 52, ALPHA: symmetric and ETA 0.61\n"
     ]
    },
    {
     "name": "stderr",
     "output_type": "stream",
     "text": [
      "2024-04-24 07:17:51,720 - distributed.utils_perf - WARNING - full garbage collections took 74% CPU time recently (threshold: 10%)\n",
      "2024-04-24 07:17:52,153 - distributed.utils_perf - WARNING - full garbage collections took 74% CPU time recently (threshold: 10%)\n",
      "2024-04-24 07:17:52,503 - distributed.utils_perf - WARNING - full garbage collections took 74% CPU time recently (threshold: 10%)\n",
      "2024-04-24 07:17:52,959 - distributed.utils_perf - WARNING - full garbage collections took 74% CPU time recently (threshold: 10%)\n",
      "2024-04-24 07:17:53,454 - distributed.utils_perf - WARNING - full garbage collections took 74% CPU time recently (threshold: 10%)\n"
     ]
    },
    {
     "name": "stdout",
     "output_type": "stream",
     "text": [
      "Adaptive throttling (attempt 1 of 4  for LdaModel hyperparameters combination -- topic: 52, ALPHA: symmetric and ETA 0.61\n",
      "Adaptive throttling (attempt 2 of 4  for LdaModel hyperparameters combination -- topic: 52, ALPHA: symmetric and ETA 0.61\n",
      "coherence: 0.372178043528795, n_alpha: 0.125, alpha_str: symmetric, n_beta: 0.01000000000000000020816681711721685132943093776702880859375, beta_str: 0.01\n"
     ]
    },
    {
     "name": "stderr",
     "output_type": "stream",
     "text": [
      "2024-04-24 07:17:58,737 - distributed.utils_perf - WARNING - full garbage collections took 74% CPU time recently (threshold: 10%)\n",
      "2024-04-24 07:17:59,453 - distributed.utils_perf - WARNING - full garbage collections took 74% CPU time recently (threshold: 10%)\n"
     ]
    },
    {
     "name": "stdout",
     "output_type": "stream",
     "text": [
      "coherence: 0.38841809604116284, n_alpha: 0.125, alpha_str: symmetric, n_beta: 0.01000000000000000020816681711721685132943093776702880859375, beta_str: 0.01\n"
     ]
    },
    {
     "name": "stderr",
     "output_type": "stream",
     "text": [
      "2024-04-24 07:18:00,073 - distributed.utils_perf - WARNING - full garbage collections took 74% CPU time recently (threshold: 10%)\n"
     ]
    },
    {
     "name": "stdout",
     "output_type": "stream",
     "text": [
      "coherence: 0.38841809604116284, n_alpha: 0.125, alpha_str: symmetric, n_beta: 0.309999999999999997779553950749686919152736663818359375, beta_str: 0.31\n"
     ]
    },
    {
     "name": "stderr",
     "output_type": "stream",
     "text": [
      "2024-04-24 07:18:00,553 - distributed.utils_perf - WARNING - full garbage collections took 74% CPU time recently (threshold: 10%)\n",
      "2024-04-24 07:18:00,989 - distributed.utils_perf - WARNING - full garbage collections took 74% CPU time recently (threshold: 10%)\n",
      "2024-04-24 07:18:01,320 - distributed.utils_perf - WARNING - full garbage collections took 74% CPU time recently (threshold: 10%)\n"
     ]
    },
    {
     "name": "stdout",
     "output_type": "stream",
     "text": [
      "coherence: 0.3794852481096988, n_alpha: 0.125, alpha_str: symmetric, n_beta: 0.309999999999999997779553950749686919152736663818359375, beta_str: 0.31\n"
     ]
    },
    {
     "name": "stderr",
     "output_type": "stream",
     "text": [
      "2024-04-24 07:18:01,687 - distributed.utils_perf - WARNING - full garbage collections took 74% CPU time recently (threshold: 10%)\n",
      "2024-04-24 07:18:01,987 - distributed.utils_perf - WARNING - full garbage collections took 74% CPU time recently (threshold: 10%)\n"
     ]
    },
    {
     "name": "stdout",
     "output_type": "stream",
     "text": [
      "Adaptive throttling (attempt 3 of 4  for LdaModel hyperparameters combination -- topic: 52, ALPHA: symmetric and ETA 0.61\n",
      "Adaptive throttling (method: exponential backoff) completed in 19.15 seconds\n",
      "\n"
     ]
    },
    {
     "name": "stderr",
     "output_type": "stream",
     "text": [
      "2024-04-24 07:18:10,377 - distributed.utils_perf - WARNING - full garbage collections took 74% CPU time recently (threshold: 10%)\n"
     ]
    },
    {
     "name": "stdout",
     "output_type": "stream",
     "text": [
      "\n",
      "Evaluating if adaptive throttling is necessary (method exponential backoff)...\n",
      "Adaptive throttling (method: exponential backoff) was not necessary...\n",
      "\n"
     ]
    },
    {
     "name": "stderr",
     "output_type": "stream",
     "text": [
      "2024-04-24 07:18:10,687 - distributed.utils_perf - WARNING - full garbage collections took 74% CPU time recently (threshold: 10%)\n"
     ]
    },
    {
     "name": "stdout",
     "output_type": "stream",
     "text": [
      "\n",
      "Evaluating if adaptive throttling is necessary (method exponential backoff)...\n"
     ]
    },
    {
     "name": "stderr",
     "output_type": "stream",
     "text": [
      "2024-04-24 07:18:11,087 - distributed.utils_perf - WARNING - full garbage collections took 74% CPU time recently (threshold: 10%)\n",
      "2024-04-24 07:18:11,403 - distributed.utils_perf - WARNING - full garbage collections took 74% CPU time recently (threshold: 10%)\n",
      "2024-04-24 07:18:11,753 - distributed.utils_perf - WARNING - full garbage collections took 74% CPU time recently (threshold: 10%)\n",
      "2024-04-24 07:18:12,076 - distributed.utils_perf - WARNING - full garbage collections took 74% CPU time recently (threshold: 10%)\n"
     ]
    },
    {
     "name": "stdout",
     "output_type": "stream",
     "text": [
      "Adaptive throttling (method: exponential backoff) was not necessary...\n",
      "\n"
     ]
    },
    {
     "name": "stderr",
     "output_type": "stream",
     "text": [
      "2024-04-24 07:18:12,620 - distributed.utils_perf - WARNING - full garbage collections took 75% CPU time recently (threshold: 10%)\n",
      "2024-04-24 07:18:13,037 - distributed.utils_perf - WARNING - full garbage collections took 75% CPU time recently (threshold: 10%)\n"
     ]
    },
    {
     "name": "stdout",
     "output_type": "stream",
     "text": [
      "\n",
      "Evaluating if adaptive throttling is necessary (method exponential backoff)...\n"
     ]
    },
    {
     "name": "stderr",
     "output_type": "stream",
     "text": [
      "2024-04-24 07:18:13,603 - distributed.utils_perf - WARNING - full garbage collections took 75% CPU time recently (threshold: 10%)\n",
      "2024-04-24 07:18:14,053 - distributed.utils_perf - WARNING - full garbage collections took 75% CPU time recently (threshold: 10%)\n"
     ]
    },
    {
     "name": "stdout",
     "output_type": "stream",
     "text": [
      "Adaptive throttling (attempt 0 of 4  for LdaModel hyperparameters combination -- topic: 52, ALPHA: asymmetric and ETA 0.01\n"
     ]
    },
    {
     "name": "stderr",
     "output_type": "stream",
     "text": [
      "2024-04-24 07:18:15,355 - distributed.utils_perf - WARNING - full garbage collections took 75% CPU time recently (threshold: 10%)\n",
      "2024-04-24 07:18:16,054 - distributed.utils_perf - WARNING - full garbage collections took 75% CPU time recently (threshold: 10%)\n"
     ]
    },
    {
     "name": "stdout",
     "output_type": "stream",
     "text": [
      "coherence: 0.38841809604116284, n_alpha: 0.125, alpha_str: symmetric, n_beta: 0.60999999999999998667732370449812151491641998291015625, beta_str: 0.61\n"
     ]
    },
    {
     "name": "stderr",
     "output_type": "stream",
     "text": [
      "2024-04-24 07:18:17,987 - distributed.utils_perf - WARNING - full garbage collections took 75% CPU time recently (threshold: 10%)\n",
      "2024-04-24 07:18:18,820 - distributed.utils_perf - WARNING - full garbage collections took 75% CPU time recently (threshold: 10%)\n"
     ]
    },
    {
     "name": "stdout",
     "output_type": "stream",
     "text": [
      "coherence: 0.3831388504001507, n_alpha: 0.125, alpha_str: symmetric, n_beta: 0.60999999999999998667732370449812151491641998291015625, beta_str: 0.61\n"
     ]
    },
    {
     "name": "stderr",
     "output_type": "stream",
     "text": [
      "2024-04-24 07:18:20,137 - distributed.utils_perf - WARNING - full garbage collections took 75% CPU time recently (threshold: 10%)\n",
      "2024-04-24 07:18:20,636 - distributed.utils_perf - WARNING - full garbage collections took 75% CPU time recently (threshold: 10%)\n"
     ]
    },
    {
     "name": "stdout",
     "output_type": "stream",
     "text": [
      "coherence: 0.38841809604116284, n_alpha: 0.125, alpha_str: symmetric, n_beta: 0.9099999999999999200639422269887290894985198974609375, beta_str: 0.9099999999999999\n",
      "Adaptive throttling (attempt 1 of 4  for LdaModel hyperparameters combination -- topic: 52, ALPHA: asymmetric and ETA 0.01\n"
     ]
    },
    {
     "name": "stderr",
     "output_type": "stream",
     "text": [
      "2024-04-24 07:18:21,553 - distributed.utils_perf - WARNING - full garbage collections took 75% CPU time recently (threshold: 10%)\n"
     ]
    },
    {
     "name": "stdout",
     "output_type": "stream",
     "text": [
      "coherence: 0.3831388504001507, n_alpha: 0.125, alpha_str: symmetric, n_beta: 0.9099999999999999200639422269887290894985198974609375, beta_str: 0.9099999999999999\n"
     ]
    },
    {
     "name": "stderr",
     "output_type": "stream",
     "text": [
      "2024-04-24 07:18:22,107 - distributed.utils_perf - WARNING - full garbage collections took 75% CPU time recently (threshold: 10%)\n"
     ]
    },
    {
     "name": "stdout",
     "output_type": "stream",
     "text": [
      "coherence: 0.38954094709080667, n_alpha: 0.09234951562953231968565397412, alpha_str: asymmetric, n_beta: 0.125, beta_str: symmetric\n"
     ]
    },
    {
     "name": "stderr",
     "output_type": "stream",
     "text": [
      "2024-04-24 07:18:22,603 - distributed.utils_perf - WARNING - full garbage collections took 75% CPU time recently (threshold: 10%)\n",
      "2024-04-24 07:18:22,903 - distributed.utils_perf - WARNING - full garbage collections took 75% CPU time recently (threshold: 10%)\n",
      "2024-04-24 07:18:23,187 - distributed.utils_perf - WARNING - full garbage collections took 75% CPU time recently (threshold: 10%)\n"
     ]
    },
    {
     "name": "stdout",
     "output_type": "stream",
     "text": [
      "Adaptive throttling (attempt 2 of 4  for LdaModel hyperparameters combination -- topic: 52, ALPHA: asymmetric and ETA 0.01\n"
     ]
    },
    {
     "name": "stderr",
     "output_type": "stream",
     "text": [
      "2024-04-24 07:18:23,614 - distributed.utils_perf - WARNING - full garbage collections took 75% CPU time recently (threshold: 10%)\n",
      "2024-04-24 07:18:23,920 - distributed.utils_perf - WARNING - full garbage collections took 75% CPU time recently (threshold: 10%)\n",
      "2024-04-24 07:18:27,040 - distributed.utils_perf - WARNING - full garbage collections took 75% CPU time recently (threshold: 10%)\n"
     ]
    },
    {
     "name": "stdout",
     "output_type": "stream",
     "text": [
      "coherence: 0.3831388504001507, n_alpha: 0.09234951562953231968565397412, alpha_str: asymmetric, n_beta: 0.125, beta_str: symmetric\n"
     ]
    },
    {
     "name": "stderr",
     "output_type": "stream",
     "text": [
      "2024-04-24 07:18:27,320 - distributed.utils_perf - WARNING - full garbage collections took 75% CPU time recently (threshold: 10%)\n"
     ]
    },
    {
     "name": "stdout",
     "output_type": "stream",
     "text": [
      "Adaptive throttling (method: exponential backoff) completed in 14.36 seconds\n",
      "\n"
     ]
    },
    {
     "name": "stderr",
     "output_type": "stream",
     "text": [
      "2024-04-24 07:18:27,703 - distributed.utils_perf - WARNING - full garbage collections took 75% CPU time recently (threshold: 10%)\n"
     ]
    },
    {
     "name": "stdout",
     "output_type": "stream",
     "text": [
      "\n",
      "Evaluating if adaptive throttling is necessary (method exponential backoff)...\n",
      "Adaptive throttling (attempt 0 of 4  for LdaModel hyperparameters combination -- topic: 52, ALPHA: asymmetric and ETA 0.31\n"
     ]
    },
    {
     "name": "stderr",
     "output_type": "stream",
     "text": [
      "2024-04-24 07:18:28,103 - distributed.utils_perf - WARNING - full garbage collections took 75% CPU time recently (threshold: 10%)\n",
      "2024-04-24 07:18:28,420 - distributed.utils_perf - WARNING - full garbage collections took 75% CPU time recently (threshold: 10%)\n",
      "2024-04-24 07:18:28,936 - distributed.utils_perf - WARNING - full garbage collections took 75% CPU time recently (threshold: 10%)\n"
     ]
    },
    {
     "name": "stdout",
     "output_type": "stream",
     "text": [
      "Adaptive throttling (attempt 1 of 4  for LdaModel hyperparameters combination -- topic: 52, ALPHA: asymmetric and ETA 0.31\n"
     ]
    },
    {
     "name": "stderr",
     "output_type": "stream",
     "text": [
      "2024-04-24 07:18:29,320 - distributed.utils_perf - WARNING - full garbage collections took 75% CPU time recently (threshold: 10%)\n"
     ]
    },
    {
     "name": "stdout",
     "output_type": "stream",
     "text": [
      "Adaptive throttling (method: exponential backoff) completed in 3.63 seconds\n",
      "\n"
     ]
    },
    {
     "name": "stderr",
     "output_type": "stream",
     "text": [
      "2024-04-24 07:18:31,832 - distributed.utils_perf - WARNING - full garbage collections took 75% CPU time recently (threshold: 10%)\n"
     ]
    },
    {
     "name": "stdout",
     "output_type": "stream",
     "text": [
      "\n",
      "Evaluating if adaptive throttling is necessary (method exponential backoff)...\n",
      "Adaptive throttling (method: exponential backoff) was not necessary...\n",
      "\n"
     ]
    },
    {
     "name": "stderr",
     "output_type": "stream",
     "text": [
      "2024-04-24 07:18:33,040 - distributed.utils_perf - WARNING - full garbage collections took 75% CPU time recently (threshold: 10%)\n"
     ]
    },
    {
     "name": "stdout",
     "output_type": "stream",
     "text": [
      "\n",
      "Evaluating if adaptive throttling is necessary (method exponential backoff)...\n",
      "coherence: 0.3813120492549248, n_alpha: 0.09234951562953231968565397412, alpha_str: asymmetric, n_beta: 0.01000000000000000020816681711721685132943093776702880859375, beta_str: 0.01\n"
     ]
    },
    {
     "name": "stderr",
     "output_type": "stream",
     "text": [
      "2024-04-24 07:18:33,687 - distributed.utils_perf - WARNING - full garbage collections took 75% CPU time recently (threshold: 10%)\n"
     ]
    },
    {
     "name": "stdout",
     "output_type": "stream",
     "text": [
      "coherence: 0.38841809604116284, n_alpha: 0.09234951562953231968565397412, alpha_str: asymmetric, n_beta: 0.01000000000000000020816681711721685132943093776702880859375, beta_str: 0.01\n"
     ]
    },
    {
     "name": "stderr",
     "output_type": "stream",
     "text": [
      "2024-04-24 07:18:34,237 - distributed.utils_perf - WARNING - full garbage collections took 75% CPU time recently (threshold: 10%)\n",
      "2024-04-24 07:18:34,523 - distributed.utils_perf - WARNING - full garbage collections took 75% CPU time recently (threshold: 10%)\n",
      "2024-04-24 07:18:34,803 - distributed.utils_perf - WARNING - full garbage collections took 75% CPU time recently (threshold: 10%)\n",
      "2024-04-24 07:18:35,180 - distributed.utils_perf - WARNING - full garbage collections took 75% CPU time recently (threshold: 10%)\n",
      "2024-04-24 07:18:35,587 - distributed.utils_perf - WARNING - full garbage collections took 75% CPU time recently (threshold: 10%)\n",
      "2024-04-24 07:18:35,879 - distributed.utils_perf - WARNING - full garbage collections took 75% CPU time recently (threshold: 10%)\n"
     ]
    },
    {
     "name": "stdout",
     "output_type": "stream",
     "text": [
      "Adaptive throttling (attempt 0 of 4  for LdaModel hyperparameters combination -- topic: 52, ALPHA: asymmetric and ETA 0.9099999999999999\n"
     ]
    },
    {
     "name": "stderr",
     "output_type": "stream",
     "text": [
      "2024-04-24 07:18:36,503 - distributed.utils_perf - WARNING - full garbage collections took 75% CPU time recently (threshold: 10%)\n",
      "2024-04-24 07:18:36,976 - distributed.utils_perf - WARNING - full garbage collections took 75% CPU time recently (threshold: 10%)\n",
      "2024-04-24 07:18:37,637 - distributed.utils_perf - WARNING - full garbage collections took 75% CPU time recently (threshold: 10%)\n",
      "2024-04-24 07:18:38,270 - distributed.utils_perf - WARNING - full garbage collections took 75% CPU time recently (threshold: 10%)\n"
     ]
    },
    {
     "name": "stdout",
     "output_type": "stream",
     "text": [
      "Adaptive throttling (attempt 1 of 4  for LdaModel hyperparameters combination -- topic: 52, ALPHA: asymmetric and ETA 0.9099999999999999\n",
      "Adaptive throttling (method: exponential backoff) completed in 7.55 seconds\n",
      "\n"
     ]
    },
    {
     "name": "stderr",
     "output_type": "stream",
     "text": [
      "2024-04-24 07:18:41,442 - distributed.utils_perf - WARNING - full garbage collections took 75% CPU time recently (threshold: 10%)\n"
     ]
    },
    {
     "name": "stdout",
     "output_type": "stream",
     "text": [
      "\n",
      "Evaluating if adaptive throttling is necessary (method exponential backoff)...\n",
      "coherence: 0.3849656515453767, n_alpha: 0.09234951562953231968565397412, alpha_str: asymmetric, n_beta: 0.309999999999999997779553950749686919152736663818359375, beta_str: 0.31\n"
     ]
    },
    {
     "name": "stderr",
     "output_type": "stream",
     "text": [
      "2024-04-24 07:18:42,877 - distributed.utils_perf - WARNING - full garbage collections took 75% CPU time recently (threshold: 10%)\n",
      "2024-04-24 07:18:43,250 - distributed.utils_perf - WARNING - full garbage collections took 75% CPU time recently (threshold: 10%)\n"
     ]
    },
    {
     "name": "stdout",
     "output_type": "stream",
     "text": [
      "coherence: 0.3884180960411629, n_alpha: 0.09234951562953231968565397412, alpha_str: asymmetric, n_beta: 0.309999999999999997779553950749686919152736663818359375, beta_str: 0.31\n"
     ]
    },
    {
     "name": "stderr",
     "output_type": "stream",
     "text": [
      "2024-04-24 07:18:43,722 - distributed.utils_perf - WARNING - full garbage collections took 75% CPU time recently (threshold: 10%)\n"
     ]
    },
    {
     "name": "stdout",
     "output_type": "stream",
     "text": [
      "coherence: 0.3849656515453767, n_alpha: 0.09234951562953231968565397412, alpha_str: asymmetric, n_beta: 0.60999999999999998667732370449812151491641998291015625, beta_str: 0.61coherence: 0.38841809604116284, n_alpha: 0.09234951562953231968565397412, alpha_str: asymmetric, n_beta: 0.60999999999999998667732370449812151491641998291015625, beta_str: 0.61\n",
      "\n"
     ]
    },
    {
     "name": "stderr",
     "output_type": "stream",
     "text": [
      "2024-04-24 07:18:44,332 - distributed.utils_perf - WARNING - full garbage collections took 75% CPU time recently (threshold: 10%)\n",
      "2024-04-24 07:18:44,696 - distributed.utils_perf - WARNING - full garbage collections took 75% CPU time recently (threshold: 10%)\n",
      "2024-04-24 07:18:44,988 - distributed.utils_perf - WARNING - full garbage collections took 75% CPU time recently (threshold: 10%)\n"
     ]
    },
    {
     "name": "stdout",
     "output_type": "stream",
     "text": [
      "Adaptive throttling (attempt 0 of 4  for LdaModel hyperparameters combination -- topic: 52, ALPHA: 0.01 and ETA symmetric\n"
     ]
    },
    {
     "name": "stderr",
     "output_type": "stream",
     "text": [
      "2024-04-24 07:18:45,413 - distributed.utils_perf - WARNING - full garbage collections took 75% CPU time recently (threshold: 10%)\n",
      "2024-04-24 07:18:45,705 - distributed.utils_perf - WARNING - full garbage collections took 75% CPU time recently (threshold: 10%)\n",
      "2024-04-24 07:18:46,070 - distributed.utils_perf - WARNING - full garbage collections took 75% CPU time recently (threshold: 10%)\n",
      "2024-04-24 07:18:46,366 - distributed.utils_perf - WARNING - full garbage collections took 75% CPU time recently (threshold: 10%)\n"
     ]
    },
    {
     "name": "stdout",
     "output_type": "stream",
     "text": [
      "Adaptive throttling (attempt 1 of 4  for LdaModel hyperparameters combination -- topic: 52, ALPHA: 0.01 and ETA symmetric\n",
      "Adaptive throttling (method: exponential backoff) completed in 7.22 seconds\n",
      "\n"
     ]
    },
    {
     "name": "stderr",
     "output_type": "stream",
     "text": [
      "2024-04-24 07:18:49,360 - distributed.utils_perf - WARNING - full garbage collections took 75% CPU time recently (threshold: 10%)\n"
     ]
    },
    {
     "name": "stdout",
     "output_type": "stream",
     "text": [
      "\n",
      "Evaluating if adaptive throttling is necessary (method exponential backoff)...\n"
     ]
    },
    {
     "name": "stderr",
     "output_type": "stream",
     "text": [
      "2024-04-24 07:18:50,123 - distributed.utils_perf - WARNING - full garbage collections took 75% CPU time recently (threshold: 10%)\n"
     ]
    },
    {
     "name": "stdout",
     "output_type": "stream",
     "text": [
      "Adaptive throttling (attempt 0 of 4  for LdaModel hyperparameters combination -- topic: 52, ALPHA: 0.01 and ETA 0.01\n"
     ]
    },
    {
     "name": "stderr",
     "output_type": "stream",
     "text": [
      "2024-04-24 07:18:50,838 - distributed.utils_perf - WARNING - full garbage collections took 75% CPU time recently (threshold: 10%)\n"
     ]
    },
    {
     "name": "stdout",
     "output_type": "stream",
     "text": [
      "coherence: 0.3849656515453767, n_alpha: 0.09234951562953231968565397412, alpha_str: asymmetric, n_beta: 0.9099999999999999200639422269887290894985198974609375, beta_str: 0.9099999999999999\n"
     ]
    },
    {
     "name": "stderr",
     "output_type": "stream",
     "text": [
      "2024-04-24 07:18:51,136 - distributed.utils_perf - WARNING - full garbage collections took 75% CPU time recently (threshold: 10%)\n",
      "2024-04-24 07:18:51,552 - distributed.utils_perf - WARNING - full garbage collections took 75% CPU time recently (threshold: 10%)\n"
     ]
    },
    {
     "name": "stdout",
     "output_type": "stream",
     "text": [
      "coherence: 0.38841809604116284, n_alpha: 0.09234951562953231968565397412, alpha_str: asymmetric, n_beta: 0.9099999999999999200639422269887290894985198974609375, beta_str: 0.9099999999999999\n"
     ]
    },
    {
     "name": "stderr",
     "output_type": "stream",
     "text": [
      "2024-04-24 07:18:51,857 - distributed.utils_perf - WARNING - full garbage collections took 75% CPU time recently (threshold: 10%)\n",
      "2024-04-24 07:18:52,275 - distributed.utils_perf - WARNING - full garbage collections took 75% CPU time recently (threshold: 10%)\n",
      "2024-04-24 07:18:52,589 - distributed.utils_perf - WARNING - full garbage collections took 75% CPU time recently (threshold: 10%)\n"
     ]
    },
    {
     "name": "stdout",
     "output_type": "stream",
     "text": [
      "Adaptive throttling (attempt 1 of 4  for LdaModel hyperparameters combination -- topic: 52, ALPHA: 0.01 and ETA 0.01\n",
      "Adaptive throttling (method: exponential backoff) completed in 5.35 seconds\n",
      "\n"
     ]
    },
    {
     "name": "stderr",
     "output_type": "stream",
     "text": [
      "2024-04-24 07:18:55,259 - distributed.utils_perf - WARNING - full garbage collections took 74% CPU time recently (threshold: 10%)\n"
     ]
    },
    {
     "name": "stdout",
     "output_type": "stream",
     "text": [
      "\n",
      "Evaluating if adaptive throttling is necessary (method exponential backoff)...\n"
     ]
    },
    {
     "name": "stderr",
     "output_type": "stream",
     "text": [
      "2024-04-24 07:18:56,132 - distributed.utils_perf - WARNING - full garbage collections took 74% CPU time recently (threshold: 10%)\n"
     ]
    },
    {
     "name": "stdout",
     "output_type": "stream",
     "text": [
      "Adaptive throttling (attempt 0 of 4  for LdaModel hyperparameters combination -- topic: 52, ALPHA: 0.01 and ETA 0.31\n",
      "coherence: 0.34358720961330225, n_alpha: 0.01000000000000000020816681711721685132943093776702880859375, alpha_str: 0.01, n_beta: 0.125, beta_str: symmetric\n"
     ]
    },
    {
     "name": "stderr",
     "output_type": "stream",
     "text": [
      "2024-04-24 07:18:56,820 - distributed.utils_perf - WARNING - full garbage collections took 74% CPU time recently (threshold: 10%)\n"
     ]
    },
    {
     "name": "stdout",
     "output_type": "stream",
     "text": [
      "coherence: 0.2936255942840789, n_alpha: 0.01000000000000000020816681711721685132943093776702880859375, alpha_str: 0.01, n_beta: 0.125, beta_str: symmetric\n"
     ]
    },
    {
     "name": "stderr",
     "output_type": "stream",
     "text": [
      "2024-04-24 07:18:57,339 - distributed.utils_perf - WARNING - full garbage collections took 74% CPU time recently (threshold: 10%)\n",
      "2024-04-24 07:18:57,655 - distributed.utils_perf - WARNING - full garbage collections took 74% CPU time recently (threshold: 10%)\n",
      "2024-04-24 07:18:57,954 - distributed.utils_perf - WARNING - full garbage collections took 74% CPU time recently (threshold: 10%)\n",
      "2024-04-24 07:18:58,320 - distributed.utils_perf - WARNING - full garbage collections took 74% CPU time recently (threshold: 10%)\n",
      "2024-04-24 07:18:58,622 - distributed.utils_perf - WARNING - full garbage collections took 74% CPU time recently (threshold: 10%)\n"
     ]
    },
    {
     "name": "stdout",
     "output_type": "stream",
     "text": [
      "Adaptive throttling (attempt 1 of 4  for LdaModel hyperparameters combination -- topic: 52, ALPHA: 0.01 and ETA 0.31\n",
      "coherence: 0.34358720961330225, n_alpha: 0.01000000000000000020816681711721685132943093776702880859375, alpha_str: 0.01, n_beta: 0.01000000000000000020816681711721685132943093776702880859375, beta_str: 0.01\n"
     ]
    },
    {
     "name": "stderr",
     "output_type": "stream",
     "text": [
      "2024-04-24 07:19:03,023 - distributed.utils_perf - WARNING - full garbage collections took 74% CPU time recently (threshold: 10%)\n"
     ]
    },
    {
     "name": "stdout",
     "output_type": "stream",
     "text": [
      "coherence: 0.2936255942840789, n_alpha: 0.01000000000000000020816681711721685132943093776702880859375, alpha_str: 0.01, n_beta: 0.01000000000000000020816681711721685132943093776702880859375, beta_str: 0.01\n"
     ]
    },
    {
     "name": "stderr",
     "output_type": "stream",
     "text": [
      "2024-04-24 07:19:03,389 - distributed.utils_perf - WARNING - full garbage collections took 74% CPU time recently (threshold: 10%)\n",
      "2024-04-24 07:19:03,674 - distributed.utils_perf - WARNING - full garbage collections took 74% CPU time recently (threshold: 10%)\n",
      "2024-04-24 07:19:03,986 - distributed.utils_perf - WARNING - full garbage collections took 74% CPU time recently (threshold: 10%)\n"
     ]
    },
    {
     "ename": "KeyboardInterrupt",
     "evalue": "",
     "output_type": "error",
     "traceback": [
      "\u001b[1;31m---------------------------------------------------------------------------\u001b[0m",
      "\u001b[1;31mKeyboardInterrupt\u001b[0m                         Traceback (most recent call last)",
      "Cell \u001b[1;32mIn[18], line 119\u001b[0m\n\u001b[0;32m    117\u001b[0m     \u001b[38;5;28mprint\u001b[39m(\u001b[38;5;124mf\u001b[39m\u001b[38;5;124m\"\u001b[39m\u001b[38;5;124mAdaptive throttling (attempt \u001b[39m\u001b[38;5;132;01m{\u001b[39;00mthrottle_attempt\u001b[38;5;132;01m}\u001b[39;00m\u001b[38;5;124m of \u001b[39m\u001b[38;5;132;01m{\u001b[39;00mMAX_RETRIES\u001b[38;5;241m-\u001b[39m\u001b[38;5;241m1\u001b[39m\u001b[38;5;132;01m}\u001b[39;00m\u001b[38;5;124m\"\u001b[39m, end\u001b[38;5;241m=\u001b[39m\u001b[38;5;124m\"\u001b[39m\u001b[38;5;124m \u001b[39m\u001b[38;5;124m\"\u001b[39m)\n\u001b[0;32m    118\u001b[0m     \u001b[38;5;28mprint\u001b[39m(\u001b[38;5;124mf\u001b[39m\u001b[38;5;124m\"\u001b[39m\u001b[38;5;124m for LdaModel hyperparameters combination -- topic: \u001b[39m\u001b[38;5;132;01m{\u001b[39;00mn_topics\u001b[38;5;132;01m}\u001b[39;00m\u001b[38;5;124m, ALPHA: \u001b[39m\u001b[38;5;132;01m{\u001b[39;00malpha_value\u001b[38;5;132;01m}\u001b[39;00m\u001b[38;5;124m and ETA \u001b[39m\u001b[38;5;132;01m{\u001b[39;00mbeta_value\u001b[38;5;132;01m}\u001b[39;00m\u001b[38;5;124m\"\u001b[39m)\n\u001b[1;32m--> 119\u001b[0m     \u001b[43msleep\u001b[49m\u001b[43m(\u001b[49m\u001b[43mexponential_backoff\u001b[49m\u001b[43m(\u001b[49m\u001b[43mthrottle_attempt\u001b[49m\u001b[43m)\u001b[49m\u001b[43m)\u001b[49m\n\u001b[0;32m    120\u001b[0m     throttle_attempt \u001b[38;5;241m+\u001b[39m\u001b[38;5;241m=\u001b[39m \u001b[38;5;241m1\u001b[39m\n\u001b[0;32m    122\u001b[0m \u001b[38;5;28mprint\u001b[39m(\u001b[38;5;124mf\u001b[39m\u001b[38;5;124m\"\u001b[39m\u001b[38;5;124mAdaptive throttling (method: exponential backoff) \u001b[39m\u001b[38;5;132;01m{\u001b[39;00m\u001b[38;5;124m'\u001b[39m\u001b[38;5;124mcompleted in \u001b[39m\u001b[38;5;132;01m{:.2f}\u001b[39;00m\u001b[38;5;124m seconds\u001b[39m\u001b[38;5;124m'\u001b[39m\u001b[38;5;241m.\u001b[39mformat(time()\u001b[38;5;250m \u001b[39m\u001b[38;5;241m-\u001b[39m\u001b[38;5;250m \u001b[39mstarted)\u001b[38;5;250m \u001b[39m\u001b[38;5;28;01mif\u001b[39;00m\u001b[38;5;250m \u001b[39mthrottle_attempt\u001b[38;5;250m \u001b[39m\u001b[38;5;28;01melse\u001b[39;00m\u001b[38;5;250m \u001b[39m\u001b[38;5;124m'\u001b[39m\u001b[38;5;124mwas not necessary...\u001b[39m\u001b[38;5;124m'\u001b[39m\u001b[38;5;132;01m}\u001b[39;00m\u001b[38;5;130;01m\\n\u001b[39;00m\u001b[38;5;124m\"\u001b[39m)\n",
      "\u001b[1;31mKeyboardInterrupt\u001b[0m: "
     ]
    }
   ],
   "source": [
    "\n",
    "if __name__==\"__main__\":\n",
    "\n",
    "    cluster = LocalCluster(\n",
    "            n_workers=CORES,\n",
    "            threads_per_worker=THREADS_PER_CORE,\n",
    "            processes=False,\n",
    "            memory_limit=RAM_MEMORY_LIMIT,\n",
    "            local_directory=DASK_DIR,\n",
    "            #dashboard_address=None,\n",
    "            dashboard_address=\":8787\",\n",
    "            protocol=\"tcp\",\n",
    "    )\n",
    "\n",
    "\n",
    "    # Create the distributed client\n",
    "    client = Client(cluster)\n",
    "\n",
    "    client.cluster.adapt(minimum=CORES, maximum=14)\n",
    "\n",
    "    # Get information about workers from scheduler\n",
    "    workers_info = client.scheduler_info()[\"workers\"]\n",
    "\n",
    "    # Iterate over workers and set their memory limits\n",
    "    for worker_id, worker_info in workers_info.items():\n",
    "        worker_info[\"memory_limit\"] = RAM_MEMORY_LIMIT\n",
    "\n",
    "    # Verify that memory limits have been set correctly\n",
    "    #for worker_id, worker_info in workers_info.items():\n",
    "    #    print(f\"Worker {worker_id}: Memory Limit - {worker_info['memory_limit']}\")\n",
    "\n",
    "    # Check if the Dask client is connected to a scheduler:\n",
    "    if client.status == \"running\":\n",
    "        print(\"Dask client is connected to a scheduler.\")\n",
    "        # Scatter the embedding vectors across Dask workers\n",
    "    else:\n",
    "        print(\"Dask client is not connected to a scheduler.\")\n",
    "\n",
    "    # Check if Dask workers are running:\n",
    "    if len(client.scheduler_info()[\"workers\"]) > 0:\n",
    "        print(\"Dask workers are running.\")\n",
    "    else:\n",
    "        print(\"No Dask workers are running.\")\n",
    "\n",
    "    print(\"Creating training and evaluation samples...\")\n",
    "    \n",
    "    started = time()\n",
    "    \n",
    "    scattered_train_data_futures = []\n",
    "    scattered_eval_data_futures = []\n",
    "\n",
    "    total_num_samples = get_num_records(DATA_SOURCE)\n",
    "\n",
    "    whole_train_dataset = None\n",
    "    whole_eval_dataset = None\n",
    "\n",
    "    with tqdm(total=total_num_samples) as pbar:\n",
    "        # Process each batch as it is generated\n",
    "        for batch_info in futures_create_lda_datasets(DATA_SOURCE, TRAIN_RATIO, BATCH_SIZE):\n",
    "            if batch_info['type'] == 'train':\n",
    "                # Handle training data\n",
    "                scattered_future = client.scatter(batch_info['data'])\n",
    "                scattered_train_data_futures.append(scattered_future)\n",
    "                \n",
    "                if whole_train_dataset is None:\n",
    "                    whole_train_dataset = batch_info['whole_dataset']\n",
    "            elif batch_info['type'] == 'eval':\n",
    "                # Handle evaluation data\n",
    "                scattered_future = client.scatter(batch_info['data'])\n",
    "                scattered_eval_data_futures.append(scattered_future)\n",
    "\n",
    "                \n",
    "                if whole_eval_dataset is None:\n",
    "                    whole_eval_dataset = batch_info['whole_dataset']\n",
    "\n",
    "            # Update the progress bar with the cumulative count of samples processed\n",
    "            pbar.update(batch_info['cumulative_count'] - pbar.n)\n",
    "\n",
    "        pbar.close()  # Ensure closure of the progress bar\n",
    "\n",
    "    print(f\"Completed creation of training and evaluation samples in {round((time() - started)/60,2)} minutes.\\n\")\n",
    "   \n",
    "    print(\"Data scatter complete...\\n\")\n",
    "    garbage_collection(False, 'scattering training and eval data')\n",
    "\n",
    "\n",
    "    train_futures = []  # List to store futures for training\n",
    "    eval_futures = []  # List to store futures for evaluation\n",
    "   \n",
    "    num_topics = len(range(START_TOPICS, END_TOPICS + 1, STEP_SIZE))\n",
    "    num_alpha_values = len(alpha_values)\n",
    "    num_beta_values = len(beta_values)\n",
    "\n",
    "    # Create a list of all combinations of n_topics, alpha_value, and beta_value\n",
    "    combinations = list(itertools.product(range(START_TOPICS, END_TOPICS + 1, STEP_SIZE), alpha_values, beta_values))\n",
    "\n",
    "    # Calculate 20% of the length of combinations, ensuring it's an integer\n",
    "    print(f\"there are {len(combinations)} total number of topics and hyperparameters\")\n",
    "    sample_size = max(1, int(len(combinations) * 0.2))\n",
    "\n",
    "    # Select random_combinations conditionally\n",
    "    random_combinations = random.sample(combinations, sample_size) if sample_size < len(combinations) else combinations\n",
    "    print(f\"the random sample contains {len(random_combinations)}\")\n",
    "\n",
    "    # Determine which combinations were not drawn by using set difference\n",
    "    undrawn_combinations = list(set(combinations) - set(random_combinations))\n",
    "    print(f\"this leaves {len(undrawn_combinations)} remaining\\n\")\n",
    "\n",
    "    progress_bar = tqdm(total=(len(random_combinations)*2), desc=\"Creating and saving models\")\n",
    "    # Iterate over the combinations and submit tasks\n",
    "    for n_topics, alpha_value, beta_value in combinations:\n",
    "\n",
    "        # determine if throttling is needed\n",
    "        print(\"\\nEvaluating if adaptive throttling is necessary (method exponential backoff)...\")\n",
    "        started, throttle_attempt = time(), 0\n",
    "\n",
    "        while throttle_attempt < MAX_RETRIES and not all(worker['metrics']['cpu'] < CPU_UTILIZATION_THRESHOLD for worker in client.scheduler_info()['workers'].values()):\n",
    "            print(f\"Adaptive throttling (attempt {throttle_attempt} of {MAX_RETRIES-1}\", end=\" \")\n",
    "            print(f\" for LdaModel hyperparameters combination -- topic: {n_topics}, ALPHA: {alpha_value} and ETA {beta_value}\")\n",
    "            sleep(exponential_backoff(throttle_attempt))\n",
    "            throttle_attempt += 1\n",
    "\n",
    "        print(f\"Adaptive throttling (method: exponential backoff) {'completed in {:.2f} seconds'.format(time() - started) if throttle_attempt else 'was not necessary...'}\\n\")\n",
    "\n",
    "        future_train = client.submit(train_model, n_topics, alpha_value, beta_value, scattered_train_data_futures, whole_train_dataset)\n",
    "        future_eval = client.submit(train_model, n_topics, alpha_value, beta_value, scattered_eval_data_futures, whole_eval_dataset)\n",
    "        garbage_collection(False, 'client.submit(train_model(...) train and eval)')\n",
    "\n",
    "\n",
    "        # Map the created futures to their parameters so we can identify them later if needed\n",
    "        future_to_params[future_train] = ('train', n_topics, alpha_value, beta_value)\n",
    "        future_to_params[future_eval] = ('eval', n_topics, alpha_value, beta_value)\n",
    "\n",
    "        train_futures.append(future_train)\n",
    "        eval_futures.append(future_eval)\n",
    "    \n",
    "        # Check if it's time to process futures based on BATCH_SIZE\n",
    "        if len(train_futures) >= BATCH_SIZE:\n",
    "            #print(\"In holding pattern until WAIT completes.\")\n",
    "            started = time()\n",
    "            \n",
    "            done, not_done = wait(train_futures + eval_futures, timeout=None)\n",
    "            \n",
    "            elapsed_time = round(((time() - started) / 60), 2)\n",
    "            #print(f\"WAIT completed in {elapsed_time} minutes\")\n",
    "            \n",
    "            completed_train_futures = [f for f in done if f in train_futures]\n",
    "            completed_eval_futures = [f for f in done if f in eval_futures]\n",
    "\n",
    "            process_completed_futures(completed_train_futures, completed_eval_futures, LOG_DIR)\n",
    "            progress_bar.update(len(completed_train_futures) + len(completed_eval_futures))\n",
    "\n",
    "            # Handle failed futures using the previously defined function\n",
    "            for future in not_done:\n",
    "                handle_failed_future(future, future_to_params, train_futures,  eval_futures, client)\n",
    "\n",
    "            train_futures.clear()\n",
    "            eval_futures.clear()\n",
    "\n",
    "            # If no tasks are pending (i.e., all have been processed), consider increasing BATCH_SIZE.\n",
    "            if not not_done:\n",
    "                BATCH_SIZE = int(math.ceil(BATCH_SIZE * INCREASE_FACTOR)) if int(math.ceil(BATCH_SIZE * INCREASE_FACTOR)) < MAX_BATCH_SIZE else MAX_BATCH_SIZE\n",
    "                print(f\"Increasing batch size to {BATCH_SIZE}\")\n",
    "                \n",
    "            # If there are any tasks that were not done, consider decreasing BATCH_SIZE.\n",
    "            else:\n",
    "                BATCH_SIZE = max(1, int(BATCH_SIZE * DECREASE_FACTOR)) if max(1, int(BATCH_SIZE * DECREASE_FACTOR)) > 0 else 1 \n",
    "                print(f\"Decreasing batch size to {BATCH_SIZE}\")\n",
    "\n",
    "    # After all loops have finished running...\n",
    "    if len(train_futures) > 0 or len(eval_futures) > 0:\n",
    "        retry_processing(train_futures, eval_futures, TIMEOUT)\n",
    "\n",
    "\n",
    "    # Now give one more chance with extended timeout only to those that were incomplete previously\n",
    "    if len(failed_model_params) > 0:\n",
    "        print(\"Retrying incomplete models with extended timeout...\")\n",
    "        \n",
    "        # Create new lists for retrying futures\n",
    "        retry_train_futures = []\n",
    "        retry_eval_futures = []\n",
    "\n",
    "        # Resubmit tasks only for those that failed in the first attempt\n",
    "        for params in failed_model_params:\n",
    "            n_topics, alpha_value, beta_value = params\n",
    "            \n",
    "            with performance_report(filename=PERFORMANCE_TRAIN_LOG):\n",
    "                future_train_retry = client.submit(train_model, n_topics, alpha_value, beta_value, scattered_train_data_futures)\n",
    "                future_eval_retry = client.submit(train_model, n_topics, alpha_value, beta_value, scattered_eval_data_futures)\n",
    "\n",
    "            retry_train_futures.append(future_train_retry)\n",
    "            retry_eval_futures.append(future_eval_retry)\n",
    "\n",
    "            # Keep track of these new futures as well\n",
    "            future_to_params[future_train_retry] = params\n",
    "            future_to_params[future_eval_retry] = params\n",
    "\n",
    "        # Clear the list of failed model parameters before reattempting\n",
    "        failed_model_params.clear()\n",
    "\n",
    "        # Wait for all reattempted futures with an extended timeout (e.g., 120 seconds)\n",
    "        done, not_done = wait(retry_train_futures + retry_eval_futures, timeout=EXTENDED_TIMEOUT)\n",
    "\n",
    "        # Process completed ones after reattempting\n",
    "        process_completed_futures([f for f in done if f in retry_train_futures],\n",
    "                                [f for f in done if f in retry_eval_futures],\n",
    "                                LOG_DIR)\n",
    "        \n",
    "        progress_bar.update(len(done))\n",
    "\n",
    "        # Record parameters of still incomplete futures after reattempting for later review\n",
    "        for future in not_done:\n",
    "            failed_model_params.append(future_to_params[future])\n",
    "\n",
    "        # At this point `failed_model_params` contains the parameters of all models that didn't complete even after a retry\n",
    "\n",
    "    progress_bar.close()\n",
    "    client.close()\n",
    "\n",
    "    #if len(failed_model_params) > 0:\n",
    "    #    # You can now review `failed_model_params` to see which models did not complete successfully.\n",
    "    #    print(\"The following model parameters did not complete even after a second attempt:\")\n",
    "    #    perf_logger.info(\"The following model parameters did not complete even after a second attempt:\")\n",
    "    #    for params in failed_model_params:\n",
    "    #        pp.pprint(params)\n",
    "    #        perf_logger.info(params)\n",
    "            \n",
    "    client.close()\n",
    "    cluster.close()"
   ]
  },
  {
   "cell_type": "markdown",
   "metadata": {},
   "source": [
    "The provided code snippet is part of a larger program that appears to be running machine learning model training and evaluation tasks in parallel using Dask, a flexible parallel computing library for analytic computing. The code manages the execution of these tasks, handling retries for incomplete tasks, and tracking failures.\n",
    "\n",
    "The script begins by initializing an empty list called failed_model_params to store the parameters of models that fail to complete even after a retry. It also creates a dictionary named future_to_params to map \"futures\" (a representation of an asynchronous execution) to their corresponding model parameters.\n",
    "\n",
    "Two functions are defined: process_completed_futures, which processes completed futures, and retry_processing, which attempts to reprocess incomplete futures with an extended timeout period.\n",
    "\n",
    "The main part of the script sets up multiple training and evaluation tasks across different combinations of hyperparameters (n_topics, alpha_value, and beta_value). These tasks are submitted to a Dask client asynchronously using the client.submit method. Each task returns a future, which is then mapped to its parameters in the future_to_params dictionary for later reference.\n",
    "\n",
    "The script uses batch processing controlled by a variable called BATCH_SIZE. Once enough futures have been accumulated, or when all loops have finished running, it waits for all futures within each batch to complete using Dask's wait function with a specified timeout (TIMEOUT). Completed futures are processed while those that remain incomplete are recorded in the failed_model_params list for further action.\n",
    "\n",
    "After processing each batch, if there are any remaining futures (either from incomplete batches or from the final iteration), they are retried using the previously defined retry_processing function with the same timeout value.\n",
    "\n",
    "If there are still models that failed after this first attempt, they get one more chance. The script prints out a message indicating it will retry these incomplete models with an extended timeout (EXTENDED_TIMEOUT). It resubmits these tasks and waits again for completion. Any models that remain incomplete after this second attempt are added back into the failed_model_params.\n",
    "\n",
    "Finally, once all retries have been exhausted and progress has been tracked via a progress bar (tqdm), the Dask client is closed. The script prints out and logs information about any model parameters that did not complete successfully even after two attempts.\n",
    "\n",
    "In summary, this code automates the process of submitting parallelized machine learning training and evaluation jobs over various hyperparameter combinations, handles timeouts by retrying incomplete jobs,"
   ]
  },
  {
   "cell_type": "markdown",
   "metadata": {},
   "source": []
  },
  {
   "cell_type": "markdown",
   "metadata": {},
   "source": []
  },
  {
   "cell_type": "markdown",
   "metadata": {},
   "source": []
  }
 ],
 "metadata": {
  "kernelspec": {
   "display_name": "nlp",
   "language": "python",
   "name": "python3"
  },
  "language_info": {
   "codemirror_mode": {
    "name": "ipython",
    "version": 3
   },
   "file_extension": ".py",
   "mimetype": "text/x-python",
   "name": "python",
   "nbconvert_exporter": "python",
   "pygments_lexer": "ipython3",
   "version": "3.10.14"
  }
 },
 "nbformat": 4,
 "nbformat_minor": 4
}
